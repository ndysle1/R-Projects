{
 "cells": [
  {
   "cell_type": "markdown",
   "metadata": {},
   "source": [
    "# Model Building"
   ]
  },
  {
   "cell_type": "markdown",
   "metadata": {},
   "source": [
    "### Settings/Functions\n",
    "Read in settings and functions."
   ]
  },
  {
   "cell_type": "code",
   "execution_count": 51,
   "metadata": {
    "scrolled": true
   },
   "outputs": [
    {
     "data": {
      "text/html": [
       "<ol>\n",
       "\t<li>TRUE</li>\n",
       "\t<li>TRUE</li>\n",
       "\t<li>TRUE</li>\n",
       "\t<li>TRUE</li>\n",
       "\t<li>TRUE</li>\n",
       "\t<li>TRUE</li>\n",
       "\t<li>TRUE</li>\n",
       "\t<li>TRUE</li>\n",
       "\t<li>TRUE</li>\n",
       "\t<li>TRUE</li>\n",
       "\t<li>TRUE</li>\n",
       "</ol>\n"
      ],
      "text/latex": [
       "\\begin{enumerate}\n",
       "\\item TRUE\n",
       "\\item TRUE\n",
       "\\item TRUE\n",
       "\\item TRUE\n",
       "\\item TRUE\n",
       "\\item TRUE\n",
       "\\item TRUE\n",
       "\\item TRUE\n",
       "\\item TRUE\n",
       "\\item TRUE\n",
       "\\item TRUE\n",
       "\\end{enumerate}\n"
      ],
      "text/markdown": [
       "1. TRUE\n",
       "2. TRUE\n",
       "3. TRUE\n",
       "4. TRUE\n",
       "5. TRUE\n",
       "6. TRUE\n",
       "7. TRUE\n",
       "8. TRUE\n",
       "9. TRUE\n",
       "10. TRUE\n",
       "11. TRUE\n",
       "\n",
       "\n"
      ],
      "text/plain": [
       "[[1]]\n",
       "[1] TRUE\n",
       "\n",
       "[[2]]\n",
       "[1] TRUE\n",
       "\n",
       "[[3]]\n",
       "[1] TRUE\n",
       "\n",
       "[[4]]\n",
       "[1] TRUE\n",
       "\n",
       "[[5]]\n",
       "[1] TRUE\n",
       "\n",
       "[[6]]\n",
       "[1] TRUE\n",
       "\n",
       "[[7]]\n",
       "[1] TRUE\n",
       "\n",
       "[[8]]\n",
       "[1] TRUE\n",
       "\n",
       "[[9]]\n",
       "[1] TRUE\n",
       "\n",
       "[[10]]\n",
       "[1] TRUE\n",
       "\n",
       "[[11]]\n",
       "[1] TRUE\n"
      ]
     },
     "metadata": {},
     "output_type": "display_data"
    }
   ],
   "source": [
    "libraries <-c('here','caret','Metrics','MLmetrics','randomForest'\n",
    "              ,'caTools','rpart.plot','ROCR','MASS','RANN','regclass')\n",
    "suppressWarnings(lapply(libraries, require, character.only = TRUE))\n",
    "suppressWarnings(source(here::here('Stock Estimation', 'settings.R')))"
   ]
  },
  {
   "cell_type": "markdown",
   "metadata": {},
   "source": [
    "## Data"
   ]
  },
  {
   "cell_type": "markdown",
   "metadata": {},
   "source": [
    " - The only data set needed for this stage of the analysis is the cleaned data. Although a mean imputed data set was created and exported to CSV in the last stage, I have decided to impute the missing values as part of a preprocess technique that will also scale my data set at the same time."
   ]
  },
  {
   "cell_type": "code",
   "execution_count": 2,
   "metadata": {
    "scrolled": true
   },
   "outputs": [],
   "source": [
    "data <- fread(paste0(dir$final_data,'clean_financial.csv')) "
   ]
  },
  {
   "cell_type": "code",
   "execution_count": 3,
   "metadata": {},
   "outputs": [
    {
     "data": {
      "text/html": [
       "TRUE"
      ],
      "text/latex": [
       "TRUE"
      ],
      "text/markdown": [
       "TRUE"
      ],
      "text/plain": [
       "[1] TRUE"
      ]
     },
     "metadata": {},
     "output_type": "display_data"
    },
    {
     "data": {
      "text/plain": [
       "\n",
       "        0         1 \n",
       "0.4374275 0.5625725 "
      ]
     },
     "metadata": {},
     "output_type": "display_data"
    }
   ],
   "source": [
    "#Checking the proportions of my completed data set\n",
    "complete <- na.omit(data)\n",
    "is.data.frame(complete)\n",
    "\n",
    "prop.table(table(complete$class))\n",
    "\n",
    "complete <- complete[,-c('nextyr_price_var')]\n",
    "complete$class <- as.factor(complete$class)\n",
    "complete <- complete[, -c('stock','sector')]\n",
    "#The proportions show that there are more \"Buy\" stocks (class = 1) than there are \"Not Buy\" stocks (class = 0) in the dataset"
   ]
  },
  {
   "cell_type": "code",
   "execution_count": 4,
   "metadata": {
    "scrolled": true
   },
   "outputs": [
    {
     "data": {
      "text/html": [
       "<table>\n",
       "<caption>A grouped_df: 10 × 4</caption>\n",
       "<thead>\n",
       "\t<tr><th scope=col>year</th><th scope=col>class</th><th scope=col>n</th><th scope=col>freq</th></tr>\n",
       "\t<tr><th scope=col>&lt;int&gt;</th><th scope=col>&lt;fct&gt;</th><th scope=col>&lt;int&gt;</th><th scope=col>&lt;dbl&gt;</th></tr>\n",
       "</thead>\n",
       "<tbody>\n",
       "\t<tr><td>2014</td><td>0</td><td> 671</td><td>0.6007162</td></tr>\n",
       "\t<tr><td>2014</td><td>1</td><td> 446</td><td>0.3992838</td></tr>\n",
       "\t<tr><td>2015</td><td>0</td><td> 410</td><td>0.2798635</td></tr>\n",
       "\t<tr><td>2015</td><td>1</td><td>1055</td><td>0.7201365</td></tr>\n",
       "\t<tr><td>2016</td><td>0</td><td> 647</td><td>0.3566703</td></tr>\n",
       "\t<tr><td>2016</td><td>1</td><td>1167</td><td>0.6433297</td></tr>\n",
       "\t<tr><td>2017</td><td>0</td><td>1354</td><td>0.6897606</td></tr>\n",
       "\t<tr><td>2017</td><td>1</td><td> 609</td><td>0.3102394</td></tr>\n",
       "\t<tr><td>2018</td><td>0</td><td> 613</td><td>0.2935824</td></tr>\n",
       "\t<tr><td>2018</td><td>1</td><td>1475</td><td>0.7064176</td></tr>\n",
       "</tbody>\n",
       "</table>\n"
      ],
      "text/latex": [
       "A grouped\\_df: 10 × 4\n",
       "\\begin{tabular}{llll}\n",
       " year & class & n & freq\\\\\n",
       " <int> & <fct> & <int> & <dbl>\\\\\n",
       "\\hline\n",
       "\t 2014 & 0 &  671 & 0.6007162\\\\\n",
       "\t 2014 & 1 &  446 & 0.3992838\\\\\n",
       "\t 2015 & 0 &  410 & 0.2798635\\\\\n",
       "\t 2015 & 1 & 1055 & 0.7201365\\\\\n",
       "\t 2016 & 0 &  647 & 0.3566703\\\\\n",
       "\t 2016 & 1 & 1167 & 0.6433297\\\\\n",
       "\t 2017 & 0 & 1354 & 0.6897606\\\\\n",
       "\t 2017 & 1 &  609 & 0.3102394\\\\\n",
       "\t 2018 & 0 &  613 & 0.2935824\\\\\n",
       "\t 2018 & 1 & 1475 & 0.7064176\\\\\n",
       "\\end{tabular}\n"
      ],
      "text/markdown": [
       "\n",
       "A grouped_df: 10 × 4\n",
       "\n",
       "| year &lt;int&gt; | class &lt;fct&gt; | n &lt;int&gt; | freq &lt;dbl&gt; |\n",
       "|---|---|---|---|\n",
       "| 2014 | 0 |  671 | 0.6007162 |\n",
       "| 2014 | 1 |  446 | 0.3992838 |\n",
       "| 2015 | 0 |  410 | 0.2798635 |\n",
       "| 2015 | 1 | 1055 | 0.7201365 |\n",
       "| 2016 | 0 |  647 | 0.3566703 |\n",
       "| 2016 | 1 | 1167 | 0.6433297 |\n",
       "| 2017 | 0 | 1354 | 0.6897606 |\n",
       "| 2017 | 1 |  609 | 0.3102394 |\n",
       "| 2018 | 0 |  613 | 0.2935824 |\n",
       "| 2018 | 1 | 1475 | 0.7064176 |\n",
       "\n"
      ],
      "text/plain": [
       "   year class n    freq     \n",
       "1  2014 0      671 0.6007162\n",
       "2  2014 1      446 0.3992838\n",
       "3  2015 0      410 0.2798635\n",
       "4  2015 1     1055 0.7201365\n",
       "5  2016 0      647 0.3566703\n",
       "6  2016 1     1167 0.6433297\n",
       "7  2017 0     1354 0.6897606\n",
       "8  2017 1      609 0.3102394\n",
       "9  2018 0      613 0.2935824\n",
       "10 2018 1     1475 0.7064176"
      ]
     },
     "metadata": {},
     "output_type": "display_data"
    },
    {
     "data": {
      "text/html": [
       "<table>\n",
       "<caption>A grouped_df: 10 × 4</caption>\n",
       "<thead>\n",
       "\t<tr><th scope=col>year</th><th scope=col>class</th><th scope=col>n</th><th scope=col>freq</th></tr>\n",
       "\t<tr><th scope=col>&lt;int&gt;</th><th scope=col>&lt;fct&gt;</th><th scope=col>&lt;int&gt;</th><th scope=col>&lt;dbl&gt;</th></tr>\n",
       "</thead>\n",
       "<tbody>\n",
       "\t<tr><td>2014</td><td>0</td><td>280</td><td>0.5833333</td></tr>\n",
       "\t<tr><td>2014</td><td>1</td><td>200</td><td>0.4166667</td></tr>\n",
       "\t<tr><td>2015</td><td>0</td><td>192</td><td>0.2935780</td></tr>\n",
       "\t<tr><td>2015</td><td>1</td><td>462</td><td>0.7064220</td></tr>\n",
       "\t<tr><td>2016</td><td>0</td><td>268</td><td>0.3409669</td></tr>\n",
       "\t<tr><td>2016</td><td>1</td><td>518</td><td>0.6590331</td></tr>\n",
       "\t<tr><td>2017</td><td>0</td><td>586</td><td>0.7017964</td></tr>\n",
       "\t<tr><td>2017</td><td>1</td><td>249</td><td>0.2982036</td></tr>\n",
       "\t<tr><td>2018</td><td>0</td><td>257</td><td>0.2974537</td></tr>\n",
       "\t<tr><td>2018</td><td>1</td><td>607</td><td>0.7025463</td></tr>\n",
       "</tbody>\n",
       "</table>\n"
      ],
      "text/latex": [
       "A grouped\\_df: 10 × 4\n",
       "\\begin{tabular}{llll}\n",
       " year & class & n & freq\\\\\n",
       " <int> & <fct> & <int> & <dbl>\\\\\n",
       "\\hline\n",
       "\t 2014 & 0 & 280 & 0.5833333\\\\\n",
       "\t 2014 & 1 & 200 & 0.4166667\\\\\n",
       "\t 2015 & 0 & 192 & 0.2935780\\\\\n",
       "\t 2015 & 1 & 462 & 0.7064220\\\\\n",
       "\t 2016 & 0 & 268 & 0.3409669\\\\\n",
       "\t 2016 & 1 & 518 & 0.6590331\\\\\n",
       "\t 2017 & 0 & 586 & 0.7017964\\\\\n",
       "\t 2017 & 1 & 249 & 0.2982036\\\\\n",
       "\t 2018 & 0 & 257 & 0.2974537\\\\\n",
       "\t 2018 & 1 & 607 & 0.7025463\\\\\n",
       "\\end{tabular}\n"
      ],
      "text/markdown": [
       "\n",
       "A grouped_df: 10 × 4\n",
       "\n",
       "| year &lt;int&gt; | class &lt;fct&gt; | n &lt;int&gt; | freq &lt;dbl&gt; |\n",
       "|---|---|---|---|\n",
       "| 2014 | 0 | 280 | 0.5833333 |\n",
       "| 2014 | 1 | 200 | 0.4166667 |\n",
       "| 2015 | 0 | 192 | 0.2935780 |\n",
       "| 2015 | 1 | 462 | 0.7064220 |\n",
       "| 2016 | 0 | 268 | 0.3409669 |\n",
       "| 2016 | 1 | 518 | 0.6590331 |\n",
       "| 2017 | 0 | 586 | 0.7017964 |\n",
       "| 2017 | 1 | 249 | 0.2982036 |\n",
       "| 2018 | 0 | 257 | 0.2974537 |\n",
       "| 2018 | 1 | 607 | 0.7025463 |\n",
       "\n"
      ],
      "text/plain": [
       "   year class n   freq     \n",
       "1  2014 0     280 0.5833333\n",
       "2  2014 1     200 0.4166667\n",
       "3  2015 0     192 0.2935780\n",
       "4  2015 1     462 0.7064220\n",
       "5  2016 0     268 0.3409669\n",
       "6  2016 1     518 0.6590331\n",
       "7  2017 0     586 0.7017964\n",
       "8  2017 1     249 0.2982036\n",
       "9  2018 0     257 0.2974537\n",
       "10 2018 1     607 0.7025463"
      ]
     },
     "metadata": {},
     "output_type": "display_data"
    }
   ],
   "source": [
    "#Determing how best to split the dataset\n",
    "#Splitting 70/30\n",
    "split <- sample.split(complete$class, SplitRatio = 0.70)\n",
    "train <- subset(complete, split == TRUE)\n",
    "test <- subset(complete, split == FALSE)\n",
    "\n",
    "train %>%\n",
    "  group_by(year, class) %>%\n",
    "  summarise(n = n()) %>%\n",
    "  mutate(freq = n / sum(n))\n",
    "\n",
    "test %>%\n",
    "  group_by(year, class) %>%\n",
    "  summarise(n = n()) %>%\n",
    "  mutate(freq = n / sum(n))"
   ]
  },
  {
   "cell_type": "code",
   "execution_count": 5,
   "metadata": {
    "scrolled": true
   },
   "outputs": [
    {
     "data": {
      "text/plain": [
       "Confusion Matrix and Statistics\n",
       "\n",
       "          Reference\n",
       "Prediction    0    1\n",
       "         0 1118  733\n",
       "         1  465 1303\n",
       "                                          \n",
       "               Accuracy : 0.669           \n",
       "                 95% CI : (0.6534, 0.6843)\n",
       "    No Information Rate : 0.5626          \n",
       "    P-Value [Acc > NIR] : < 2.2e-16       \n",
       "                                          \n",
       "                  Kappa : 0.3398          \n",
       "                                          \n",
       " Mcnemar's Test P-Value : 1.219e-14       \n",
       "                                          \n",
       "              Precision : 0.6040          \n",
       "                 Recall : 0.7063          \n",
       "                     F1 : 0.6511          \n",
       "             Prevalence : 0.4374          \n",
       "         Detection Rate : 0.3089          \n",
       "   Detection Prevalence : 0.5115          \n",
       "      Balanced Accuracy : 0.6731          \n",
       "                                          \n",
       "       'Positive' Class : 0               \n",
       "                                          "
      ]
     },
     "metadata": {},
     "output_type": "display_data"
    }
   ],
   "source": [
    "dtree <- rpart(class ~ ., data = train, method = \"class\")\n",
    "pred_dtree <- predict(dtree, test, type = \"class\")\n",
    "confusionMatrix(pred_dtree, test$class, mode = \"prec_recall\")"
   ]
  },
  {
   "cell_type": "code",
   "execution_count": 6,
   "metadata": {},
   "outputs": [
    {
     "data": {
      "text/html": [
       "<table>\n",
       "<caption>A data.frame: 5 × 2</caption>\n",
       "<thead>\n",
       "\t<tr><th></th><th scope=col>Overall</th><th scope=col>names</th></tr>\n",
       "\t<tr><th></th><th scope=col>&lt;dbl&gt;</th><th scope=col>&lt;chr&gt;</th></tr>\n",
       "</thead>\n",
       "<tbody>\n",
       "\t<tr><th scope=row>year</th><td>591.34394</td><td>year                           </td></tr>\n",
       "\t<tr><th scope=row>effect_of_forex_changes_on_cash</th><td>202.34956</td><td>effect_of_forex_changes_on_cash</td></tr>\n",
       "\t<tr><th scope=row>earnings_yield</th><td>125.92059</td><td>earnings_yield                 </td></tr>\n",
       "\t<tr><th scope=row>pe_ratio</th><td>104.43702</td><td>pe_ratio                       </td></tr>\n",
       "\t<tr><th scope=row>consolidated_income</th><td> 99.16256</td><td>consolidated_income            </td></tr>\n",
       "</tbody>\n",
       "</table>\n"
      ],
      "text/latex": [
       "A data.frame: 5 × 2\n",
       "\\begin{tabular}{r|ll}\n",
       "  & Overall & names\\\\\n",
       "  & <dbl> & <chr>\\\\\n",
       "\\hline\n",
       "\tyear & 591.34394 & year                           \\\\\n",
       "\teffect\\_of\\_forex\\_changes\\_on\\_cash & 202.34956 & effect\\_of\\_forex\\_changes\\_on\\_cash\\\\\n",
       "\tearnings\\_yield & 125.92059 & earnings\\_yield                 \\\\\n",
       "\tpe\\_ratio & 104.43702 & pe\\_ratio                       \\\\\n",
       "\tconsolidated\\_income &  99.16256 & consolidated\\_income            \\\\\n",
       "\\end{tabular}\n"
      ],
      "text/markdown": [
       "\n",
       "A data.frame: 5 × 2\n",
       "\n",
       "| <!--/--> | Overall &lt;dbl&gt; | names &lt;chr&gt; |\n",
       "|---|---|---|\n",
       "| year | 591.34394 | year                            |\n",
       "| effect_of_forex_changes_on_cash | 202.34956 | effect_of_forex_changes_on_cash |\n",
       "| earnings_yield | 125.92059 | earnings_yield                  |\n",
       "| pe_ratio | 104.43702 | pe_ratio                        |\n",
       "| consolidated_income |  99.16256 | consolidated_income             |\n",
       "\n"
      ],
      "text/plain": [
       "                                Overall   names                          \n",
       "year                            591.34394 year                           \n",
       "effect_of_forex_changes_on_cash 202.34956 effect_of_forex_changes_on_cash\n",
       "earnings_yield                  125.92059 earnings_yield                 \n",
       "pe_ratio                        104.43702 pe_ratio                       \n",
       "consolidated_income              99.16256 consolidated_income            "
      ]
     },
     "metadata": {},
     "output_type": "display_data"
    }
   ],
   "source": [
    "importance <- varImp(dtree)\n",
    "importance$names <- row.names(importance)\n",
    "varlist <- importance[order(importance$Overall,decreasing = T),]\n",
    "head(varlist, n = 5)"
   ]
  },
  {
   "cell_type": "code",
   "execution_count": 7,
   "metadata": {
    "scrolled": true
   },
   "outputs": [
    {
     "data": {
      "text/html": [
       "<table>\n",
       "<caption>A grouped_df: 8 × 4</caption>\n",
       "<thead>\n",
       "\t<tr><th scope=col>year</th><th scope=col>class</th><th scope=col>n</th><th scope=col>freq</th></tr>\n",
       "\t<tr><th scope=col>&lt;int&gt;</th><th scope=col>&lt;fct&gt;</th><th scope=col>&lt;int&gt;</th><th scope=col>&lt;dbl&gt;</th></tr>\n",
       "</thead>\n",
       "<tbody>\n",
       "\t<tr><td>2014</td><td>0</td><td> 951</td><td>0.5954915</td></tr>\n",
       "\t<tr><td>2014</td><td>1</td><td> 646</td><td>0.4045085</td></tr>\n",
       "\t<tr><td>2015</td><td>0</td><td> 602</td><td>0.2840963</td></tr>\n",
       "\t<tr><td>2015</td><td>1</td><td>1517</td><td>0.7159037</td></tr>\n",
       "\t<tr><td>2016</td><td>0</td><td> 915</td><td>0.3519231</td></tr>\n",
       "\t<tr><td>2016</td><td>1</td><td>1685</td><td>0.6480769</td></tr>\n",
       "\t<tr><td>2017</td><td>0</td><td>1940</td><td>0.6933524</td></tr>\n",
       "\t<tr><td>2017</td><td>1</td><td> 858</td><td>0.3066476</td></tr>\n",
       "</tbody>\n",
       "</table>\n"
      ],
      "text/latex": [
       "A grouped\\_df: 8 × 4\n",
       "\\begin{tabular}{llll}\n",
       " year & class & n & freq\\\\\n",
       " <int> & <fct> & <int> & <dbl>\\\\\n",
       "\\hline\n",
       "\t 2014 & 0 &  951 & 0.5954915\\\\\n",
       "\t 2014 & 1 &  646 & 0.4045085\\\\\n",
       "\t 2015 & 0 &  602 & 0.2840963\\\\\n",
       "\t 2015 & 1 & 1517 & 0.7159037\\\\\n",
       "\t 2016 & 0 &  915 & 0.3519231\\\\\n",
       "\t 2016 & 1 & 1685 & 0.6480769\\\\\n",
       "\t 2017 & 0 & 1940 & 0.6933524\\\\\n",
       "\t 2017 & 1 &  858 & 0.3066476\\\\\n",
       "\\end{tabular}\n"
      ],
      "text/markdown": [
       "\n",
       "A grouped_df: 8 × 4\n",
       "\n",
       "| year &lt;int&gt; | class &lt;fct&gt; | n &lt;int&gt; | freq &lt;dbl&gt; |\n",
       "|---|---|---|---|\n",
       "| 2014 | 0 |  951 | 0.5954915 |\n",
       "| 2014 | 1 |  646 | 0.4045085 |\n",
       "| 2015 | 0 |  602 | 0.2840963 |\n",
       "| 2015 | 1 | 1517 | 0.7159037 |\n",
       "| 2016 | 0 |  915 | 0.3519231 |\n",
       "| 2016 | 1 | 1685 | 0.6480769 |\n",
       "| 2017 | 0 | 1940 | 0.6933524 |\n",
       "| 2017 | 1 |  858 | 0.3066476 |\n",
       "\n"
      ],
      "text/plain": [
       "  year class n    freq     \n",
       "1 2014 0      951 0.5954915\n",
       "2 2014 1      646 0.4045085\n",
       "3 2015 0      602 0.2840963\n",
       "4 2015 1     1517 0.7159037\n",
       "5 2016 0      915 0.3519231\n",
       "6 2016 1     1685 0.6480769\n",
       "7 2017 0     1940 0.6933524\n",
       "8 2017 1      858 0.3066476"
      ]
     },
     "metadata": {},
     "output_type": "display_data"
    },
    {
     "data": {
      "text/html": [
       "<table>\n",
       "<caption>A grouped_df: 2 × 4</caption>\n",
       "<thead>\n",
       "\t<tr><th scope=col>year</th><th scope=col>class</th><th scope=col>n</th><th scope=col>freq</th></tr>\n",
       "\t<tr><th scope=col>&lt;int&gt;</th><th scope=col>&lt;fct&gt;</th><th scope=col>&lt;int&gt;</th><th scope=col>&lt;dbl&gt;</th></tr>\n",
       "</thead>\n",
       "<tbody>\n",
       "\t<tr><td>2018</td><td>0</td><td> 870</td><td>0.2947154</td></tr>\n",
       "\t<tr><td>2018</td><td>1</td><td>2082</td><td>0.7052846</td></tr>\n",
       "</tbody>\n",
       "</table>\n"
      ],
      "text/latex": [
       "A grouped\\_df: 2 × 4\n",
       "\\begin{tabular}{llll}\n",
       " year & class & n & freq\\\\\n",
       " <int> & <fct> & <int> & <dbl>\\\\\n",
       "\\hline\n",
       "\t 2018 & 0 &  870 & 0.2947154\\\\\n",
       "\t 2018 & 1 & 2082 & 0.7052846\\\\\n",
       "\\end{tabular}\n"
      ],
      "text/markdown": [
       "\n",
       "A grouped_df: 2 × 4\n",
       "\n",
       "| year &lt;int&gt; | class &lt;fct&gt; | n &lt;int&gt; | freq &lt;dbl&gt; |\n",
       "|---|---|---|---|\n",
       "| 2018 | 0 |  870 | 0.2947154 |\n",
       "| 2018 | 1 | 2082 | 0.7052846 |\n",
       "\n"
      ],
      "text/plain": [
       "  year class n    freq     \n",
       "1 2018 0      870 0.2947154\n",
       "2 2018 1     2082 0.7052846"
      ]
     },
     "metadata": {},
     "output_type": "display_data"
    }
   ],
   "source": [
    "#Splitting by year 2018 vs all previous\n",
    "train <- complete %>% filter(year != 2018)\n",
    "test <- complete %>% filter(year == 2018)\n",
    "\n",
    "train %>%\n",
    "  group_by(year, class) %>%\n",
    "  summarise(n = n()) %>%\n",
    "  mutate(freq = n / sum(n))\n",
    "\n",
    "test %>%\n",
    "  group_by(year, class) %>%\n",
    "  summarise(n = n()) %>%\n",
    "  mutate(freq = n / sum(n))"
   ]
  },
  {
   "cell_type": "code",
   "execution_count": 8,
   "metadata": {
    "scrolled": true
   },
   "outputs": [
    {
     "data": {
      "text/plain": [
       "Confusion Matrix and Statistics\n",
       "\n",
       "          Reference\n",
       "Prediction    0    1\n",
       "         0  870 2082\n",
       "         1    0    0\n",
       "                                          \n",
       "               Accuracy : 0.2947          \n",
       "                 95% CI : (0.2783, 0.3115)\n",
       "    No Information Rate : 0.7053          \n",
       "    P-Value [Acc > NIR] : 1               \n",
       "                                          \n",
       "                  Kappa : 0               \n",
       "                                          \n",
       " Mcnemar's Test P-Value : <2e-16          \n",
       "                                          \n",
       "              Precision : 0.2947          \n",
       "                 Recall : 1.0000          \n",
       "                     F1 : 0.4553          \n",
       "             Prevalence : 0.2947          \n",
       "         Detection Rate : 0.2947          \n",
       "   Detection Prevalence : 1.0000          \n",
       "      Balanced Accuracy : 0.5000          \n",
       "                                          \n",
       "       'Positive' Class : 0               \n",
       "                                          "
      ]
     },
     "metadata": {},
     "output_type": "display_data"
    }
   ],
   "source": [
    "dtree <- rpart(class ~ ., data = train, method = \"class\")\n",
    "pred_dtree <- predict(dtree, test, type = \"class\")\n",
    "confusionMatrix(pred_dtree, test$class, mode = \"prec_recall\")"
   ]
  },
  {
   "cell_type": "code",
   "execution_count": 9,
   "metadata": {},
   "outputs": [
    {
     "data": {
      "text/html": [
       "<table>\n",
       "<caption>A data.frame: 5 × 2</caption>\n",
       "<thead>\n",
       "\t<tr><th></th><th scope=col>Overall</th><th scope=col>names</th></tr>\n",
       "\t<tr><th></th><th scope=col>&lt;dbl&gt;</th><th scope=col>&lt;chr&gt;</th></tr>\n",
       "</thead>\n",
       "<tbody>\n",
       "\t<tr><th scope=row>year</th><td>534.28946</td><td>year                            </td></tr>\n",
       "\t<tr><th scope=row>earnings_per_share</th><td>251.22977</td><td>earnings_per_share              </td></tr>\n",
       "\t<tr><th scope=row>earnings_yield</th><td>245.78573</td><td>earnings_yield                  </td></tr>\n",
       "\t<tr><th scope=row>capitalexpenditurecoverageratios</th><td>103.05688</td><td>capitalexpenditurecoverageratios</td></tr>\n",
       "\t<tr><th scope=row>effect_of_forex_changes_on_cash</th><td> 99.22573</td><td>effect_of_forex_changes_on_cash </td></tr>\n",
       "</tbody>\n",
       "</table>\n"
      ],
      "text/latex": [
       "A data.frame: 5 × 2\n",
       "\\begin{tabular}{r|ll}\n",
       "  & Overall & names\\\\\n",
       "  & <dbl> & <chr>\\\\\n",
       "\\hline\n",
       "\tyear & 534.28946 & year                            \\\\\n",
       "\tearnings\\_per\\_share & 251.22977 & earnings\\_per\\_share              \\\\\n",
       "\tearnings\\_yield & 245.78573 & earnings\\_yield                  \\\\\n",
       "\tcapitalexpenditurecoverageratios & 103.05688 & capitalexpenditurecoverageratios\\\\\n",
       "\teffect\\_of\\_forex\\_changes\\_on\\_cash &  99.22573 & effect\\_of\\_forex\\_changes\\_on\\_cash \\\\\n",
       "\\end{tabular}\n"
      ],
      "text/markdown": [
       "\n",
       "A data.frame: 5 × 2\n",
       "\n",
       "| <!--/--> | Overall &lt;dbl&gt; | names &lt;chr&gt; |\n",
       "|---|---|---|\n",
       "| year | 534.28946 | year                             |\n",
       "| earnings_per_share | 251.22977 | earnings_per_share               |\n",
       "| earnings_yield | 245.78573 | earnings_yield                   |\n",
       "| capitalexpenditurecoverageratios | 103.05688 | capitalexpenditurecoverageratios |\n",
       "| effect_of_forex_changes_on_cash |  99.22573 | effect_of_forex_changes_on_cash  |\n",
       "\n"
      ],
      "text/plain": [
       "                                 Overall   names                           \n",
       "year                             534.28946 year                            \n",
       "earnings_per_share               251.22977 earnings_per_share              \n",
       "earnings_yield                   245.78573 earnings_yield                  \n",
       "capitalexpenditurecoverageratios 103.05688 capitalexpenditurecoverageratios\n",
       "effect_of_forex_changes_on_cash   99.22573 effect_of_forex_changes_on_cash "
      ]
     },
     "metadata": {},
     "output_type": "display_data"
    }
   ],
   "source": [
    "importance <- varImp(dtree)\n",
    "importance$names <- row.names(importance)\n",
    "varlist <- importance[order(importance$Overall,decreasing = T),]\n",
    "head(varlist, n = 5)"
   ]
  },
  {
   "cell_type": "markdown",
   "metadata": {},
   "source": [
    "## Data Splitting"
   ]
  },
  {
   "cell_type": "markdown",
   "metadata": {},
   "source": [
    " - Due to the high importance of the \"year\" variable, I believe it was best to remove the year variable from the dataset so that the model does not simply classify \"class\" primarily on the \"year\" variable.\n",
    " - Since stock performance can fluctuate substantially from year to year, I believe this will create a more accurate model."
   ]
  },
  {
   "cell_type": "code",
   "execution_count": 10,
   "metadata": {},
   "outputs": [
    {
     "data": {
      "text/plain": [
       "\n",
       "        0         1 \n",
       "0.4374334 0.5625666 "
      ]
     },
     "metadata": {},
     "output_type": "display_data"
    },
    {
     "data": {
      "text/plain": [
       "\n",
       "        0         1 \n",
       "0.4374137 0.5625863 "
      ]
     },
     "metadata": {},
     "output_type": "display_data"
    },
    {
     "data": {
      "text/html": [
       "<style>\n",
       ".list-inline {list-style: none; margin:0; padding: 0}\n",
       ".list-inline>li {display: inline-block}\n",
       ".list-inline>li:not(:last-child)::after {content: \"\\00b7\"; padding: 0 .5ex}\n",
       "</style>\n",
       "<ol class=list-inline><li>8447</li><li>94</li></ol>\n"
      ],
      "text/latex": [
       "\\begin{enumerate*}\n",
       "\\item 8447\n",
       "\\item 94\n",
       "\\end{enumerate*}\n"
      ],
      "text/markdown": [
       "1. 8447\n",
       "2. 94\n",
       "\n",
       "\n"
      ],
      "text/plain": [
       "[1] 8447   94"
      ]
     },
     "metadata": {},
     "output_type": "display_data"
    },
    {
     "data": {
      "text/html": [
       "<style>\n",
       ".list-inline {list-style: none; margin:0; padding: 0}\n",
       ".list-inline>li {display: inline-block}\n",
       ".list-inline>li:not(:last-child)::after {content: \"\\00b7\"; padding: 0 .5ex}\n",
       "</style>\n",
       "<ol class=list-inline><li>3619</li><li>94</li></ol>\n"
      ],
      "text/latex": [
       "\\begin{enumerate*}\n",
       "\\item 3619\n",
       "\\item 94\n",
       "\\end{enumerate*}\n"
      ],
      "text/markdown": [
       "1. 3619\n",
       "2. 94\n",
       "\n",
       "\n"
      ],
      "text/plain": [
       "[1] 3619   94"
      ]
     },
     "metadata": {},
     "output_type": "display_data"
    }
   ],
   "source": [
    "#Removing year\n",
    "complete <- complete[, -c('year')]\n",
    "\n",
    "#Splitting the dataset into two and checking proportions\n",
    "split <- sample.split(complete$class, SplitRatio = 0.70)\n",
    "train <- subset(complete, split == TRUE)\n",
    "test <- subset(complete, split == FALSE)\n",
    "\n",
    "prop.table(table(train$class))\n",
    "prop.table(table(test$class))\n",
    "\n",
    "dim(train)\n",
    "dim(test)"
   ]
  },
  {
   "cell_type": "code",
   "execution_count": 11,
   "metadata": {},
   "outputs": [
    {
     "data": {
      "text/html": [
       "<table>\n",
       "<caption>A data.table: 6 × 94</caption>\n",
       "<thead>\n",
       "\t<tr><th scope=col>class</th><th scope=col>sector_num</th><th scope=col>cost_of_revenue</th><th scope=col>r.d_expenses</th><th scope=col>sg.a_expense</th><th scope=col>interest_expense</th><th scope=col>income_tax_expense</th><th scope=col>net_income__noncontrolling_int</th><th scope=col>net_income__discontinued_ops</th><th scope=col>preferred_dividends</th><th scope=col>...</th><th scope=col>payout_ratio</th><th scope=col>interest_coverage</th><th scope=col>dividend_yield</th><th scope=col>pe_ratio</th><th scope=col>pfcf_ratio</th><th scope=col>pocf_ratio</th><th scope=col>days_payables_outstanding</th><th scope=col>free_cash_flow_per_share</th><th scope=col>roe</th><th scope=col>ptb_ratio</th></tr>\n",
       "\t<tr><th scope=col>&lt;fct&gt;</th><th scope=col>&lt;int&gt;</th><th scope=col>&lt;dbl&gt;</th><th scope=col>&lt;dbl&gt;</th><th scope=col>&lt;dbl&gt;</th><th scope=col>&lt;dbl&gt;</th><th scope=col>&lt;dbl&gt;</th><th scope=col>&lt;dbl&gt;</th><th scope=col>&lt;dbl&gt;</th><th scope=col>&lt;dbl&gt;</th><th scope=col>...</th><th scope=col>&lt;dbl&gt;</th><th scope=col>&lt;dbl&gt;</th><th scope=col>&lt;dbl&gt;</th><th scope=col>&lt;dbl&gt;</th><th scope=col>&lt;dbl&gt;</th><th scope=col>&lt;dbl&gt;</th><th scope=col>&lt;dbl&gt;</th><th scope=col>&lt;dbl&gt;</th><th scope=col>&lt;dbl&gt;</th><th scope=col>&lt;dbl&gt;</th></tr>\n",
       "</thead>\n",
       "<tbody>\n",
       "\t<tr><td>1</td><td>4</td><td>11069350000</td><td>0.00e+00</td><td>3605470900</td><td>412660400</td><td>615708000</td><td>12000000</td><td>       0.0</td><td>0</td><td>...</td><td>0.209</td><td> 6.1242</td><td>0.0174</td><td>12.0340</td><td>14.6302</td><td> 5.1147</td><td>18.1099</td><td>0.837</td><td>0.28210</td><td> 7.09820</td></tr>\n",
       "\t<tr><td>1</td><td>4</td><td>11069350000</td><td>0.00e+00</td><td>3605470900</td><td>412660400</td><td>615708000</td><td>26000000</td><td>       0.0</td><td>0</td><td>...</td><td>0.753</td><td>20.2526</td><td>0.0289</td><td>26.0617</td><td>21.9662</td><td>17.4214</td><td>73.2730</td><td>1.922</td><td>0.23410</td><td>20.50659</td></tr>\n",
       "\t<tr><td>0</td><td>4</td><td>11069350000</td><td>0.00e+00</td><td>3605470900</td><td>412660400</td><td>615708000</td><td>48035000</td><td>-1075700.0</td><td>0</td><td>...</td><td>0.384</td><td>11.3328</td><td>0.0252</td><td>15.2408</td><td>22.4610</td><td>10.3903</td><td>28.6724</td><td>3.920</td><td>0.21010</td><td> 4.26270</td></tr>\n",
       "\t<tr><td>1</td><td>4</td><td> 3523600000</td><td>0.00e+00</td><td>1480500000</td><td> 60400000</td><td> 89100000</td><td>       0</td><td>-1075700.0</td><td>0</td><td>...</td><td>0.482</td><td> 8.7301</td><td>0.0173</td><td>27.8029</td><td>22.2716</td><td>16.2848</td><td>42.9625</td><td>1.710</td><td>0.20410</td><td> 0.00000</td></tr>\n",
       "\t<tr><td>1</td><td>4</td><td> 5297000000</td><td>1.22e+08</td><td>1505000000</td><td>122000000</td><td>374000000</td><td> -747924</td><td>-1075700.0</td><td>0</td><td>...</td><td>0.452</td><td>11.1639</td><td>0.0296</td><td>15.3007</td><td>23.1014</td><td>14.7459</td><td>23.2650</td><td>2.191</td><td>0.53523</td><td> 0.00000</td></tr>\n",
       "\t<tr><td>0</td><td>4</td><td>11069350000</td><td>0.00e+00</td><td>3605470900</td><td>412660400</td><td>615708000</td><td>       0</td><td>  511145.9</td><td>0</td><td>...</td><td>0.510</td><td> 4.2393</td><td>0.0285</td><td>17.8742</td><td> 7.4811</td><td> 5.3718</td><td>37.5605</td><td>4.637</td><td>0.12140</td><td> 2.15890</td></tr>\n",
       "</tbody>\n",
       "</table>\n"
      ],
      "text/latex": [
       "A data.table: 6 × 94\n",
       "\\begin{tabular}{lllllllllllllllllllll}\n",
       " class & sector\\_num & cost\\_of\\_revenue & r.d\\_expenses & sg.a\\_expense & interest\\_expense & income\\_tax\\_expense & net\\_income\\_\\_noncontrolling\\_int & net\\_income\\_\\_discontinued\\_ops & preferred\\_dividends & ... & payout\\_ratio & interest\\_coverage & dividend\\_yield & pe\\_ratio & pfcf\\_ratio & pocf\\_ratio & days\\_payables\\_outstanding & free\\_cash\\_flow\\_per\\_share & roe & ptb\\_ratio\\\\\n",
       " <fct> & <int> & <dbl> & <dbl> & <dbl> & <dbl> & <dbl> & <dbl> & <dbl> & <dbl> & ... & <dbl> & <dbl> & <dbl> & <dbl> & <dbl> & <dbl> & <dbl> & <dbl> & <dbl> & <dbl>\\\\\n",
       "\\hline\n",
       "\t 1 & 4 & 11069350000 & 0.00e+00 & 3605470900 & 412660400 & 615708000 & 12000000 &        0.0 & 0 & ... & 0.209 &  6.1242 & 0.0174 & 12.0340 & 14.6302 &  5.1147 & 18.1099 & 0.837 & 0.28210 &  7.09820\\\\\n",
       "\t 1 & 4 & 11069350000 & 0.00e+00 & 3605470900 & 412660400 & 615708000 & 26000000 &        0.0 & 0 & ... & 0.753 & 20.2526 & 0.0289 & 26.0617 & 21.9662 & 17.4214 & 73.2730 & 1.922 & 0.23410 & 20.50659\\\\\n",
       "\t 0 & 4 & 11069350000 & 0.00e+00 & 3605470900 & 412660400 & 615708000 & 48035000 & -1075700.0 & 0 & ... & 0.384 & 11.3328 & 0.0252 & 15.2408 & 22.4610 & 10.3903 & 28.6724 & 3.920 & 0.21010 &  4.26270\\\\\n",
       "\t 1 & 4 &  3523600000 & 0.00e+00 & 1480500000 &  60400000 &  89100000 &        0 & -1075700.0 & 0 & ... & 0.482 &  8.7301 & 0.0173 & 27.8029 & 22.2716 & 16.2848 & 42.9625 & 1.710 & 0.20410 &  0.00000\\\\\n",
       "\t 1 & 4 &  5297000000 & 1.22e+08 & 1505000000 & 122000000 & 374000000 &  -747924 & -1075700.0 & 0 & ... & 0.452 & 11.1639 & 0.0296 & 15.3007 & 23.1014 & 14.7459 & 23.2650 & 2.191 & 0.53523 &  0.00000\\\\\n",
       "\t 0 & 4 & 11069350000 & 0.00e+00 & 3605470900 & 412660400 & 615708000 &        0 &   511145.9 & 0 & ... & 0.510 &  4.2393 & 0.0285 & 17.8742 &  7.4811 &  5.3718 & 37.5605 & 4.637 & 0.12140 &  2.15890\\\\\n",
       "\\end{tabular}\n"
      ],
      "text/markdown": [
       "\n",
       "A data.table: 6 × 94\n",
       "\n",
       "| class &lt;fct&gt; | sector_num &lt;int&gt; | cost_of_revenue &lt;dbl&gt; | r.d_expenses &lt;dbl&gt; | sg.a_expense &lt;dbl&gt; | interest_expense &lt;dbl&gt; | income_tax_expense &lt;dbl&gt; | net_income__noncontrolling_int &lt;dbl&gt; | net_income__discontinued_ops &lt;dbl&gt; | preferred_dividends &lt;dbl&gt; | ... ... | payout_ratio &lt;dbl&gt; | interest_coverage &lt;dbl&gt; | dividend_yield &lt;dbl&gt; | pe_ratio &lt;dbl&gt; | pfcf_ratio &lt;dbl&gt; | pocf_ratio &lt;dbl&gt; | days_payables_outstanding &lt;dbl&gt; | free_cash_flow_per_share &lt;dbl&gt; | roe &lt;dbl&gt; | ptb_ratio &lt;dbl&gt; |\n",
       "|---|---|---|---|---|---|---|---|---|---|---|---|---|---|---|---|---|---|---|---|---|\n",
       "| 1 | 4 | 11069350000 | 0.00e+00 | 3605470900 | 412660400 | 615708000 | 12000000 |        0.0 | 0 | ... | 0.209 |  6.1242 | 0.0174 | 12.0340 | 14.6302 |  5.1147 | 18.1099 | 0.837 | 0.28210 |  7.09820 |\n",
       "| 1 | 4 | 11069350000 | 0.00e+00 | 3605470900 | 412660400 | 615708000 | 26000000 |        0.0 | 0 | ... | 0.753 | 20.2526 | 0.0289 | 26.0617 | 21.9662 | 17.4214 | 73.2730 | 1.922 | 0.23410 | 20.50659 |\n",
       "| 0 | 4 | 11069350000 | 0.00e+00 | 3605470900 | 412660400 | 615708000 | 48035000 | -1075700.0 | 0 | ... | 0.384 | 11.3328 | 0.0252 | 15.2408 | 22.4610 | 10.3903 | 28.6724 | 3.920 | 0.21010 |  4.26270 |\n",
       "| 1 | 4 |  3523600000 | 0.00e+00 | 1480500000 |  60400000 |  89100000 |        0 | -1075700.0 | 0 | ... | 0.482 |  8.7301 | 0.0173 | 27.8029 | 22.2716 | 16.2848 | 42.9625 | 1.710 | 0.20410 |  0.00000 |\n",
       "| 1 | 4 |  5297000000 | 1.22e+08 | 1505000000 | 122000000 | 374000000 |  -747924 | -1075700.0 | 0 | ... | 0.452 | 11.1639 | 0.0296 | 15.3007 | 23.1014 | 14.7459 | 23.2650 | 2.191 | 0.53523 |  0.00000 |\n",
       "| 0 | 4 | 11069350000 | 0.00e+00 | 3605470900 | 412660400 | 615708000 |        0 |   511145.9 | 0 | ... | 0.510 |  4.2393 | 0.0285 | 17.8742 |  7.4811 |  5.3718 | 37.5605 | 4.637 | 0.12140 |  2.15890 |\n",
       "\n"
      ],
      "text/plain": [
       "  class sector_num cost_of_revenue r.d_expenses sg.a_expense interest_expense\n",
       "1 1     4          11069350000     0.00e+00     3605470900   412660400       \n",
       "2 1     4          11069350000     0.00e+00     3605470900   412660400       \n",
       "3 0     4          11069350000     0.00e+00     3605470900   412660400       \n",
       "4 1     4           3523600000     0.00e+00     1480500000    60400000       \n",
       "5 1     4           5297000000     1.22e+08     1505000000   122000000       \n",
       "6 0     4          11069350000     0.00e+00     3605470900   412660400       \n",
       "  income_tax_expense net_income__noncontrolling_int\n",
       "1 615708000          12000000                      \n",
       "2 615708000          26000000                      \n",
       "3 615708000          48035000                      \n",
       "4  89100000                 0                      \n",
       "5 374000000           -747924                      \n",
       "6 615708000                 0                      \n",
       "  net_income__discontinued_ops preferred_dividends ... payout_ratio\n",
       "1        0.0                   0                   ... 0.209       \n",
       "2        0.0                   0                   ... 0.753       \n",
       "3 -1075700.0                   0                   ... 0.384       \n",
       "4 -1075700.0                   0                   ... 0.482       \n",
       "5 -1075700.0                   0                   ... 0.452       \n",
       "6   511145.9                   0                   ... 0.510       \n",
       "  interest_coverage dividend_yield pe_ratio pfcf_ratio pocf_ratio\n",
       "1  6.1242           0.0174         12.0340  14.6302     5.1147   \n",
       "2 20.2526           0.0289         26.0617  21.9662    17.4214   \n",
       "3 11.3328           0.0252         15.2408  22.4610    10.3903   \n",
       "4  8.7301           0.0173         27.8029  22.2716    16.2848   \n",
       "5 11.1639           0.0296         15.3007  23.1014    14.7459   \n",
       "6  4.2393           0.0285         17.8742   7.4811     5.3718   \n",
       "  days_payables_outstanding free_cash_flow_per_share roe     ptb_ratio\n",
       "1 18.1099                   0.837                    0.28210  7.09820 \n",
       "2 73.2730                   1.922                    0.23410 20.50659 \n",
       "3 28.6724                   3.920                    0.21010  4.26270 \n",
       "4 42.9625                   1.710                    0.20410  0.00000 \n",
       "5 23.2650                   2.191                    0.53523  0.00000 \n",
       "6 37.5605                   4.637                    0.12140  2.15890 "
      ]
     },
     "metadata": {},
     "output_type": "display_data"
    }
   ],
   "source": [
    "head(complete)"
   ]
  },
  {
   "cell_type": "markdown",
   "metadata": {},
   "source": [
    "## Baseline Model\n",
    "Creating the baseline model."
   ]
  },
  {
   "cell_type": "markdown",
   "metadata": {},
   "source": [
    " - I chose to test three different types of models to see which one would be the best. These models were logit, decision tree, and random forest. Using accuracy as a basic metric, the random forest model preformed the best and was thus used for further analysis."
   ]
  },
  {
   "cell_type": "markdown",
   "metadata": {},
   "source": [
    "## Baseline Logit Model"
   ]
  },
  {
   "cell_type": "code",
   "execution_count": 12,
   "metadata": {
    "scrolled": true
   },
   "outputs": [
    {
     "data": {
      "text/plain": [
       "\n",
       "Call:\n",
       "glm(formula = class ~ ., family = binomial(link = \"logit\"), data = train, \n",
       "    control = list(maxit = 100))\n",
       "\n",
       "Deviance Residuals: \n",
       "   Min      1Q  Median      3Q     Max  \n",
       "-2.350  -1.179   0.752   1.025   2.078  \n",
       "\n",
       "Coefficients:\n",
       "                                                Estimate Std. Error z value\n",
       "(Intercept)                                   -3.754e-01  1.701e-01  -2.208\n",
       "sector_num                                     7.815e-02  9.479e-03   8.244\n",
       "cost_of_revenue                                4.147e-13  1.996e-11   0.021\n",
       "r.d_expenses                                  -6.904e-10  5.911e-10  -1.168\n",
       "sg.a_expense                                  -6.158e-11  5.555e-11  -1.109\n",
       "interest_expense                              -1.857e-10  5.815e-10  -0.319\n",
       "income_tax_expense                             1.524e-10  2.939e-10   0.519\n",
       "net_income__noncontrolling_int                -4.025e-09  2.699e-09  -1.491\n",
       "net_income__discontinued_ops                   7.164e-08  8.580e-08   0.835\n",
       "preferred_dividends                           -1.712e-08  1.356e-08  -1.262\n",
       "earnings_per_share                             8.796e-02  2.413e-02   3.646\n",
       "weighted_average_shs_out_dil                   5.896e-11  3.218e-10   0.183\n",
       "dividend_per_share                             6.782e-02  6.778e-02   1.001\n",
       "ebitda_margin                                  7.583e-03  5.116e-02   0.148\n",
       "consolidated_income                           -4.542e-10  1.302e-10  -3.488\n",
       "cash_and_cash_equivalents                      3.451e-11  7.160e-11   0.482\n",
       "shortterm_investments                          5.102e-10  1.902e-10   2.682\n",
       "receivables                                   -1.011e-10  8.498e-11  -1.190\n",
       "goodwill_and_intangible_assets                -3.140e-11  2.826e-11  -1.111\n",
       "longterm_investments                           6.341e-11  6.221e-11   1.019\n",
       "tax_assets                                    -6.708e-10  3.508e-10  -1.912\n",
       "payables                                       1.699e-10  1.031e-10   1.647\n",
       "shortterm_debt                                 1.581e-10  1.257e-10   1.258\n",
       "longterm_debt                                  2.717e-11  2.645e-11   1.027\n",
       "deferred_revenue                               7.616e-10  3.371e-10   2.259\n",
       "tax_liabilities                                2.938e-11  1.128e-10   0.260\n",
       "other_comprehensive_income                    -3.794e-10  2.281e-10  -1.663\n",
       "retained_earnings_deficit                      4.958e-12  1.981e-11   0.250\n",
       "other_liabilities                             -5.029e-12  2.780e-11  -0.181\n",
       "stockbased_compensation                        1.337e-09  1.469e-09   0.910\n",
       "capital_expenditure                            8.424e-11  1.759e-10   0.479\n",
       "acquisitions_and_disposals                    -1.589e-10  2.346e-10  -0.677\n",
       "investment_purchases_and_sales                 6.520e-10  2.466e-10   2.644\n",
       "issuance_repayment_of_debt                     5.945e-11  1.162e-10   0.511\n",
       "issuance_buybacks_of_shares                   -3.689e-10  2.122e-10  -1.738\n",
       "effect_of_forex_changes_on_cash               -3.604e-08  4.485e-09  -8.037\n",
       "net_cash_flow_change_in_cash                  -1.029e-10  2.057e-10  -0.500\n",
       "net_cash_marketcap                             8.305e-02  6.676e-02   1.244\n",
       "grossprofitmargin                              1.355e-01  1.295e-01   1.046\n",
       "payablesturnover                               5.355e-03  7.525e-03   0.712\n",
       "inventoryturnover                             -2.671e-04  1.157e-03  -0.231\n",
       "fixedassetturnover                             1.036e-03  2.122e-03   0.488\n",
       "assetturnover                                 -1.849e-01  6.763e-02  -2.734\n",
       "currentratio                                   5.208e-03  2.585e-02   0.201\n",
       "quickratio                                     1.476e-02  3.385e-02   0.436\n",
       "cashratio                                     -7.911e-02  3.717e-02  -2.128\n",
       "daysofsalesoutstanding                        -1.088e-04  4.723e-04  -0.230\n",
       "daysofinventoryoutstanding                    -1.572e-03  7.676e-04  -2.048\n",
       "debtratio                                     -4.435e-01  3.054e-01  -1.452\n",
       "debtequityratio                               -6.757e-02  3.451e-02  -1.958\n",
       "longtermdebttocapitalization                   6.979e-01  2.242e-01   3.113\n",
       "capitalexpenditurecoverageratios               5.159e-04  1.693e-03   0.305\n",
       "ev_to_sales                                   -5.191e-04  8.661e-03  -0.060\n",
       "enterprise_value_over_ebitda                   4.412e-03  2.897e-03   1.523\n",
       "ev_to_free_cash_flow                          -7.398e-04  1.207e-03  -0.613\n",
       "earnings_yield                                 2.148e-01  2.492e-01   0.862\n",
       "income_quality                                 1.360e-02  1.563e-02   0.870\n",
       "intangibles_to_total_assets                    1.626e-01  1.668e-01   0.975\n",
       "capex_to_revenue                               1.892e-01  2.717e-01   0.696\n",
       "capex_to_depreciation                         -9.103e-02  3.243e-02  -2.807\n",
       "graham_number                                 -4.473e-03  2.359e-03  -1.896\n",
       "receivables_turnover                          -2.160e-04  2.381e-03  -0.091\n",
       "capex_per_share                                2.590e-02  1.727e-02   1.499\n",
       "gross_profit_growth                           -2.531e-01  9.632e-02  -2.628\n",
       "ebit_growth                                   -1.702e-02  5.113e-02  -0.333\n",
       "operating_income_growth                       -3.418e-02  5.071e-02  -0.674\n",
       "net_income_growth                              2.444e-02  3.151e-02   0.776\n",
       "weighted_average_shares_growth                -2.383e-01  3.938e-01  -0.605\n",
       "weighted_average_shares_diluted_growth         1.782e-01  3.410e-01   0.522\n",
       "dividends_per_share_growth                     3.398e-01  2.238e-01   1.518\n",
       "operating_cash_flow_growth                     3.409e-02  3.975e-02   0.858\n",
       "free_cash_flow_growth                          3.829e-02  2.507e-02   1.527\n",
       "three_yr_revenue_growth_per_share              3.146e-01  2.012e-01   1.564\n",
       "three_yr_operating_cf_growth_per_share         1.687e-01  1.578e-01   1.069\n",
       "three_yr_net_income_growth_per_share           3.183e-01  1.551e-01   2.053\n",
       "three_yr_shareholders_equity_growth_per_share  3.187e-01  2.045e-01   1.558\n",
       "three_yr_dividend_per_share_growth_per_share   2.544e-01  2.645e-01   0.962\n",
       "receivables_growth                            -1.656e-02  8.120e-02  -0.204\n",
       "inventory_growth                              -4.220e-01  1.522e-01  -2.772\n",
       "asset_growth                                   3.892e-02  1.410e-01   0.276\n",
       "book_value_per_share_growth                   -2.391e-01  9.516e-02  -2.512\n",
       "debt_growth                                   -1.908e-02  6.095e-02  -0.313\n",
       "r.d_expense_growth                            -3.708e-01  1.720e-01  -2.155\n",
       "sg.a_expenses_growth                          -1.890e-03  1.580e-01  -0.012\n",
       "payout_ratio                                  -1.820e-01  1.103e-01  -1.650\n",
       "interest_coverage                             -2.352e-04  1.240e-03  -0.190\n",
       "dividend_yield                                 4.269e+00  2.155e+00   1.981\n",
       "pe_ratio                                      -1.556e-04  2.010e-03  -0.077\n",
       "pfcf_ratio                                     3.153e-03  2.434e-03   1.296\n",
       "pocf_ratio                                     3.300e-04  2.187e-03   0.151\n",
       "days_payables_outstanding                     -1.614e-03  7.303e-04  -2.210\n",
       "free_cash_flow_per_share                       1.127e-03  1.345e-02   0.084\n",
       "roe                                            1.882e-01  9.579e-02   1.964\n",
       "ptb_ratio                                     -2.346e-04  4.789e-03  -0.049\n",
       "                                              Pr(>|z|)    \n",
       "(Intercept)                                   0.027264 *  \n",
       "sector_num                                     < 2e-16 ***\n",
       "cost_of_revenue                               0.983421    \n",
       "r.d_expenses                                  0.242810    \n",
       "sg.a_expense                                  0.267606    \n",
       "interest_expense                              0.749496    \n",
       "income_tax_expense                            0.603972    \n",
       "net_income__noncontrolling_int                0.135884    \n",
       "net_income__discontinued_ops                  0.403708    \n",
       "preferred_dividends                           0.206877    \n",
       "earnings_per_share                            0.000267 ***\n",
       "weighted_average_shs_out_dil                  0.854626    \n",
       "dividend_per_share                            0.316960    \n",
       "ebitda_margin                                 0.882178    \n",
       "consolidated_income                           0.000486 ***\n",
       "cash_and_cash_equivalents                     0.629829    \n",
       "shortterm_investments                         0.007313 ** \n",
       "receivables                                   0.234007    \n",
       "goodwill_and_intangible_assets                0.266528    \n",
       "longterm_investments                          0.308074    \n",
       "tax_assets                                    0.055836 .  \n",
       "payables                                      0.099560 .  \n",
       "shortterm_debt                                0.208507    \n",
       "longterm_debt                                 0.304391    \n",
       "deferred_revenue                              0.023859 *  \n",
       "tax_liabilities                               0.794549    \n",
       "other_comprehensive_income                    0.096229 .  \n",
       "retained_earnings_deficit                     0.802418    \n",
       "other_liabilities                             0.856454    \n",
       "stockbased_compensation                       0.362882    \n",
       "capital_expenditure                           0.632031    \n",
       "acquisitions_and_disposals                    0.498180    \n",
       "investment_purchases_and_sales                0.008189 ** \n",
       "issuance_repayment_of_debt                    0.609055    \n",
       "issuance_buybacks_of_shares                   0.082137 .  \n",
       "effect_of_forex_changes_on_cash                9.2e-16 ***\n",
       "net_cash_flow_change_in_cash                  0.616814    \n",
       "net_cash_marketcap                            0.213506    \n",
       "grossprofitmargin                             0.295411    \n",
       "payablesturnover                              0.476687    \n",
       "inventoryturnover                             0.817431    \n",
       "fixedassetturnover                            0.625257    \n",
       "assetturnover                                 0.006256 ** \n",
       "currentratio                                  0.840328    \n",
       "quickratio                                    0.662872    \n",
       "cashratio                                     0.033307 *  \n",
       "daysofsalesoutstanding                        0.817746    \n",
       "daysofinventoryoutstanding                    0.040557 *  \n",
       "debtratio                                     0.146489    \n",
       "debtequityratio                               0.050192 .  \n",
       "longtermdebttocapitalization                  0.001852 ** \n",
       "capitalexpenditurecoverageratios              0.760551    \n",
       "ev_to_sales                                   0.952205    \n",
       "enterprise_value_over_ebitda                  0.127839    \n",
       "ev_to_free_cash_flow                          0.540006    \n",
       "earnings_yield                                0.388638    \n",
       "income_quality                                0.384249    \n",
       "intangibles_to_total_assets                   0.329619    \n",
       "capex_to_revenue                              0.486282    \n",
       "capex_to_depreciation                         0.005001 ** \n",
       "graham_number                                 0.057942 .  \n",
       "receivables_turnover                          0.927724    \n",
       "capex_per_share                               0.133835    \n",
       "gross_profit_growth                           0.008593 ** \n",
       "ebit_growth                                   0.739249    \n",
       "operating_income_growth                       0.500272    \n",
       "net_income_growth                             0.437849    \n",
       "weighted_average_shares_growth                0.545120    \n",
       "weighted_average_shares_diluted_growth        0.601379    \n",
       "dividends_per_share_growth                    0.128906    \n",
       "operating_cash_flow_growth                    0.391125    \n",
       "free_cash_flow_growth                         0.126653    \n",
       "three_yr_revenue_growth_per_share             0.117831    \n",
       "three_yr_operating_cf_growth_per_share        0.284970    \n",
       "three_yr_net_income_growth_per_share          0.040113 *  \n",
       "three_yr_shareholders_equity_growth_per_share 0.119165    \n",
       "three_yr_dividend_per_share_growth_per_share  0.336210    \n",
       "receivables_growth                            0.838445    \n",
       "inventory_growth                              0.005567 ** \n",
       "asset_growth                                  0.782524    \n",
       "book_value_per_share_growth                   0.011996 *  \n",
       "debt_growth                                   0.754231    \n",
       "r.d_expense_growth                            0.031145 *  \n",
       "sg.a_expenses_growth                          0.990456    \n",
       "payout_ratio                                  0.099017 .  \n",
       "interest_coverage                             0.849571    \n",
       "dividend_yield                                0.047552 *  \n",
       "pe_ratio                                      0.938276    \n",
       "pfcf_ratio                                    0.195131    \n",
       "pocf_ratio                                    0.880034    \n",
       "days_payables_outstanding                     0.027101 *  \n",
       "free_cash_flow_per_share                      0.933250    \n",
       "roe                                           0.049487 *  \n",
       "ptb_ratio                                     0.960932    \n",
       "---\n",
       "Signif. codes:  0 '***' 0.001 '**' 0.01 '*' 0.05 '.' 0.1 ' ' 1\n",
       "\n",
       "(Dispersion parameter for binomial family taken to be 1)\n",
       "\n",
       "    Null deviance: 11577  on 8446  degrees of freedom\n",
       "Residual deviance: 10855  on 8353  degrees of freedom\n",
       "AIC: 11043\n",
       "\n",
       "Number of Fisher Scoring iterations: 4\n"
      ]
     },
     "metadata": {},
     "output_type": "display_data"
    }
   ],
   "source": [
    "set.seed(123)\n",
    "glm <- glm(class~., family = binomial(link = \"logit\")\n",
    "           , data = train, control = list(maxit = 100))\n",
    "\n",
    "#Model Accuracy\n",
    "summary(glm)"
   ]
  },
  {
   "cell_type": "code",
   "execution_count": 13,
   "metadata": {
    "scrolled": true
   },
   "outputs": [
    {
     "data": {
      "text/html": [
       "11043.070609651"
      ],
      "text/latex": [
       "11043.070609651"
      ],
      "text/markdown": [
       "11043.070609651"
      ],
      "text/plain": [
       "[1] 11043.07"
      ]
     },
     "metadata": {},
     "output_type": "display_data"
    }
   ],
   "source": [
    "glm$aic"
   ]
  },
  {
   "cell_type": "code",
   "execution_count": 14,
   "metadata": {},
   "outputs": [],
   "source": [
    "pred_glm <- predict(glm, type = \"response\")"
   ]
  },
  {
   "cell_type": "code",
   "execution_count": 15,
   "metadata": {},
   "outputs": [
    {
     "data": {
      "image/png": "[encoded data removed]",
      "text/plain": [
       "plot without title"
      ]
     },
     "metadata": {
      "image/png": {
       "height": 420,
       "width": 420
      },
      "text/plain": {
       "height": 420,
       "width": 420
      }
     },
     "output_type": "display_data"
    }
   ],
   "source": [
    "ROCRpred <- prediction(pred_glm, train$class)\n",
    "\n",
    "ROCRperf <- ROCR::performance(ROCRpred, \"tpr\", \"fpr\")\n",
    "plot(ROCRperf, colorize=TRUE, print.cutoffs.at=seq(0,1,by=0.1), text.adj=c(-0.2,1.7))"
   ]
  },
  {
   "cell_type": "code",
   "execution_count": 16,
   "metadata": {},
   "outputs": [
    {
     "data": {
      "text/plain": [
       "   Min. 1st Qu.  Median    Mean 3rd Qu.    Max. \n",
       "0.06241 0.47047 0.56962 0.55830 0.65466 0.92755 "
      ]
     },
     "metadata": {},
     "output_type": "display_data"
    },
    {
     "name": "stdout",
     "output_type": "stream",
     "text": [
      "[1] \"Accuracy of 0.60099474993092\"\n"
     ]
    }
   ],
   "source": [
    "#Predicting and checking accuracy\n",
    "predict_test <- predict(glm, type = \"response\", newdata = test)\n",
    "summary(predict_test)\n",
    "predict_test <- ifelse(predict_test >= 0.5, 1, 0)\n",
    "\n",
    "Incorrect <- mean(predict_test != test$class)\n",
    "print(paste(\"Accuracy of\",1-Incorrect))"
   ]
  },
  {
   "cell_type": "code",
   "execution_count": 17,
   "metadata": {
    "scrolled": true
   },
   "outputs": [],
   "source": [
    "set.seed(123)\n",
    "importance <- varImp(glm)"
   ]
  },
  {
   "cell_type": "code",
   "execution_count": 18,
   "metadata": {
    "scrolled": true
   },
   "outputs": [
    {
     "name": "stdout",
     "output_type": "stream",
     "text": [
      "                                                 Overall\n",
      "sector_num                                    8.24400950\n",
      "cost_of_revenue                               0.02078022\n",
      "r.d_expenses                                  1.16799085\n",
      "sg.a_expense                                  1.10859211\n",
      "interest_expense                              0.31930360\n",
      "income_tax_expense                            0.51869660\n",
      "net_income__noncontrolling_int                1.49129667\n",
      "net_income__discontinued_ops                  0.83501637\n",
      "preferred_dividends                           1.26219817\n",
      "earnings_per_share                            3.64554427\n",
      "weighted_average_shs_out_dil                  0.18321868\n",
      "dividend_per_share                            1.00072517\n",
      "ebitda_margin                                 0.14820894\n",
      "consolidated_income                           3.48827034\n",
      "cash_and_cash_equivalents                     0.48196797\n",
      "shortterm_investments                         2.68224813\n",
      "receivables                                   1.19009922\n",
      "goodwill_and_intangible_assets                1.11109424\n",
      "longterm_investments                          1.01927152\n",
      "tax_assets                                    1.91231509\n",
      "payables                                      1.64699145\n",
      "shortterm_debt                                1.25768259\n",
      "longterm_debt                                 1.02706202\n",
      "deferred_revenue                              2.25939437\n",
      "tax_liabilities                               0.26040857\n",
      "other_comprehensive_income                    1.66341765\n",
      "retained_earnings_deficit                     0.25021872\n",
      "other_liabilities                             0.18088975\n",
      "stockbased_compensation                       0.90988701\n",
      "capital_expenditure                           0.47887015\n",
      "acquisitions_and_disposals                    0.67735623\n",
      "investment_purchases_and_sales                2.64417404\n",
      "issuance_repayment_of_debt                    0.51142262\n",
      "issuance_buybacks_of_shares                   1.73841899\n",
      "effect_of_forex_changes_on_cash               8.03709664\n",
      "net_cash_flow_change_in_cash                  0.50037012\n",
      "net_cash_marketcap                            1.24398135\n",
      "grossprofitmargin                             1.04632536\n",
      "payablesturnover                              0.71164131\n",
      "inventoryturnover                             0.23085021\n",
      "fixedassetturnover                            0.48841358\n",
      "assetturnover                                 2.73403320\n",
      "currentratio                                  0.20147412\n",
      "quickratio                                    0.43595196\n",
      "cashratio                                     2.12835999\n",
      "daysofsalesoutstanding                        0.23044520\n",
      "daysofinventoryoutstanding                    2.04802640\n",
      "debtratio                                     1.45204462\n",
      "debtequityratio                               1.95832241\n",
      "longtermdebttocapitalization                  3.11305150\n",
      "capitalexpenditurecoverageratios              0.30475774\n",
      "ev_to_sales                                   0.05993849\n",
      "enterprise_value_over_ebitda                  1.52267871\n",
      "ev_to_free_cash_flow                          0.61280327\n",
      "earnings_yield                                0.86208971\n",
      "income_quality                                0.87009427\n",
      "intangibles_to_total_assets                   0.97488174\n",
      "capex_to_revenue                              0.69623517\n",
      "capex_to_depreciation                         2.80697421\n",
      "graham_number                                 1.89613966\n",
      "receivables_turnover                          0.09070843\n",
      "capex_per_share                               1.49914819\n",
      "gross_profit_growth                           2.62782076\n",
      "ebit_growth                                   0.33284838\n",
      "operating_income_growth                       0.67406198\n",
      "net_income_growth                             0.77583128\n",
      "weighted_average_shares_growth                0.60508864\n",
      "weighted_average_shares_diluted_growth        0.52241844\n",
      "dividends_per_share_growth                    1.51843211\n",
      "operating_cash_flow_growth                    0.85757920\n",
      "free_cash_flow_growth                         1.52743506\n",
      "three_yr_revenue_growth_per_share             1.56394110\n",
      "three_yr_operating_cf_growth_per_share        1.06922151\n",
      "three_yr_net_income_growth_per_share          2.05258524\n",
      "three_yr_shareholders_equity_growth_per_share 1.55828829\n",
      "three_yr_dividend_per_share_growth_per_share  0.96168148\n",
      "receivables_growth                            0.20388321\n",
      "inventory_growth                              2.77222258\n",
      "asset_growth                                  0.27603091\n",
      "book_value_per_share_growth                   2.51224897\n",
      "debt_growth                                   0.31306573\n",
      "r.d_expense_growth                            2.15521161\n",
      "sg.a_expenses_growth                          0.01196215\n",
      "payout_ratio                                  1.64963792\n",
      "interest_coverage                             0.18966557\n",
      "dividend_yield                                1.98135016\n",
      "pe_ratio                                      0.07743750\n",
      "pfcf_ratio                                    1.29554875\n",
      "pocf_ratio                                    0.15092636\n",
      "days_payables_outstanding                     2.21005484\n",
      "free_cash_flow_per_share                      0.08375630\n",
      "roe                                           1.96437035\n",
      "ptb_ratio                                     0.04898388\n"
     ]
    }
   ],
   "source": [
    "print(importance)"
   ]
  },
  {
   "cell_type": "markdown",
   "metadata": {},
   "source": [
    "## Baseline Decision Tree"
   ]
  },
  {
   "cell_type": "code",
   "execution_count": 19,
   "metadata": {},
   "outputs": [
    {
     "data": {
      "image/png": "[encoded data removed]",
      "text/plain": [
       "plot without title"
      ]
     },
     "metadata": {
      "image/png": {
       "height": 420,
       "width": 420
      },
      "text/plain": {
       "height": 420,
       "width": 420
      }
     },
     "output_type": "display_data"
    }
   ],
   "source": [
    "dtree <- rpart(class ~ ., data = train, method = \"class\")\n",
    "\n",
    "rpart.plot(dtree, extra = 101)"
   ]
  },
  {
   "cell_type": "code",
   "execution_count": 20,
   "metadata": {},
   "outputs": [
    {
     "data": {
      "text/plain": [
       "Confusion Matrix and Statistics\n",
       "\n",
       "          Reference\n",
       "Prediction    0    1\n",
       "         0  438  358\n",
       "         1 1145 1678\n",
       "                                          \n",
       "               Accuracy : 0.5847          \n",
       "                 95% CI : (0.5684, 0.6008)\n",
       "    No Information Rate : 0.5626          \n",
       "    P-Value [Acc > NIR] : 0.003808        \n",
       "                                          \n",
       "                  Kappa : 0.1068          \n",
       "                                          \n",
       " Mcnemar's Test P-Value : < 2.2e-16       \n",
       "                                          \n",
       "              Precision : 0.5503          \n",
       "                 Recall : 0.2767          \n",
       "                     F1 : 0.3682          \n",
       "             Prevalence : 0.4374          \n",
       "         Detection Rate : 0.1210          \n",
       "   Detection Prevalence : 0.2200          \n",
       "      Balanced Accuracy : 0.5504          \n",
       "                                          \n",
       "       'Positive' Class : 0               \n",
       "                                          "
      ]
     },
     "metadata": {},
     "output_type": "display_data"
    },
    {
     "name": "stdout",
     "output_type": "stream",
     "text": [
      "[1] \"AUC 0.572327186766279\"\n"
     ]
    }
   ],
   "source": [
    "pred_dtree <- predict(dtree, test, type = \"class\")\n",
    "\n",
    "confusionMatrix(pred_dtree, test$class, mode = \"prec_recall\")\n",
    "\n",
    "print(paste('AUC', auc(pred_dtree, test$class)))"
   ]
  },
  {
   "cell_type": "markdown",
   "metadata": {},
   "source": [
    "## Baseline Random Forest"
   ]
  },
  {
   "cell_type": "code",
   "execution_count": 21,
   "metadata": {},
   "outputs": [
    {
     "data": {
      "text/plain": [
       "\n",
       "Call:\n",
       " randomForest(formula = class ~ ., data = train, type = \"classification\") \n",
       "               Type of random forest: classification\n",
       "                     Number of trees: 500\n",
       "No. of variables tried at each split: 9\n",
       "\n",
       "        OOB estimate of  error rate: 37.61%\n",
       "Confusion matrix:\n",
       "     0    1 class.error\n",
       "0 1707 1988   0.5380244\n",
       "1 1189 3563   0.2502104"
      ]
     },
     "metadata": {},
     "output_type": "display_data"
    }
   ],
   "source": [
    "#Training using ‘random forest’ algorithm\n",
    "set.seed(123)\n",
    "forest <- randomForest(class ~ ., data = train, type = \"classification\")\n",
    "#summary(forest)\n",
    "forest"
   ]
  },
  {
   "cell_type": "code",
   "execution_count": 22,
   "metadata": {},
   "outputs": [
    {
     "data": {
      "text/plain": [
       "Confusion Matrix and Statistics\n",
       "\n",
       "          Reference\n",
       "Prediction    0    1\n",
       "         0  743  532\n",
       "         1  840 1504\n",
       "                                          \n",
       "               Accuracy : 0.6209          \n",
       "                 95% CI : (0.6049, 0.6367)\n",
       "    No Information Rate : 0.5626          \n",
       "    P-Value [Acc > NIR] : 6.401e-13       \n",
       "                                          \n",
       "                  Kappa : 0.2127          \n",
       "                                          \n",
       " Mcnemar's Test P-Value : < 2.2e-16       \n",
       "                                          \n",
       "              Precision : 0.5827          \n",
       "                 Recall : 0.4694          \n",
       "                     F1 : 0.5199          \n",
       "             Prevalence : 0.4374          \n",
       "         Detection Rate : 0.2053          \n",
       "   Detection Prevalence : 0.3523          \n",
       "      Balanced Accuracy : 0.6040          \n",
       "                                          \n",
       "       'Positive' Class : 0               \n",
       "                                          "
      ]
     },
     "metadata": {},
     "output_type": "display_data"
    },
    {
     "name": "stdout",
     "output_type": "stream",
     "text": [
      "[1] \"AUC 0.612191661647594\"\n"
     ]
    }
   ],
   "source": [
    "#Predicting on train set\n",
    "pred_rf <- predict(forest, newdata = test[,-'class'])\n",
    "\n",
    "confusionMatrix(pred_rf, test$class, mode = \"prec_recall\")\n",
    "\n",
    "print(paste('AUC', auc(pred_rf, test$class)))"
   ]
  },
  {
   "cell_type": "code",
   "execution_count": 23,
   "metadata": {},
   "outputs": [],
   "source": [
    "baserf_results <- list(confusionMatrix(pred_rf, test$class, mode = \"prec_recall\")\n",
    "                       , paste('AUC', auc(pred_rf, test$class)))"
   ]
  },
  {
   "cell_type": "markdown",
   "metadata": {},
   "source": [
    "## Model Improvement\n",
    "Improving on the baseline model. \n",
    "\n",
    "I have chosen to train a classification model. Given the non-normal distribution of the data, I need to either center the data to normalize it or choose a model that doesn't assume normal distribution. I have chosen random forest, which does not assume that the data has a normal distribution. The presence of missing data is also a potential issue, which is why I hvae decided to scale and impute missing data. In order to evaluate the performance of the model, I am primarily concerned with F1 and AUC since the dataset has a non-normal distribution."
   ]
  },
  {
   "cell_type": "markdown",
   "metadata": {},
   "source": [
    "### Scaling & Imputation"
   ]
  },
  {
   "cell_type": "markdown",
   "metadata": {},
   "source": [
    " - The dataset has vastly differing scales, so I decided to scale the data and impute missing values. I chose to use knn imputation over median imputation since knn imputation adds some variability to the missing values."
   ]
  },
  {
   "cell_type": "code",
   "execution_count": 24,
   "metadata": {
    "scrolled": true
   },
   "outputs": [
    {
     "data": {
      "text/html": [
       "0"
      ],
      "text/latex": [
       "0"
      ],
      "text/markdown": [
       "0"
      ],
      "text/plain": [
       "[1] 0"
      ]
     },
     "metadata": {},
     "output_type": "display_data"
    }
   ],
   "source": [
    "#NOTE: This portion of the code has been commented out since it takes a fair amount of time to run.\n",
    "#Scaling and Knn Imputing Data Set\n",
    "missing <- data[,-c('year','nextyr_price_var')]\n",
    "missing$class <- as.factor(missing$class)\n",
    "missing <- missing[, -c('stock', 'sector')]\n",
    "\n",
    "imputedknn <- preProcess(missing[, -'class'], method = c(\"scale\", \"knnImpute\"))\n",
    "\n",
    "imputedknn <- predict(imputedknn, missing)\n",
    "sum(is.na(imputedknn))\n",
    "fwrite(imputedknn, paste0(dir$final_data, 'knn_financial.csv'))  \n",
    "\n",
    "#imputedknn <- fread(paste0(dir$final_data, 'knn_financial.csv'))"
   ]
  },
  {
   "cell_type": "code",
   "execution_count": 25,
   "metadata": {},
   "outputs": [
    {
     "data": {
      "text/plain": [
       "\n",
       "        0         1 \n",
       "0.4539886 0.5460114 "
      ]
     },
     "metadata": {},
     "output_type": "display_data"
    },
    {
     "data": {
      "text/plain": [
       "\n",
       "       0        1 \n",
       "0.454066 0.545934 "
      ]
     },
     "metadata": {},
     "output_type": "display_data"
    },
    {
     "data": {
      "text/html": [
       "<style>\n",
       ".list-inline {list-style: none; margin:0; padding: 0}\n",
       ".list-inline>li {display: inline-block}\n",
       ".list-inline>li:not(:last-child)::after {content: \"\\00b7\"; padding: 0 .5ex}\n",
       "</style>\n",
       "<ol class=list-inline><li>5878</li><li>94</li></ol>\n"
      ],
      "text/latex": [
       "\\begin{enumerate*}\n",
       "\\item 5878\n",
       "\\item 94\n",
       "\\end{enumerate*}\n"
      ],
      "text/markdown": [
       "1. 5878\n",
       "2. 94\n",
       "\n",
       "\n"
      ],
      "text/plain": [
       "[1] 5878   94"
      ]
     },
     "metadata": {},
     "output_type": "display_data"
    },
    {
     "data": {
      "text/html": [
       "<style>\n",
       ".list-inline {list-style: none; margin:0; padding: 0}\n",
       ".list-inline>li {display: inline-block}\n",
       ".list-inline>li:not(:last-child)::after {content: \"\\00b7\"; padding: 0 .5ex}\n",
       "</style>\n",
       "<ol class=list-inline><li>13714</li><li>94</li></ol>\n"
      ],
      "text/latex": [
       "\\begin{enumerate*}\n",
       "\\item 13714\n",
       "\\item 94\n",
       "\\end{enumerate*}\n"
      ],
      "text/markdown": [
       "1. 13714\n",
       "2. 94\n",
       "\n",
       "\n"
      ],
      "text/plain": [
       "[1] 13714    94"
      ]
     },
     "metadata": {},
     "output_type": "display_data"
    }
   ],
   "source": [
    "imputedknn$class <- as.factor(imputedknn$class)\n",
    "imputedknn$sector_num <- data$sector_num\n",
    "imputedknn$year <- data$year\n",
    "imputedknn$sector_num <- as.factor(imputedknn$sector_num)\n",
    "\n",
    "#Splitting the dataset into two and checking proportions\n",
    "set.seed(123)\n",
    "split <- sample.split(imputedknn$class, SplitRatio = 0.70)\n",
    "train <- subset(imputedknn, split == TRUE)\n",
    "test <- subset(imputedknn, split == FALSE)\n",
    "\n",
    "#Removing year from the test and train sets\n",
    "train <- train[, -'year']\n",
    "test <- test[, -'year']\n",
    "\n",
    "prop.table(table(train$class))\n",
    "prop.table(table(test$class))\n",
    "\n",
    "dim(test)\n",
    "dim(train)"
   ]
  },
  {
   "cell_type": "code",
   "execution_count": 26,
   "metadata": {},
   "outputs": [
    {
     "data": {
      "text/plain": [
       "\n",
       "Call:\n",
       " randomForest(formula = class ~ ., data = train, type = \"classification\",      importance = TRUE) \n",
       "               Type of random forest: classification\n",
       "                     Number of trees: 500\n",
       "No. of variables tried at each split: 9\n",
       "\n",
       "        OOB estimate of  error rate: 38.25%\n",
       "Confusion matrix:\n",
       "     0    1 class.error\n",
       "0 3012 3214   0.5162223\n",
       "1 2031 5457   0.2712340"
      ]
     },
     "metadata": {},
     "output_type": "display_data"
    },
    {
     "data": {
      "text/plain": [
       "Confusion Matrix and Statistics\n",
       "\n",
       "          Reference\n",
       "Prediction    0    1\n",
       "         0 1291  789\n",
       "         1 1378 2420\n",
       "                                          \n",
       "               Accuracy : 0.6313          \n",
       "                 95% CI : (0.6189, 0.6437)\n",
       "    No Information Rate : 0.5459          \n",
       "    P-Value [Acc > NIR] : < 2.2e-16       \n",
       "                                          \n",
       "                  Kappa : 0.2423          \n",
       "                                          \n",
       " Mcnemar's Test P-Value : < 2.2e-16       \n",
       "                                          \n",
       "              Precision : 0.6207          \n",
       "                 Recall : 0.4837          \n",
       "                     F1 : 0.5437          \n",
       "             Prevalence : 0.4541          \n",
       "         Detection Rate : 0.2196          \n",
       "   Detection Prevalence : 0.3539          \n",
       "      Balanced Accuracy : 0.6189          \n",
       "                                          \n",
       "       'Positive' Class : 0               \n",
       "                                          "
      ]
     },
     "metadata": {},
     "output_type": "display_data"
    },
    {
     "name": "stdout",
     "output_type": "stream",
     "text": [
      "[1] \"AUC 0.628925269372544\"\n"
     ]
    }
   ],
   "source": [
    "#Running random forest model with knn imputation#\n",
    "set.seed(123)\n",
    "forestknn <- randomForest(class ~ ., data = train, type = \"classification\", importance = TRUE)\n",
    "forestknn\n",
    "\n",
    "#Predicting on train set\n",
    "pred_knn <- predict(forestknn, newdata = test[, -'class']) \n",
    "\n",
    "confusionMatrix(pred_knn, test$class, mode = \"prec_recall\")\n",
    "\n",
    "print(paste('AUC', auc(pred_knn, test$class)))"
   ]
  },
  {
   "cell_type": "markdown",
   "metadata": {},
   "source": [
    "### Feature Selection and Engineering"
   ]
  },
  {
   "cell_type": "markdown",
   "metadata": {},
   "source": [
    " - To determine whether all the variables are necessary, I looked at the importance of the variables from the random forest model. While the sector of the stock has the highest importance, none of the other variables really stand out. In addition, after using decision trees to look at each year and see how different they are, I feel that it is best to keep all the variables in the dataset. This is because the reduced dataset that took only those variables for each from the decision tree that had an importance greater than zero ended up performing worse than previous random forest models."
   ]
  },
  {
   "cell_type": "code",
   "execution_count": 27,
   "metadata": {
    "scrolled": true
   },
   "outputs": [
    {
     "data": {
      "text/html": [
       "<table>\n",
       "<caption>A matrix: 93 × 4 of type dbl</caption>\n",
       "<thead>\n",
       "\t<tr><th></th><th scope=col>0</th><th scope=col>1</th><th scope=col>MeanDecreaseAccuracy</th><th scope=col>MeanDecreaseGini</th></tr>\n",
       "</thead>\n",
       "<tbody>\n",
       "\t<tr><th scope=row>sector_num</th><td> 7.72577958</td><td>16.4610398</td><td>21.243452</td><td>144.83382</td></tr>\n",
       "\t<tr><th scope=row>cost_of_revenue</th><td> 4.75511205</td><td> 5.7823953</td><td>10.664696</td><td> 59.31891</td></tr>\n",
       "\t<tr><th scope=row>r.d_expenses</th><td> 0.98527882</td><td> 4.3622438</td><td> 5.274755</td><td> 39.68677</td></tr>\n",
       "\t<tr><th scope=row>sg.a_expense</th><td> 8.21166184</td><td> 4.3374613</td><td>13.284011</td><td> 84.46812</td></tr>\n",
       "\t<tr><th scope=row>interest_expense</th><td> 3.28889713</td><td> 5.0855160</td><td> 8.590693</td><td> 54.28495</td></tr>\n",
       "\t<tr><th scope=row>income_tax_expense</th><td> 6.54799295</td><td> 7.8275468</td><td>12.228063</td><td> 79.50409</td></tr>\n",
       "\t<tr><th scope=row>net_income__noncontrolling_int</th><td> 5.39348367</td><td>-0.2929466</td><td> 4.094481</td><td> 36.12020</td></tr>\n",
       "\t<tr><th scope=row>net_income__discontinued_ops</th><td> 2.40238110</td><td> 0.9930758</td><td> 2.301021</td><td> 15.09469</td></tr>\n",
       "\t<tr><th scope=row>preferred_dividends</th><td> 4.14875264</td><td>-0.5347619</td><td> 2.648197</td><td> 15.24566</td></tr>\n",
       "\t<tr><th scope=row>earnings_per_share</th><td>10.57112908</td><td> 7.9357611</td><td>17.276417</td><td>106.44910</td></tr>\n",
       "\t<tr><th scope=row>weighted_average_shs_out_dil</th><td>11.98422895</td><td> 8.9908016</td><td>18.326505</td><td>100.01243</td></tr>\n",
       "\t<tr><th scope=row>dividend_per_share</th><td> 1.75170461</td><td> 6.9557366</td><td> 9.166705</td><td> 44.72923</td></tr>\n",
       "\t<tr><th scope=row>ebitda_margin</th><td>-0.04811176</td><td>12.9086728</td><td>14.400394</td><td> 97.11117</td></tr>\n",
       "\t<tr><th scope=row>consolidated_income</th><td> 6.15436570</td><td> 8.7405501</td><td>14.391254</td><td> 89.61241</td></tr>\n",
       "\t<tr><th scope=row>cash_and_cash_equivalents</th><td> 4.35225856</td><td> 5.6622486</td><td>10.439272</td><td> 78.17763</td></tr>\n",
       "\t<tr><th scope=row>shortterm_investments</th><td> 2.17988281</td><td> 2.3543893</td><td> 3.706340</td><td> 39.35740</td></tr>\n",
       "\t<tr><th scope=row>receivables</th><td> 5.71041861</td><td> 6.5164136</td><td>12.675183</td><td> 68.58812</td></tr>\n",
       "\t<tr><th scope=row>goodwill_and_intangible_assets</th><td>-2.05848438</td><td> 8.9036886</td><td> 7.871622</td><td> 60.25347</td></tr>\n",
       "\t<tr><th scope=row>longterm_investments</th><td> 7.29687507</td><td> 4.1891304</td><td>10.015114</td><td> 46.87727</td></tr>\n",
       "\t<tr><th scope=row>tax_assets</th><td>11.84604636</td><td>-5.3473492</td><td> 8.799697</td><td> 46.03687</td></tr>\n",
       "\t<tr><th scope=row>payables</th><td> 7.71705320</td><td> 5.6377004</td><td>12.943470</td><td> 72.20483</td></tr>\n",
       "\t<tr><th scope=row>shortterm_debt</th><td> 2.29495701</td><td> 4.8986303</td><td> 6.501818</td><td> 54.01003</td></tr>\n",
       "\t<tr><th scope=row>longterm_debt</th><td> 5.56474171</td><td> 4.8358631</td><td>12.261033</td><td> 59.31380</td></tr>\n",
       "\t<tr><th scope=row>deferred_revenue</th><td> 2.93761884</td><td> 5.0501273</td><td> 6.644960</td><td> 40.79457</td></tr>\n",
       "\t<tr><th scope=row>tax_liabilities</th><td> 5.19790264</td><td> 2.7659508</td><td> 7.428113</td><td> 47.73156</td></tr>\n",
       "\t<tr><th scope=row>other_comprehensive_income</th><td> 4.82319913</td><td> 3.2312271</td><td> 6.927819</td><td> 72.30294</td></tr>\n",
       "\t<tr><th scope=row>retained_earnings_deficit</th><td> 9.69290416</td><td> 2.5152790</td><td>12.792983</td><td> 79.76619</td></tr>\n",
       "\t<tr><th scope=row>other_liabilities</th><td> 5.06389264</td><td> 8.9083543</td><td>13.331456</td><td> 92.25383</td></tr>\n",
       "\t<tr><th scope=row>stockbased_compensation</th><td> 5.18649617</td><td> 3.8252983</td><td> 7.961311</td><td> 74.63875</td></tr>\n",
       "\t<tr><th scope=row>capital_expenditure</th><td> 4.57901284</td><td> 6.9122591</td><td>12.415368</td><td> 72.18831</td></tr>\n",
       "\t<tr><th scope=row>...</th><td>...</td><td>...</td><td>...</td><td>...</td></tr>\n",
       "\t<tr><th scope=row>ebit_growth</th><td> 0.92885299</td><td>10.456913</td><td>10.154412</td><td> 83.42871</td></tr>\n",
       "\t<tr><th scope=row>operating_income_growth</th><td>-2.89183380</td><td>10.438564</td><td> 7.554473</td><td> 81.68254</td></tr>\n",
       "\t<tr><th scope=row>net_income_growth</th><td> 1.40986823</td><td>11.044822</td><td>11.984992</td><td> 85.33332</td></tr>\n",
       "\t<tr><th scope=row>weighted_average_shares_growth</th><td> 3.11273851</td><td>11.859411</td><td>13.366909</td><td> 90.77541</td></tr>\n",
       "\t<tr><th scope=row>weighted_average_shares_diluted_growth</th><td> 5.23813782</td><td> 3.638951</td><td> 7.983493</td><td> 88.30373</td></tr>\n",
       "\t<tr><th scope=row>dividends_per_share_growth</th><td> 0.03782154</td><td> 5.820155</td><td> 5.842299</td><td> 40.18855</td></tr>\n",
       "\t<tr><th scope=row>operating_cash_flow_growth</th><td> 0.53071144</td><td>13.178918</td><td>12.854678</td><td> 93.49309</td></tr>\n",
       "\t<tr><th scope=row>free_cash_flow_growth</th><td> 0.92967830</td><td> 8.462661</td><td> 8.158149</td><td> 91.32503</td></tr>\n",
       "\t<tr><th scope=row>three_yr_revenue_growth_per_share</th><td>-2.08091698</td><td> 9.643045</td><td> 6.937098</td><td> 86.73922</td></tr>\n",
       "\t<tr><th scope=row>three_yr_operating_cf_growth_per_share</th><td> 0.17481262</td><td> 6.095001</td><td> 5.144084</td><td> 65.52151</td></tr>\n",
       "\t<tr><th scope=row>three_yr_net_income_growth_per_share</th><td>-1.14899329</td><td> 5.791298</td><td> 4.450727</td><td> 59.05269</td></tr>\n",
       "\t<tr><th scope=row>three_yr_shareholders_equity_growth_per_share</th><td> 4.28025964</td><td> 3.906241</td><td> 6.686385</td><td> 83.33191</td></tr>\n",
       "\t<tr><th scope=row>three_yr_dividend_per_share_growth_per_share</th><td>-0.15381437</td><td> 5.730202</td><td> 5.492264</td><td> 42.10648</td></tr>\n",
       "\t<tr><th scope=row>receivables_growth</th><td>-3.14413366</td><td>11.329354</td><td> 8.248408</td><td> 81.11670</td></tr>\n",
       "\t<tr><th scope=row>inventory_growth</th><td> 2.75756070</td><td> 7.508308</td><td> 8.070437</td><td> 66.60447</td></tr>\n",
       "\t<tr><th scope=row>asset_growth</th><td>-2.64978807</td><td>12.674930</td><td> 9.743884</td><td> 89.73381</td></tr>\n",
       "\t<tr><th scope=row>book_value_per_share_growth</th><td> 5.23987122</td><td> 7.133460</td><td> 9.905675</td><td> 93.60929</td></tr>\n",
       "\t<tr><th scope=row>debt_growth</th><td>-4.13488619</td><td> 7.314044</td><td> 3.124599</td><td> 75.68185</td></tr>\n",
       "\t<tr><th scope=row>r.d_expense_growth</th><td>-0.37362489</td><td> 9.002693</td><td> 7.721530</td><td> 42.90167</td></tr>\n",
       "\t<tr><th scope=row>sg.a_expenses_growth</th><td>-2.02547924</td><td>13.671361</td><td>10.689957</td><td> 89.96689</td></tr>\n",
       "\t<tr><th scope=row>payout_ratio</th><td>-0.08259931</td><td> 8.911882</td><td> 9.909570</td><td> 48.11034</td></tr>\n",
       "\t<tr><th scope=row>interest_coverage</th><td>-1.34603963</td><td> 7.218172</td><td> 6.025580</td><td> 65.10956</td></tr>\n",
       "\t<tr><th scope=row>dividend_yield</th><td>-2.75887751</td><td>10.351937</td><td>10.299851</td><td> 48.87238</td></tr>\n",
       "\t<tr><th scope=row>pe_ratio</th><td> 3.91580230</td><td>10.487304</td><td>14.322875</td><td> 76.04767</td></tr>\n",
       "\t<tr><th scope=row>pfcf_ratio</th><td>-1.71010716</td><td>11.829650</td><td>10.983986</td><td> 65.32542</td></tr>\n",
       "\t<tr><th scope=row>pocf_ratio</th><td> 3.55088341</td><td>11.787835</td><td>15.588678</td><td> 97.36306</td></tr>\n",
       "\t<tr><th scope=row>days_payables_outstanding</th><td>-2.78762138</td><td>11.275971</td><td> 9.718900</td><td> 76.24621</td></tr>\n",
       "\t<tr><th scope=row>free_cash_flow_per_share</th><td> 1.15167547</td><td>12.615543</td><td>13.898040</td><td>100.45066</td></tr>\n",
       "\t<tr><th scope=row>roe</th><td> 6.22540621</td><td> 8.010648</td><td>12.811221</td><td> 88.28519</td></tr>\n",
       "\t<tr><th scope=row>ptb_ratio</th><td> 4.55574268</td><td>14.169983</td><td>15.726663</td><td> 89.77470</td></tr>\n",
       "</tbody>\n",
       "</table>\n"
      ],
      "text/latex": [
       "A matrix: 93 × 4 of type dbl\n",
       "\\begin{tabular}{r|llll}\n",
       "  & 0 & 1 & MeanDecreaseAccuracy & MeanDecreaseGini\\\\\n",
       "\\hline\n",
       "\tsector\\_num &  7.72577958 & 16.4610398 & 21.243452 & 144.83382\\\\\n",
       "\tcost\\_of\\_revenue &  4.75511205 &  5.7823953 & 10.664696 &  59.31891\\\\\n",
       "\tr.d\\_expenses &  0.98527882 &  4.3622438 &  5.274755 &  39.68677\\\\\n",
       "\tsg.a\\_expense &  8.21166184 &  4.3374613 & 13.284011 &  84.46812\\\\\n",
       "\tinterest\\_expense &  3.28889713 &  5.0855160 &  8.590693 &  54.28495\\\\\n",
       "\tincome\\_tax\\_expense &  6.54799295 &  7.8275468 & 12.228063 &  79.50409\\\\\n",
       "\tnet\\_income\\_\\_noncontrolling\\_int &  5.39348367 & -0.2929466 &  4.094481 &  36.12020\\\\\n",
       "\tnet\\_income\\_\\_discontinued\\_ops &  2.40238110 &  0.9930758 &  2.301021 &  15.09469\\\\\n",
       "\tpreferred\\_dividends &  4.14875264 & -0.5347619 &  2.648197 &  15.24566\\\\\n",
       "\tearnings\\_per\\_share & 10.57112908 &  7.9357611 & 17.276417 & 106.44910\\\\\n",
       "\tweighted\\_average\\_shs\\_out\\_dil & 11.98422895 &  8.9908016 & 18.326505 & 100.01243\\\\\n",
       "\tdividend\\_per\\_share &  1.75170461 &  6.9557366 &  9.166705 &  44.72923\\\\\n",
       "\tebitda\\_margin & -0.04811176 & 12.9086728 & 14.400394 &  97.11117\\\\\n",
       "\tconsolidated\\_income &  6.15436570 &  8.7405501 & 14.391254 &  89.61241\\\\\n",
       "\tcash\\_and\\_cash\\_equivalents &  4.35225856 &  5.6622486 & 10.439272 &  78.17763\\\\\n",
       "\tshortterm\\_investments &  2.17988281 &  2.3543893 &  3.706340 &  39.35740\\\\\n",
       "\treceivables &  5.71041861 &  6.5164136 & 12.675183 &  68.58812\\\\\n",
       "\tgoodwill\\_and\\_intangible\\_assets & -2.05848438 &  8.9036886 &  7.871622 &  60.25347\\\\\n",
       "\tlongterm\\_investments &  7.29687507 &  4.1891304 & 10.015114 &  46.87727\\\\\n",
       "\ttax\\_assets & 11.84604636 & -5.3473492 &  8.799697 &  46.03687\\\\\n",
       "\tpayables &  7.71705320 &  5.6377004 & 12.943470 &  72.20483\\\\\n",
       "\tshortterm\\_debt &  2.29495701 &  4.8986303 &  6.501818 &  54.01003\\\\\n",
       "\tlongterm\\_debt &  5.56474171 &  4.8358631 & 12.261033 &  59.31380\\\\\n",
       "\tdeferred\\_revenue &  2.93761884 &  5.0501273 &  6.644960 &  40.79457\\\\\n",
       "\ttax\\_liabilities &  5.19790264 &  2.7659508 &  7.428113 &  47.73156\\\\\n",
       "\tother\\_comprehensive\\_income &  4.82319913 &  3.2312271 &  6.927819 &  72.30294\\\\\n",
       "\tretained\\_earnings\\_deficit &  9.69290416 &  2.5152790 & 12.792983 &  79.76619\\\\\n",
       "\tother\\_liabilities &  5.06389264 &  8.9083543 & 13.331456 &  92.25383\\\\\n",
       "\tstockbased\\_compensation &  5.18649617 &  3.8252983 &  7.961311 &  74.63875\\\\\n",
       "\tcapital\\_expenditure &  4.57901284 &  6.9122591 & 12.415368 &  72.18831\\\\\n",
       "\t... & ... & ... & ... & ...\\\\\n",
       "\tebit\\_growth &  0.92885299 & 10.456913 & 10.154412 &  83.42871\\\\\n",
       "\toperating\\_income\\_growth & -2.89183380 & 10.438564 &  7.554473 &  81.68254\\\\\n",
       "\tnet\\_income\\_growth &  1.40986823 & 11.044822 & 11.984992 &  85.33332\\\\\n",
       "\tweighted\\_average\\_shares\\_growth &  3.11273851 & 11.859411 & 13.366909 &  90.77541\\\\\n",
       "\tweighted\\_average\\_shares\\_diluted\\_growth &  5.23813782 &  3.638951 &  7.983493 &  88.30373\\\\\n",
       "\tdividends\\_per\\_share\\_growth &  0.03782154 &  5.820155 &  5.842299 &  40.18855\\\\\n",
       "\toperating\\_cash\\_flow\\_growth &  0.53071144 & 13.178918 & 12.854678 &  93.49309\\\\\n",
       "\tfree\\_cash\\_flow\\_growth &  0.92967830 &  8.462661 &  8.158149 &  91.32503\\\\\n",
       "\tthree\\_yr\\_revenue\\_growth\\_per\\_share & -2.08091698 &  9.643045 &  6.937098 &  86.73922\\\\\n",
       "\tthree\\_yr\\_operating\\_cf\\_growth\\_per\\_share &  0.17481262 &  6.095001 &  5.144084 &  65.52151\\\\\n",
       "\tthree\\_yr\\_net\\_income\\_growth\\_per\\_share & -1.14899329 &  5.791298 &  4.450727 &  59.05269\\\\\n",
       "\tthree\\_yr\\_shareholders\\_equity\\_growth\\_per\\_share &  4.28025964 &  3.906241 &  6.686385 &  83.33191\\\\\n",
       "\tthree\\_yr\\_dividend\\_per\\_share\\_growth\\_per\\_share & -0.15381437 &  5.730202 &  5.492264 &  42.10648\\\\\n",
       "\treceivables\\_growth & -3.14413366 & 11.329354 &  8.248408 &  81.11670\\\\\n",
       "\tinventory\\_growth &  2.75756070 &  7.508308 &  8.070437 &  66.60447\\\\\n",
       "\tasset\\_growth & -2.64978807 & 12.674930 &  9.743884 &  89.73381\\\\\n",
       "\tbook\\_value\\_per\\_share\\_growth &  5.23987122 &  7.133460 &  9.905675 &  93.60929\\\\\n",
       "\tdebt\\_growth & -4.13488619 &  7.314044 &  3.124599 &  75.68185\\\\\n",
       "\tr.d\\_expense\\_growth & -0.37362489 &  9.002693 &  7.721530 &  42.90167\\\\\n",
       "\tsg.a\\_expenses\\_growth & -2.02547924 & 13.671361 & 10.689957 &  89.96689\\\\\n",
       "\tpayout\\_ratio & -0.08259931 &  8.911882 &  9.909570 &  48.11034\\\\\n",
       "\tinterest\\_coverage & -1.34603963 &  7.218172 &  6.025580 &  65.10956\\\\\n",
       "\tdividend\\_yield & -2.75887751 & 10.351937 & 10.299851 &  48.87238\\\\\n",
       "\tpe\\_ratio &  3.91580230 & 10.487304 & 14.322875 &  76.04767\\\\\n",
       "\tpfcf\\_ratio & -1.71010716 & 11.829650 & 10.983986 &  65.32542\\\\\n",
       "\tpocf\\_ratio &  3.55088341 & 11.787835 & 15.588678 &  97.36306\\\\\n",
       "\tdays\\_payables\\_outstanding & -2.78762138 & 11.275971 &  9.718900 &  76.24621\\\\\n",
       "\tfree\\_cash\\_flow\\_per\\_share &  1.15167547 & 12.615543 & 13.898040 & 100.45066\\\\\n",
       "\troe &  6.22540621 &  8.010648 & 12.811221 &  88.28519\\\\\n",
       "\tptb\\_ratio &  4.55574268 & 14.169983 & 15.726663 &  89.77470\\\\\n",
       "\\end{tabular}\n"
      ],
      "text/markdown": [
       "\n",
       "A matrix: 93 × 4 of type dbl\n",
       "\n",
       "| <!--/--> | 0 | 1 | MeanDecreaseAccuracy | MeanDecreaseGini |\n",
       "|---|---|---|---|---|\n",
       "| sector_num |  7.72577958 | 16.4610398 | 21.243452 | 144.83382 |\n",
       "| cost_of_revenue |  4.75511205 |  5.7823953 | 10.664696 |  59.31891 |\n",
       "| r.d_expenses |  0.98527882 |  4.3622438 |  5.274755 |  39.68677 |\n",
       "| sg.a_expense |  8.21166184 |  4.3374613 | 13.284011 |  84.46812 |\n",
       "| interest_expense |  3.28889713 |  5.0855160 |  8.590693 |  54.28495 |\n",
       "| income_tax_expense |  6.54799295 |  7.8275468 | 12.228063 |  79.50409 |\n",
       "| net_income__noncontrolling_int |  5.39348367 | -0.2929466 |  4.094481 |  36.12020 |\n",
       "| net_income__discontinued_ops |  2.40238110 |  0.9930758 |  2.301021 |  15.09469 |\n",
       "| preferred_dividends |  4.14875264 | -0.5347619 |  2.648197 |  15.24566 |\n",
       "| earnings_per_share | 10.57112908 |  7.9357611 | 17.276417 | 106.44910 |\n",
       "| weighted_average_shs_out_dil | 11.98422895 |  8.9908016 | 18.326505 | 100.01243 |\n",
       "| dividend_per_share |  1.75170461 |  6.9557366 |  9.166705 |  44.72923 |\n",
       "| ebitda_margin | -0.04811176 | 12.9086728 | 14.400394 |  97.11117 |\n",
       "| consolidated_income |  6.15436570 |  8.7405501 | 14.391254 |  89.61241 |\n",
       "| cash_and_cash_equivalents |  4.35225856 |  5.6622486 | 10.439272 |  78.17763 |\n",
       "| shortterm_investments |  2.17988281 |  2.3543893 |  3.706340 |  39.35740 |\n",
       "| receivables |  5.71041861 |  6.5164136 | 12.675183 |  68.58812 |\n",
       "| goodwill_and_intangible_assets | -2.05848438 |  8.9036886 |  7.871622 |  60.25347 |\n",
       "| longterm_investments |  7.29687507 |  4.1891304 | 10.015114 |  46.87727 |\n",
       "| tax_assets | 11.84604636 | -5.3473492 |  8.799697 |  46.03687 |\n",
       "| payables |  7.71705320 |  5.6377004 | 12.943470 |  72.20483 |\n",
       "| shortterm_debt |  2.29495701 |  4.8986303 |  6.501818 |  54.01003 |\n",
       "| longterm_debt |  5.56474171 |  4.8358631 | 12.261033 |  59.31380 |\n",
       "| deferred_revenue |  2.93761884 |  5.0501273 |  6.644960 |  40.79457 |\n",
       "| tax_liabilities |  5.19790264 |  2.7659508 |  7.428113 |  47.73156 |\n",
       "| other_comprehensive_income |  4.82319913 |  3.2312271 |  6.927819 |  72.30294 |\n",
       "| retained_earnings_deficit |  9.69290416 |  2.5152790 | 12.792983 |  79.76619 |\n",
       "| other_liabilities |  5.06389264 |  8.9083543 | 13.331456 |  92.25383 |\n",
       "| stockbased_compensation |  5.18649617 |  3.8252983 |  7.961311 |  74.63875 |\n",
       "| capital_expenditure |  4.57901284 |  6.9122591 | 12.415368 |  72.18831 |\n",
       "| ... | ... | ... | ... | ... |\n",
       "| ebit_growth |  0.92885299 | 10.456913 | 10.154412 |  83.42871 |\n",
       "| operating_income_growth | -2.89183380 | 10.438564 |  7.554473 |  81.68254 |\n",
       "| net_income_growth |  1.40986823 | 11.044822 | 11.984992 |  85.33332 |\n",
       "| weighted_average_shares_growth |  3.11273851 | 11.859411 | 13.366909 |  90.77541 |\n",
       "| weighted_average_shares_diluted_growth |  5.23813782 |  3.638951 |  7.983493 |  88.30373 |\n",
       "| dividends_per_share_growth |  0.03782154 |  5.820155 |  5.842299 |  40.18855 |\n",
       "| operating_cash_flow_growth |  0.53071144 | 13.178918 | 12.854678 |  93.49309 |\n",
       "| free_cash_flow_growth |  0.92967830 |  8.462661 |  8.158149 |  91.32503 |\n",
       "| three_yr_revenue_growth_per_share | -2.08091698 |  9.643045 |  6.937098 |  86.73922 |\n",
       "| three_yr_operating_cf_growth_per_share |  0.17481262 |  6.095001 |  5.144084 |  65.52151 |\n",
       "| three_yr_net_income_growth_per_share | -1.14899329 |  5.791298 |  4.450727 |  59.05269 |\n",
       "| three_yr_shareholders_equity_growth_per_share |  4.28025964 |  3.906241 |  6.686385 |  83.33191 |\n",
       "| three_yr_dividend_per_share_growth_per_share | -0.15381437 |  5.730202 |  5.492264 |  42.10648 |\n",
       "| receivables_growth | -3.14413366 | 11.329354 |  8.248408 |  81.11670 |\n",
       "| inventory_growth |  2.75756070 |  7.508308 |  8.070437 |  66.60447 |\n",
       "| asset_growth | -2.64978807 | 12.674930 |  9.743884 |  89.73381 |\n",
       "| book_value_per_share_growth |  5.23987122 |  7.133460 |  9.905675 |  93.60929 |\n",
       "| debt_growth | -4.13488619 |  7.314044 |  3.124599 |  75.68185 |\n",
       "| r.d_expense_growth | -0.37362489 |  9.002693 |  7.721530 |  42.90167 |\n",
       "| sg.a_expenses_growth | -2.02547924 | 13.671361 | 10.689957 |  89.96689 |\n",
       "| payout_ratio | -0.08259931 |  8.911882 |  9.909570 |  48.11034 |\n",
       "| interest_coverage | -1.34603963 |  7.218172 |  6.025580 |  65.10956 |\n",
       "| dividend_yield | -2.75887751 | 10.351937 | 10.299851 |  48.87238 |\n",
       "| pe_ratio |  3.91580230 | 10.487304 | 14.322875 |  76.04767 |\n",
       "| pfcf_ratio | -1.71010716 | 11.829650 | 10.983986 |  65.32542 |\n",
       "| pocf_ratio |  3.55088341 | 11.787835 | 15.588678 |  97.36306 |\n",
       "| days_payables_outstanding | -2.78762138 | 11.275971 |  9.718900 |  76.24621 |\n",
       "| free_cash_flow_per_share |  1.15167547 | 12.615543 | 13.898040 | 100.45066 |\n",
       "| roe |  6.22540621 |  8.010648 | 12.811221 |  88.28519 |\n",
       "| ptb_ratio |  4.55574268 | 14.169983 | 15.726663 |  89.77470 |\n",
       "\n"
      ],
      "text/plain": [
       "                                              0           1         \n",
       "sector_num                                     7.72577958 16.4610398\n",
       "cost_of_revenue                                4.75511205  5.7823953\n",
       "r.d_expenses                                   0.98527882  4.3622438\n",
       "sg.a_expense                                   8.21166184  4.3374613\n",
       "interest_expense                               3.28889713  5.0855160\n",
       "income_tax_expense                             6.54799295  7.8275468\n",
       "net_income__noncontrolling_int                 5.39348367 -0.2929466\n",
       "net_income__discontinued_ops                   2.40238110  0.9930758\n",
       "preferred_dividends                            4.14875264 -0.5347619\n",
       "earnings_per_share                            10.57112908  7.9357611\n",
       "weighted_average_shs_out_dil                  11.98422895  8.9908016\n",
       "dividend_per_share                             1.75170461  6.9557366\n",
       "ebitda_margin                                 -0.04811176 12.9086728\n",
       "consolidated_income                            6.15436570  8.7405501\n",
       "cash_and_cash_equivalents                      4.35225856  5.6622486\n",
       "shortterm_investments                          2.17988281  2.3543893\n",
       "receivables                                    5.71041861  6.5164136\n",
       "goodwill_and_intangible_assets                -2.05848438  8.9036886\n",
       "longterm_investments                           7.29687507  4.1891304\n",
       "tax_assets                                    11.84604636 -5.3473492\n",
       "payables                                       7.71705320  5.6377004\n",
       "shortterm_debt                                 2.29495701  4.8986303\n",
       "longterm_debt                                  5.56474171  4.8358631\n",
       "deferred_revenue                               2.93761884  5.0501273\n",
       "tax_liabilities                                5.19790264  2.7659508\n",
       "other_comprehensive_income                     4.82319913  3.2312271\n",
       "retained_earnings_deficit                      9.69290416  2.5152790\n",
       "other_liabilities                              5.06389264  8.9083543\n",
       "stockbased_compensation                        5.18649617  3.8252983\n",
       "capital_expenditure                            4.57901284  6.9122591\n",
       "...                                           ...         ...       \n",
       "ebit_growth                                    0.92885299 10.456913 \n",
       "operating_income_growth                       -2.89183380 10.438564 \n",
       "net_income_growth                              1.40986823 11.044822 \n",
       "weighted_average_shares_growth                 3.11273851 11.859411 \n",
       "weighted_average_shares_diluted_growth         5.23813782  3.638951 \n",
       "dividends_per_share_growth                     0.03782154  5.820155 \n",
       "operating_cash_flow_growth                     0.53071144 13.178918 \n",
       "free_cash_flow_growth                          0.92967830  8.462661 \n",
       "three_yr_revenue_growth_per_share             -2.08091698  9.643045 \n",
       "three_yr_operating_cf_growth_per_share         0.17481262  6.095001 \n",
       "three_yr_net_income_growth_per_share          -1.14899329  5.791298 \n",
       "three_yr_shareholders_equity_growth_per_share  4.28025964  3.906241 \n",
       "three_yr_dividend_per_share_growth_per_share  -0.15381437  5.730202 \n",
       "receivables_growth                            -3.14413366 11.329354 \n",
       "inventory_growth                               2.75756070  7.508308 \n",
       "asset_growth                                  -2.64978807 12.674930 \n",
       "book_value_per_share_growth                    5.23987122  7.133460 \n",
       "debt_growth                                   -4.13488619  7.314044 \n",
       "r.d_expense_growth                            -0.37362489  9.002693 \n",
       "sg.a_expenses_growth                          -2.02547924 13.671361 \n",
       "payout_ratio                                  -0.08259931  8.911882 \n",
       "interest_coverage                             -1.34603963  7.218172 \n",
       "dividend_yield                                -2.75887751 10.351937 \n",
       "pe_ratio                                       3.91580230 10.487304 \n",
       "pfcf_ratio                                    -1.71010716 11.829650 \n",
       "pocf_ratio                                     3.55088341 11.787835 \n",
       "days_payables_outstanding                     -2.78762138 11.275971 \n",
       "free_cash_flow_per_share                       1.15167547 12.615543 \n",
       "roe                                            6.22540621  8.010648 \n",
       "ptb_ratio                                      4.55574268 14.169983 \n",
       "                                              MeanDecreaseAccuracy\n",
       "sector_num                                    21.243452           \n",
       "cost_of_revenue                               10.664696           \n",
       "r.d_expenses                                   5.274755           \n",
       "sg.a_expense                                  13.284011           \n",
       "interest_expense                               8.590693           \n",
       "income_tax_expense                            12.228063           \n",
       "net_income__noncontrolling_int                 4.094481           \n",
       "net_income__discontinued_ops                   2.301021           \n",
       "preferred_dividends                            2.648197           \n",
       "earnings_per_share                            17.276417           \n",
       "weighted_average_shs_out_dil                  18.326505           \n",
       "dividend_per_share                             9.166705           \n",
       "ebitda_margin                                 14.400394           \n",
       "consolidated_income                           14.391254           \n",
       "cash_and_cash_equivalents                     10.439272           \n",
       "shortterm_investments                          3.706340           \n",
       "receivables                                   12.675183           \n",
       "goodwill_and_intangible_assets                 7.871622           \n",
       "longterm_investments                          10.015114           \n",
       "tax_assets                                     8.799697           \n",
       "payables                                      12.943470           \n",
       "shortterm_debt                                 6.501818           \n",
       "longterm_debt                                 12.261033           \n",
       "deferred_revenue                               6.644960           \n",
       "tax_liabilities                                7.428113           \n",
       "other_comprehensive_income                     6.927819           \n",
       "retained_earnings_deficit                     12.792983           \n",
       "other_liabilities                             13.331456           \n",
       "stockbased_compensation                        7.961311           \n",
       "capital_expenditure                           12.415368           \n",
       "...                                           ...                 \n",
       "ebit_growth                                   10.154412           \n",
       "operating_income_growth                        7.554473           \n",
       "net_income_growth                             11.984992           \n",
       "weighted_average_shares_growth                13.366909           \n",
       "weighted_average_shares_diluted_growth         7.983493           \n",
       "dividends_per_share_growth                     5.842299           \n",
       "operating_cash_flow_growth                    12.854678           \n",
       "free_cash_flow_growth                          8.158149           \n",
       "three_yr_revenue_growth_per_share              6.937098           \n",
       "three_yr_operating_cf_growth_per_share         5.144084           \n",
       "three_yr_net_income_growth_per_share           4.450727           \n",
       "three_yr_shareholders_equity_growth_per_share  6.686385           \n",
       "three_yr_dividend_per_share_growth_per_share   5.492264           \n",
       "receivables_growth                             8.248408           \n",
       "inventory_growth                               8.070437           \n",
       "asset_growth                                   9.743884           \n",
       "book_value_per_share_growth                    9.905675           \n",
       "debt_growth                                    3.124599           \n",
       "r.d_expense_growth                             7.721530           \n",
       "sg.a_expenses_growth                          10.689957           \n",
       "payout_ratio                                   9.909570           \n",
       "interest_coverage                              6.025580           \n",
       "dividend_yield                                10.299851           \n",
       "pe_ratio                                      14.322875           \n",
       "pfcf_ratio                                    10.983986           \n",
       "pocf_ratio                                    15.588678           \n",
       "days_payables_outstanding                      9.718900           \n",
       "free_cash_flow_per_share                      13.898040           \n",
       "roe                                           12.811221           \n",
       "ptb_ratio                                     15.726663           \n",
       "                                              MeanDecreaseGini\n",
       "sector_num                                    144.83382       \n",
       "cost_of_revenue                                59.31891       \n",
       "r.d_expenses                                   39.68677       \n",
       "sg.a_expense                                   84.46812       \n",
       "interest_expense                               54.28495       \n",
       "income_tax_expense                             79.50409       \n",
       "net_income__noncontrolling_int                 36.12020       \n",
       "net_income__discontinued_ops                   15.09469       \n",
       "preferred_dividends                            15.24566       \n",
       "earnings_per_share                            106.44910       \n",
       "weighted_average_shs_out_dil                  100.01243       \n",
       "dividend_per_share                             44.72923       \n",
       "ebitda_margin                                  97.11117       \n",
       "consolidated_income                            89.61241       \n",
       "cash_and_cash_equivalents                      78.17763       \n",
       "shortterm_investments                          39.35740       \n",
       "receivables                                    68.58812       \n",
       "goodwill_and_intangible_assets                 60.25347       \n",
       "longterm_investments                           46.87727       \n",
       "tax_assets                                     46.03687       \n",
       "payables                                       72.20483       \n",
       "shortterm_debt                                 54.01003       \n",
       "longterm_debt                                  59.31380       \n",
       "deferred_revenue                               40.79457       \n",
       "tax_liabilities                                47.73156       \n",
       "other_comprehensive_income                     72.30294       \n",
       "retained_earnings_deficit                      79.76619       \n",
       "other_liabilities                              92.25383       \n",
       "stockbased_compensation                        74.63875       \n",
       "capital_expenditure                            72.18831       \n",
       "...                                           ...             \n",
       "ebit_growth                                    83.42871       \n",
       "operating_income_growth                        81.68254       \n",
       "net_income_growth                              85.33332       \n",
       "weighted_average_shares_growth                 90.77541       \n",
       "weighted_average_shares_diluted_growth         88.30373       \n",
       "dividends_per_share_growth                     40.18855       \n",
       "operating_cash_flow_growth                     93.49309       \n",
       "free_cash_flow_growth                          91.32503       \n",
       "three_yr_revenue_growth_per_share              86.73922       \n",
       "three_yr_operating_cf_growth_per_share         65.52151       \n",
       "three_yr_net_income_growth_per_share           59.05269       \n",
       "three_yr_shareholders_equity_growth_per_share  83.33191       \n",
       "three_yr_dividend_per_share_growth_per_share   42.10648       \n",
       "receivables_growth                             81.11670       \n",
       "inventory_growth                               66.60447       \n",
       "asset_growth                                   89.73381       \n",
       "book_value_per_share_growth                    93.60929       \n",
       "debt_growth                                    75.68185       \n",
       "r.d_expense_growth                             42.90167       \n",
       "sg.a_expenses_growth                           89.96689       \n",
       "payout_ratio                                   48.11034       \n",
       "interest_coverage                              65.10956       \n",
       "dividend_yield                                 48.87238       \n",
       "pe_ratio                                       76.04767       \n",
       "pfcf_ratio                                     65.32542       \n",
       "pocf_ratio                                     97.36306       \n",
       "days_payables_outstanding                      76.24621       \n",
       "free_cash_flow_per_share                      100.45066       \n",
       "roe                                            88.28519       \n",
       "ptb_ratio                                      89.77470       "
      ]
     },
     "metadata": {},
     "output_type": "display_data"
    }
   ],
   "source": [
    "##Checking importance of variables from the knn imputed random forest##\n",
    "importance(forestknn)"
   ]
  },
  {
   "cell_type": "code",
   "execution_count": 28,
   "metadata": {},
   "outputs": [
    {
     "data": {
      "image/png": "[encoded data removed]",
      "text/plain": [
       "plot without title"
      ]
     },
     "metadata": {
      "image/png": {
       "height": 420,
       "width": 420
      },
      "text/plain": {
       "height": 420,
       "width": 420
      }
     },
     "output_type": "display_data"
    }
   ],
   "source": [
    "varImpPlot(forestknn, n.var = 15, main = \"Random Forest Importance Plot\")"
   ]
  },
  {
   "cell_type": "code",
   "execution_count": 29,
   "metadata": {},
   "outputs": [
    {
     "data": {
      "image/png": "[encoded data removed]",
      "text/plain": [
       "Plot with title \"2014 Decision Tree\""
      ]
     },
     "metadata": {
      "image/png": {
       "height": 420,
       "width": 420
      },
      "text/plain": {
       "height": 420,
       "width": 420
      }
     },
     "output_type": "display_data"
    },
    {
     "data": {
      "image/png": "[encoded data removed]",
      "text/plain": [
       "Plot with title \"2015 Decision Tree\""
      ]
     },
     "metadata": {
      "image/png": {
       "height": 420,
       "width": 420
      },
      "text/plain": {
       "height": 420,
       "width": 420
      }
     },
     "output_type": "display_data"
    },
    {
     "data": {
      "image/png": "[encoded data removed]",
      "text/plain": [
       "Plot with title \"2016 Decision Tree\""
      ]
     },
     "metadata": {
      "image/png": {
       "height": 420,
       "width": 420
      },
      "text/plain": {
       "height": 420,
       "width": 420
      }
     },
     "output_type": "display_data"
    },
    {
     "data": {
      "image/png": "[encoded data removed]",
      "text/plain": [
       "Plot with title \"2017 Decision Tree\""
      ]
     },
     "metadata": {
      "image/png": {
       "height": 420,
       "width": 420
      },
      "text/plain": {
       "height": 420,
       "width": 420
      }
     },
     "output_type": "display_data"
    },
    {
     "data": {
      "image/png": "[encoded data removed]",
      "text/plain": [
       "Plot with title \"2018 Decision Tree\""
      ]
     },
     "metadata": {
      "image/png": {
       "height": 420,
       "width": 420
      },
      "text/plain": {
       "height": 420,
       "width": 420
      }
     },
     "output_type": "display_data"
    }
   ],
   "source": [
    "#Checking variable importance per year using decision trees to see if there are any trends across years#\n",
    "dtree2014 <- DTree(dat=imputedknn,2014)\n",
    "rpart.plot(dtree2014, extra = 101, roundint = FALSE, main = \"2014 Decision Tree\")\n",
    "importance14 <- varImp(dtree2014)\n",
    "\n",
    "dtree2015 <- DTree(dat=imputedknn,2015)\n",
    "rpart.plot(dtree2015, extra = 101, roundint = FALSE, main = \"2015 Decision Tree\")\n",
    "importance15 <- varImp(dtree2015)\n",
    "\n",
    "dtree2016 <- DTree(dat=imputedknn,2016)\n",
    "rpart.plot(dtree2016, extra = 101, roundint = FALSE, main = \"2016 Decision Tree\")\n",
    "importance16 <- varImp(dtree2016)\n",
    "\n",
    "dtree2017 <- DTree(dat=imputedknn,2017)\n",
    "rpart.plot(dtree2017, extra = 101, roundint = FALSE, main = \"2017 Decision Tree\")\n",
    "importance17 <- varImp(dtree2017)\n",
    "\n",
    "dtree2018 <- DTree(dat=imputedknn,2018)\n",
    "rpart.plot(dtree2018, extra = 101, roundint = FALSE, main = \"2018 Decision Tree\")\n",
    "importance18 <- varImp(dtree2018)"
   ]
  },
  {
   "cell_type": "code",
   "execution_count": 30,
   "metadata": {},
   "outputs": [
    {
     "data": {
      "text/html": [
       "<table>\n",
       "<caption>A data.frame: 25 × 5</caption>\n",
       "<thead>\n",
       "\t<tr><th></th><th scope=col>Overall</th><th scope=col>Overall</th><th scope=col>Overall</th><th scope=col>Overall</th><th scope=col>Overall</th></tr>\n",
       "\t<tr><th></th><th scope=col>&lt;dbl&gt;</th><th scope=col>&lt;dbl&gt;</th><th scope=col>&lt;dbl&gt;</th><th scope=col>&lt;dbl&gt;</th><th scope=col>&lt;dbl&gt;</th></tr>\n",
       "</thead>\n",
       "<tbody>\n",
       "\t<tr><th scope=row>capital_expenditure</th><td>  5.730159</td><td>206.56445</td><td> 92.979144</td><td>29.520749</td><td> 28.96509</td></tr>\n",
       "\t<tr><th scope=row>capitalexpenditurecoverageratios</th><td>106.962287</td><td>180.46060</td><td> 85.246580</td><td> 6.942308</td><td>151.26350</td></tr>\n",
       "\t<tr><th scope=row>cash_and_cash_equivalents</th><td>  5.292909</td><td>156.93088</td><td>  9.035321</td><td>36.143454</td><td> 19.82532</td></tr>\n",
       "\t<tr><th scope=row>consolidated_income</th><td>  4.665954</td><td> 28.55062</td><td>105.268850</td><td>10.814052</td><td> 22.29471</td></tr>\n",
       "\t<tr><th scope=row>cost_of_revenue</th><td> 12.773889</td><td> 27.09978</td><td> 72.986365</td><td>21.592084</td><td> 22.12876</td></tr>\n",
       "\t<tr><th scope=row>currentratio</th><td> 80.899583</td><td>189.68039</td><td> 69.744831</td><td>15.553511</td><td>155.35822</td></tr>\n",
       "\t<tr><th scope=row>deferred_revenue</th><td> 48.502286</td><td>220.11666</td><td> 28.651895</td><td> 7.336793</td><td>146.54359</td></tr>\n",
       "\t<tr><th scope=row>earnings_per_share</th><td> 17.305882</td><td>  0.00000</td><td> 25.072924</td><td> 4.539019</td><td>133.53522</td></tr>\n",
       "\t<tr><th scope=row>ev_to_free_cash_flow</th><td> 21.347923</td><td>  0.00000</td><td>  7.897998</td><td> 4.580937</td><td> 42.79437</td></tr>\n",
       "\t<tr><th scope=row>free_cash_flow_per_share</th><td> 41.562041</td><td>  0.00000</td><td> 21.079399</td><td>19.375535</td><td> 16.01848</td></tr>\n",
       "\t<tr><th scope=row>graham_number</th><td>  6.228500</td><td>  0.00000</td><td>  0.000000</td><td>31.082414</td><td> 50.29626</td></tr>\n",
       "\t<tr><th scope=row>grossprofitmargin</th><td> 12.505823</td><td>  0.00000</td><td>  0.000000</td><td>11.543523</td><td>151.24258</td></tr>\n",
       "\t<tr><th scope=row>income_tax_expense</th><td> 16.278024</td><td>  0.00000</td><td>  0.000000</td><td>13.694860</td><td> 29.42543</td></tr>\n",
       "\t<tr><th scope=row>interest_expense</th><td> 11.851219</td><td>  0.00000</td><td>  0.000000</td><td>19.622368</td><td> 18.02885</td></tr>\n",
       "\t<tr><th scope=row>investment_purchases_and_sales</th><td> 16.248595</td><td>  0.00000</td><td>  0.000000</td><td>77.366092</td><td> 35.31658</td></tr>\n",
       "\t<tr><th scope=row>payables</th><td> 62.451049</td><td>  0.00000</td><td>  0.000000</td><td> 7.063953</td><td> 18.82333</td></tr>\n",
       "\t<tr><th scope=row>pfcf_ratio</th><td> 16.616126</td><td>  0.00000</td><td>  0.000000</td><td> 7.031408</td><td> 26.20958</td></tr>\n",
       "\t<tr><th scope=row>pocf_ratio</th><td>  4.803922</td><td>  0.00000</td><td>  0.000000</td><td>17.421557</td><td> 29.07297</td></tr>\n",
       "\t<tr><th scope=row>quickratio</th><td> 92.009611</td><td>  0.00000</td><td>  0.000000</td><td> 0.000000</td><td>  0.00000</td></tr>\n",
       "\t<tr><th scope=row>sector_num</th><td>113.287554</td><td>  0.00000</td><td>  0.000000</td><td> 0.000000</td><td>  0.00000</td></tr>\n",
       "\t<tr><th scope=row>sg.a_expenses_growth</th><td>  4.714286</td><td>  0.00000</td><td>  0.000000</td><td> 0.000000</td><td>  0.00000</td></tr>\n",
       "\t<tr><th scope=row>three_yr_shareholders_equity_growth_per_share</th><td>  5.333333</td><td>  0.00000</td><td>  0.000000</td><td> 0.000000</td><td>  0.00000</td></tr>\n",
       "\t<tr><th scope=row>weighted_average_shs_out_dil</th><td>  4.587302</td><td>  0.00000</td><td>  0.000000</td><td> 0.000000</td><td>  0.00000</td></tr>\n",
       "\t<tr><th scope=row>r.d_expenses</th><td>  0.000000</td><td>  0.00000</td><td>  0.000000</td><td> 0.000000</td><td>  0.00000</td></tr>\n",
       "\t<tr><th scope=row>sg.a_expense</th><td>  0.000000</td><td>  0.00000</td><td>  0.000000</td><td> 0.000000</td><td>  0.00000</td></tr>\n",
       "</tbody>\n",
       "</table>\n"
      ],
      "text/latex": [
       "A data.frame: 25 × 5\n",
       "\\begin{tabular}{r|lllll}\n",
       "  & Overall & Overall & Overall & Overall & Overall\\\\\n",
       "  & <dbl> & <dbl> & <dbl> & <dbl> & <dbl>\\\\\n",
       "\\hline\n",
       "\tcapital\\_expenditure &   5.730159 & 206.56445 &  92.979144 & 29.520749 &  28.96509\\\\\n",
       "\tcapitalexpenditurecoverageratios & 106.962287 & 180.46060 &  85.246580 &  6.942308 & 151.26350\\\\\n",
       "\tcash\\_and\\_cash\\_equivalents &   5.292909 & 156.93088 &   9.035321 & 36.143454 &  19.82532\\\\\n",
       "\tconsolidated\\_income &   4.665954 &  28.55062 & 105.268850 & 10.814052 &  22.29471\\\\\n",
       "\tcost\\_of\\_revenue &  12.773889 &  27.09978 &  72.986365 & 21.592084 &  22.12876\\\\\n",
       "\tcurrentratio &  80.899583 & 189.68039 &  69.744831 & 15.553511 & 155.35822\\\\\n",
       "\tdeferred\\_revenue &  48.502286 & 220.11666 &  28.651895 &  7.336793 & 146.54359\\\\\n",
       "\tearnings\\_per\\_share &  17.305882 &   0.00000 &  25.072924 &  4.539019 & 133.53522\\\\\n",
       "\tev\\_to\\_free\\_cash\\_flow &  21.347923 &   0.00000 &   7.897998 &  4.580937 &  42.79437\\\\\n",
       "\tfree\\_cash\\_flow\\_per\\_share &  41.562041 &   0.00000 &  21.079399 & 19.375535 &  16.01848\\\\\n",
       "\tgraham\\_number &   6.228500 &   0.00000 &   0.000000 & 31.082414 &  50.29626\\\\\n",
       "\tgrossprofitmargin &  12.505823 &   0.00000 &   0.000000 & 11.543523 & 151.24258\\\\\n",
       "\tincome\\_tax\\_expense &  16.278024 &   0.00000 &   0.000000 & 13.694860 &  29.42543\\\\\n",
       "\tinterest\\_expense &  11.851219 &   0.00000 &   0.000000 & 19.622368 &  18.02885\\\\\n",
       "\tinvestment\\_purchases\\_and\\_sales &  16.248595 &   0.00000 &   0.000000 & 77.366092 &  35.31658\\\\\n",
       "\tpayables &  62.451049 &   0.00000 &   0.000000 &  7.063953 &  18.82333\\\\\n",
       "\tpfcf\\_ratio &  16.616126 &   0.00000 &   0.000000 &  7.031408 &  26.20958\\\\\n",
       "\tpocf\\_ratio &   4.803922 &   0.00000 &   0.000000 & 17.421557 &  29.07297\\\\\n",
       "\tquickratio &  92.009611 &   0.00000 &   0.000000 &  0.000000 &   0.00000\\\\\n",
       "\tsector\\_num & 113.287554 &   0.00000 &   0.000000 &  0.000000 &   0.00000\\\\\n",
       "\tsg.a\\_expenses\\_growth &   4.714286 &   0.00000 &   0.000000 &  0.000000 &   0.00000\\\\\n",
       "\tthree\\_yr\\_shareholders\\_equity\\_growth\\_per\\_share &   5.333333 &   0.00000 &   0.000000 &  0.000000 &   0.00000\\\\\n",
       "\tweighted\\_average\\_shs\\_out\\_dil &   4.587302 &   0.00000 &   0.000000 &  0.000000 &   0.00000\\\\\n",
       "\tr.d\\_expenses &   0.000000 &   0.00000 &   0.000000 &  0.000000 &   0.00000\\\\\n",
       "\tsg.a\\_expense &   0.000000 &   0.00000 &   0.000000 &  0.000000 &   0.00000\\\\\n",
       "\\end{tabular}\n"
      ],
      "text/markdown": [
       "\n",
       "A data.frame: 25 × 5\n",
       "\n",
       "| <!--/--> | Overall &lt;dbl&gt; | Overall &lt;dbl&gt; | Overall &lt;dbl&gt; | Overall &lt;dbl&gt; | Overall &lt;dbl&gt; |\n",
       "|---|---|---|---|---|---|\n",
       "| capital_expenditure |   5.730159 | 206.56445 |  92.979144 | 29.520749 |  28.96509 |\n",
       "| capitalexpenditurecoverageratios | 106.962287 | 180.46060 |  85.246580 |  6.942308 | 151.26350 |\n",
       "| cash_and_cash_equivalents |   5.292909 | 156.93088 |   9.035321 | 36.143454 |  19.82532 |\n",
       "| consolidated_income |   4.665954 |  28.55062 | 105.268850 | 10.814052 |  22.29471 |\n",
       "| cost_of_revenue |  12.773889 |  27.09978 |  72.986365 | 21.592084 |  22.12876 |\n",
       "| currentratio |  80.899583 | 189.68039 |  69.744831 | 15.553511 | 155.35822 |\n",
       "| deferred_revenue |  48.502286 | 220.11666 |  28.651895 |  7.336793 | 146.54359 |\n",
       "| earnings_per_share |  17.305882 |   0.00000 |  25.072924 |  4.539019 | 133.53522 |\n",
       "| ev_to_free_cash_flow |  21.347923 |   0.00000 |   7.897998 |  4.580937 |  42.79437 |\n",
       "| free_cash_flow_per_share |  41.562041 |   0.00000 |  21.079399 | 19.375535 |  16.01848 |\n",
       "| graham_number |   6.228500 |   0.00000 |   0.000000 | 31.082414 |  50.29626 |\n",
       "| grossprofitmargin |  12.505823 |   0.00000 |   0.000000 | 11.543523 | 151.24258 |\n",
       "| income_tax_expense |  16.278024 |   0.00000 |   0.000000 | 13.694860 |  29.42543 |\n",
       "| interest_expense |  11.851219 |   0.00000 |   0.000000 | 19.622368 |  18.02885 |\n",
       "| investment_purchases_and_sales |  16.248595 |   0.00000 |   0.000000 | 77.366092 |  35.31658 |\n",
       "| payables |  62.451049 |   0.00000 |   0.000000 |  7.063953 |  18.82333 |\n",
       "| pfcf_ratio |  16.616126 |   0.00000 |   0.000000 |  7.031408 |  26.20958 |\n",
       "| pocf_ratio |   4.803922 |   0.00000 |   0.000000 | 17.421557 |  29.07297 |\n",
       "| quickratio |  92.009611 |   0.00000 |   0.000000 |  0.000000 |   0.00000 |\n",
       "| sector_num | 113.287554 |   0.00000 |   0.000000 |  0.000000 |   0.00000 |\n",
       "| sg.a_expenses_growth |   4.714286 |   0.00000 |   0.000000 |  0.000000 |   0.00000 |\n",
       "| three_yr_shareholders_equity_growth_per_share |   5.333333 |   0.00000 |   0.000000 |  0.000000 |   0.00000 |\n",
       "| weighted_average_shs_out_dil |   4.587302 |   0.00000 |   0.000000 |  0.000000 |   0.00000 |\n",
       "| r.d_expenses |   0.000000 |   0.00000 |   0.000000 |  0.000000 |   0.00000 |\n",
       "| sg.a_expense |   0.000000 |   0.00000 |   0.000000 |  0.000000 |   0.00000 |\n",
       "\n"
      ],
      "text/plain": [
       "                                              Overall    Overall   Overall   \n",
       "capital_expenditure                             5.730159 206.56445  92.979144\n",
       "capitalexpenditurecoverageratios              106.962287 180.46060  85.246580\n",
       "cash_and_cash_equivalents                       5.292909 156.93088   9.035321\n",
       "consolidated_income                             4.665954  28.55062 105.268850\n",
       "cost_of_revenue                                12.773889  27.09978  72.986365\n",
       "currentratio                                   80.899583 189.68039  69.744831\n",
       "deferred_revenue                               48.502286 220.11666  28.651895\n",
       "earnings_per_share                             17.305882   0.00000  25.072924\n",
       "ev_to_free_cash_flow                           21.347923   0.00000   7.897998\n",
       "free_cash_flow_per_share                       41.562041   0.00000  21.079399\n",
       "graham_number                                   6.228500   0.00000   0.000000\n",
       "grossprofitmargin                              12.505823   0.00000   0.000000\n",
       "income_tax_expense                             16.278024   0.00000   0.000000\n",
       "interest_expense                               11.851219   0.00000   0.000000\n",
       "investment_purchases_and_sales                 16.248595   0.00000   0.000000\n",
       "payables                                       62.451049   0.00000   0.000000\n",
       "pfcf_ratio                                     16.616126   0.00000   0.000000\n",
       "pocf_ratio                                      4.803922   0.00000   0.000000\n",
       "quickratio                                     92.009611   0.00000   0.000000\n",
       "sector_num                                    113.287554   0.00000   0.000000\n",
       "sg.a_expenses_growth                            4.714286   0.00000   0.000000\n",
       "three_yr_shareholders_equity_growth_per_share   5.333333   0.00000   0.000000\n",
       "weighted_average_shs_out_dil                    4.587302   0.00000   0.000000\n",
       "r.d_expenses                                    0.000000   0.00000   0.000000\n",
       "sg.a_expense                                    0.000000   0.00000   0.000000\n",
       "                                              Overall   Overall  \n",
       "capital_expenditure                           29.520749  28.96509\n",
       "capitalexpenditurecoverageratios               6.942308 151.26350\n",
       "cash_and_cash_equivalents                     36.143454  19.82532\n",
       "consolidated_income                           10.814052  22.29471\n",
       "cost_of_revenue                               21.592084  22.12876\n",
       "currentratio                                  15.553511 155.35822\n",
       "deferred_revenue                               7.336793 146.54359\n",
       "earnings_per_share                             4.539019 133.53522\n",
       "ev_to_free_cash_flow                           4.580937  42.79437\n",
       "free_cash_flow_per_share                      19.375535  16.01848\n",
       "graham_number                                 31.082414  50.29626\n",
       "grossprofitmargin                             11.543523 151.24258\n",
       "income_tax_expense                            13.694860  29.42543\n",
       "interest_expense                              19.622368  18.02885\n",
       "investment_purchases_and_sales                77.366092  35.31658\n",
       "payables                                       7.063953  18.82333\n",
       "pfcf_ratio                                     7.031408  26.20958\n",
       "pocf_ratio                                    17.421557  29.07297\n",
       "quickratio                                     0.000000   0.00000\n",
       "sector_num                                     0.000000   0.00000\n",
       "sg.a_expenses_growth                           0.000000   0.00000\n",
       "three_yr_shareholders_equity_growth_per_share  0.000000   0.00000\n",
       "weighted_average_shs_out_dil                   0.000000   0.00000\n",
       "r.d_expenses                                   0.000000   0.00000\n",
       "sg.a_expense                                   0.000000   0.00000"
      ]
     },
     "metadata": {},
     "output_type": "display_data"
    }
   ],
   "source": [
    "importancematrix <- cbind(importance14, importance15, importance16, importance17, importance18)\n",
    "head(importancematrix, n=25)"
   ]
  },
  {
   "cell_type": "code",
   "execution_count": 31,
   "metadata": {},
   "outputs": [],
   "source": [
    "#Reducing the variables to only those that show an importance of greater than 0\n",
    "importance14$names <- row.names(importance14)\n",
    "importance14 <- importance14[which(importance14$Overall > 0), ]\n",
    "\n",
    "importance15$names <- row.names(importance15)\n",
    "importance15 <- importance15[which(importance15$Overall > 0), ]\n",
    "\n",
    "importance16$names <- row.names(importance16)\n",
    "importance16 <- importance16[which(importance16$Overall > 0), ]\n",
    "\n",
    "importance17$names <- row.names(importance17)\n",
    "importance17 <- importance17[which(importance17$Overall > 0), ]\n",
    "\n",
    "importance18$names <- row.names(importance18)\n",
    "importance18 <- importance18[which(importance18$Overall > 0), ]"
   ]
  },
  {
   "cell_type": "code",
   "execution_count": 32,
   "metadata": {},
   "outputs": [
    {
     "data": {
      "text/html": [
       "TRUE"
      ],
      "text/latex": [
       "TRUE"
      ],
      "text/markdown": [
       "TRUE"
      ],
      "text/plain": [
       "[1] TRUE"
      ]
     },
     "metadata": {},
     "output_type": "display_data"
    },
    {
     "data": {
      "text/html": [
       "TRUE"
      ],
      "text/latex": [
       "TRUE"
      ],
      "text/markdown": [
       "TRUE"
      ],
      "text/plain": [
       "[1] TRUE"
      ]
     },
     "metadata": {},
     "output_type": "display_data"
    },
    {
     "data": {
      "text/html": [
       "<style>\n",
       ".list-inline {list-style: none; margin:0; padding: 0}\n",
       ".list-inline>li {display: inline-block}\n",
       ".list-inline>li:not(:last-child)::after {content: \"\\00b7\"; padding: 0 .5ex}\n",
       "</style>\n",
       "<ol class=list-inline><li>13714</li><li>49</li></ol>\n"
      ],
      "text/latex": [
       "\\begin{enumerate*}\n",
       "\\item 13714\n",
       "\\item 49\n",
       "\\end{enumerate*}\n"
      ],
      "text/markdown": [
       "1. 13714\n",
       "2. 49\n",
       "\n",
       "\n"
      ],
      "text/plain": [
       "[1] 13714    49"
      ]
     },
     "metadata": {},
     "output_type": "display_data"
    },
    {
     "data": {
      "text/html": [
       "<style>\n",
       ".list-inline {list-style: none; margin:0; padding: 0}\n",
       ".list-inline>li {display: inline-block}\n",
       ".list-inline>li:not(:last-child)::after {content: \"\\00b7\"; padding: 0 .5ex}\n",
       "</style>\n",
       "<ol class=list-inline><li>5878</li><li>49</li></ol>\n"
      ],
      "text/latex": [
       "\\begin{enumerate*}\n",
       "\\item 5878\n",
       "\\item 49\n",
       "\\end{enumerate*}\n"
      ],
      "text/markdown": [
       "1. 5878\n",
       "2. 49\n",
       "\n",
       "\n"
      ],
      "text/plain": [
       "[1] 5878   49"
      ]
     },
     "metadata": {},
     "output_type": "display_data"
    }
   ],
   "source": [
    "#Combining each year's important variables, removing duplicates, and using their names to create a reduced dataset\n",
    "names <- rbind(importance14, importance15, importance16, importance17, importance18)\n",
    "names <- distinct(names, names, .keep_all= TRUE)\n",
    "variables <- as.vector(names$names)\n",
    "\n",
    "reduced_train <- train[, names(train) %in% c('class',variables), with=FALSE] \n",
    "reduced_test <- test[,  names(train) %in% c('class',variables), with=FALSE] \n",
    "\n",
    "is.data.frame(reduced_train)\n",
    "is.data.frame(reduced_test)\n",
    "\n",
    "dim(reduced_train)\n",
    "dim(reduced_test)"
   ]
  },
  {
   "cell_type": "code",
   "execution_count": 33,
   "metadata": {},
   "outputs": [
    {
     "data": {
      "text/plain": [
       "\n",
       "Call:\n",
       " randomForest(formula = class ~ ., data = reduced_train, type = \"classification\",      importance = TRUE) \n",
       "               Type of random forest: classification\n",
       "                     Number of trees: 500\n",
       "No. of variables tried at each split: 6\n",
       "\n",
       "        OOB estimate of  error rate: 39.85%\n",
       "Confusion matrix:\n",
       "     0    1 class.error\n",
       "0 2891 3335   0.5356569\n",
       "1 2130 5358   0.2844551"
      ]
     },
     "metadata": {},
     "output_type": "display_data"
    },
    {
     "data": {
      "text/plain": [
       "Confusion Matrix and Statistics\n",
       "\n",
       "          Reference\n",
       "Prediction    0    1\n",
       "         0 1289  843\n",
       "         1 1380 2366\n",
       "                                          \n",
       "               Accuracy : 0.6218          \n",
       "                 95% CI : (0.6093, 0.6342)\n",
       "    No Information Rate : 0.5459          \n",
       "    P-Value [Acc > NIR] : < 2.2e-16       \n",
       "                                          \n",
       "                  Kappa : 0.224           \n",
       "                                          \n",
       " Mcnemar's Test P-Value : < 2.2e-16       \n",
       "                                          \n",
       "              Precision : 0.6046          \n",
       "                 Recall : 0.4830          \n",
       "                     F1 : 0.5370          \n",
       "             Prevalence : 0.4541          \n",
       "         Detection Rate : 0.2193          \n",
       "   Detection Prevalence : 0.3627          \n",
       "      Balanced Accuracy : 0.6101          \n",
       "                                          \n",
       "       'Positive' Class : 0               \n",
       "                                          "
      ]
     },
     "metadata": {},
     "output_type": "display_data"
    },
    {
     "name": "stdout",
     "output_type": "stream",
     "text": [
      "[1] \"AUC 0.618101835203329\"\n"
     ]
    }
   ],
   "source": [
    "#Running random forest model with reduced data set\n",
    "set.seed(123)\n",
    "reducedforest <- randomForest(class ~ ., data = reduced_train, type = \"classification\", importance = TRUE)\n",
    "reducedforest\n",
    "#Predicting on train set\n",
    "pred_red <- predict(reducedforest, newdata = reduced_test[, -'class']) \n",
    "\n",
    "confusionMatrix(pred_red, reduced_test$class, mode = \"prec_recall\")\n",
    "\n",
    "print(paste('AUC', auc(pred_red, reduced_test$class)))"
   ]
  },
  {
   "cell_type": "markdown",
   "metadata": {},
   "source": [
    "### Hyperparameter Tuning"
   ]
  },
  {
   "cell_type": "markdown",
   "metadata": {},
   "source": [
    " - Here I decided to try to tune the random forest model by finding the best mtry value for the model. After it was found, I added it into the model and re-ran the random forest which improved my scores slightly."
   ]
  },
  {
   "cell_type": "code",
   "execution_count": 34,
   "metadata": {},
   "outputs": [
    {
     "name": "stdout",
     "output_type": "stream",
     "text": [
      "mtry = 9  OOB error = 38.19% \n",
      "Searching left ...\n",
      "mtry = 6 \tOOB error = 38.33% \n",
      "-0.00381898 0.01 \n",
      "Searching right ...\n",
      "mtry = 13 \tOOB error = 38.29% \n",
      "-0.002673286 0.01 \n",
      "       mtry  OOBError\n",
      "6.OOB     6 0.3833309\n",
      "9.OOB     9 0.3818725\n",
      "13.OOB   13 0.3828934\n"
     ]
    },
    {
     "data": {
      "image/png": "[encoded data removed]",
      "text/plain": [
       "plot without title"
      ]
     },
     "metadata": {
      "image/png": {
       "height": 420,
       "width": 420
      },
      "text/plain": {
       "height": 420,
       "width": 420
      }
     },
     "output_type": "display_data"
    }
   ],
   "source": [
    "#Random Forest Tuning\n",
    "#Finding best mtry\n",
    "set.seed(123)\n",
    "bestmtry <- tuneRF(train[, -'class'],train$class, ntreeTry=500,\n",
    "                   stepFactor=1.5,improve=0.01, trace=TRUE, plot=TRUE)\n",
    "print(bestmtry)"
   ]
  },
  {
   "cell_type": "code",
   "execution_count": 35,
   "metadata": {},
   "outputs": [
    {
     "name": "stdout",
     "output_type": "stream",
     "text": [
      "[1] 9\n"
     ]
    }
   ],
   "source": [
    "set.seed(123)\n",
    "best.m <-bestmtry[bestmtry[, 2] == min(bestmtry[, 2]), 1]\n",
    "print(best.m)"
   ]
  },
  {
   "cell_type": "code",
   "execution_count": 36,
   "metadata": {},
   "outputs": [
    {
     "data": {
      "text/plain": [
       "\n",
       "Call:\n",
       " randomForest(formula = class ~ ., data = train, ntree = 500,      mtry = best.m) \n",
       "               Type of random forest: classification\n",
       "                     Number of trees: 500\n",
       "No. of variables tried at each split: 9\n",
       "\n",
       "        OOB estimate of  error rate: 38.19%\n",
       "Confusion matrix:\n",
       "     0    1 class.error\n",
       "0 3033 3193   0.5128493\n",
       "1 2044 5444   0.2729701"
      ]
     },
     "metadata": {},
     "output_type": "display_data"
    }
   ],
   "source": [
    "set.seed(123)\n",
    "forest2 <- randomForest(class ~ ., data = train, ntree=500, mtry = best.m)\n",
    "forest2"
   ]
  },
  {
   "cell_type": "code",
   "execution_count": 37,
   "metadata": {},
   "outputs": [
    {
     "data": {
      "text/plain": [
       "Confusion Matrix and Statistics\n",
       "\n",
       "          Reference\n",
       "Prediction    0    1\n",
       "         0 1295  785\n",
       "         1 1374 2424\n",
       "                                         \n",
       "               Accuracy : 0.6327         \n",
       "                 95% CI : (0.6202, 0.645)\n",
       "    No Information Rate : 0.5459         \n",
       "    P-Value [Acc > NIR] : < 2.2e-16      \n",
       "                                         \n",
       "                  Kappa : 0.2451         \n",
       "                                         \n",
       " Mcnemar's Test P-Value : < 2.2e-16      \n",
       "                                         \n",
       "              Precision : 0.6226         \n",
       "                 Recall : 0.4852         \n",
       "                     F1 : 0.5454         \n",
       "             Prevalence : 0.4541         \n",
       "         Detection Rate : 0.2203         \n",
       "   Detection Prevalence : 0.3539         \n",
       "      Balanced Accuracy : 0.6203         \n",
       "                                         \n",
       "       'Positive' Class : 0              \n",
       "                                         "
      ]
     },
     "metadata": {},
     "output_type": "display_data"
    },
    {
     "name": "stdout",
     "output_type": "stream",
     "text": [
      "[1] \"AUC 0.630413400777737\"\n"
     ]
    }
   ],
   "source": [
    "pred1 <- predict(forest2, newdata = test[,-'class']) \n",
    "confusionMatrix(pred1, test$class, mode = \"prec_recall\")\n",
    "print(paste('AUC', auc(pred1, test$class)))"
   ]
  },
  {
   "cell_type": "markdown",
   "metadata": {},
   "source": [
    "### Additional Tuning, Processing, or Model-Improvement"
   ]
  },
  {
   "cell_type": "markdown",
   "metadata": {},
   "source": [
    " - Since the mtry value did not increase my scores that much, I decided to look at different ntree values to see if I could find a better match for the model. The ntree value of 500 from the previous random forest ended up returning better scores, so I decided to stick with it. Finally, I used a repeated cross validation model with the ntree value of 500 to finalize the model. This provided the highest scores yet."
   ]
  },
  {
   "cell_type": "code",
   "execution_count": 38,
   "metadata": {},
   "outputs": [],
   "source": [
    "control <- trainControl(method=\"repeatedcv\", repeats = 2, number=2, search=\"random\")"
   ]
  },
  {
   "cell_type": "code",
   "execution_count": 39,
   "metadata": {},
   "outputs": [],
   "source": [
    "#NOTE: This portion of the code takes a fair amount of time to run.\n",
    "#Checking for the best ntree value\n",
    "modellist <- list()\n",
    "for (ntree in c(1000, 1500, 2000, 2500)) {\n",
    "    set.seed(123)\n",
    "    fit <- train(class~., data=train, method=\"rf\", trControl=control, ntree=ntree)\n",
    "    key <- toString(ntree)\n",
    "    modellist[[key]] <- fit\n",
    "}"
   ]
  },
  {
   "cell_type": "code",
   "execution_count": 40,
   "metadata": {},
   "outputs": [
    {
     "data": {
      "text/plain": [
       "\n",
       "Call:\n",
       "summary.resamples(object = results)\n",
       "\n",
       "Models: 1000, 1500, 2000, 2500 \n",
       "Number of resamples: 4 \n",
       "\n",
       "Accuracy \n",
       "          Min.   1st Qu.    Median      Mean   3rd Qu.      Max. NA's\n",
       "1000 0.6120753 0.6167785 0.6213359 0.6208619 0.6254193 0.6287006    0\n",
       "1500 0.6094502 0.6183098 0.6249089 0.6221015 0.6287006 0.6291381    0\n",
       "2000 0.6090127 0.6169972 0.6230859 0.6208619 0.6269506 0.6282631    0\n",
       "2500 0.6095960 0.6194400 0.6249818 0.6217734 0.6273152 0.6275339    0\n",
       "\n",
       "Kappa \n",
       "          Min.   1st Qu.    Median      Mean   3rd Qu.      Max. NA's\n",
       "1000 0.2049120 0.2129497 0.2232899 0.2225255 0.2328656 0.2386102    0\n",
       "1500 0.1993995 0.2166465 0.2304686 0.2252066 0.2390287 0.2404897    0\n",
       "2000 0.1986129 0.2139312 0.2265281 0.2226545 0.2352514 0.2389487    0\n",
       "2500 0.1998526 0.2190695 0.2306946 0.2246168 0.2362419 0.2372254    0\n"
      ]
     },
     "metadata": {},
     "output_type": "display_data"
    },
    {
     "data": {
      "image/png": "[encoded data removed]",
      "text/plain": [
       "plot without title"
      ]
     },
     "metadata": {
      "image/png": {
       "height": 420,
       "width": 420
      },
      "text/plain": {
       "height": 420,
       "width": 420
      }
     },
     "output_type": "display_data"
    }
   ],
   "source": [
    "#Compare results\n",
    "results <- resamples(modellist)\n",
    "summary(results)\n",
    "dotplot(results)"
   ]
  },
  {
   "cell_type": "code",
   "execution_count": 41,
   "metadata": {},
   "outputs": [],
   "source": [
    "#Selecting the best \"ntree\" value and using repeated cross validation\n",
    "ntree=500\n",
    "control <- trainControl(method=\"repeatedcv\", repeats = 2, number=2, search=\"random\")"
   ]
  },
  {
   "cell_type": "code",
   "execution_count": 42,
   "metadata": {},
   "outputs": [
    {
     "data": {
      "text/plain": [
       "Random Forest \n",
       "\n",
       "13714 samples\n",
       "   93 predictor\n",
       "    2 classes: '0', '1' \n",
       "\n",
       "No pre-processing\n",
       "Resampling: Bootstrapped (25 reps) \n",
       "Summary of sample sizes: 13714, 13714, 13714, 13714, 13714, 13714, ... \n",
       "Resampling results across tuning parameters:\n",
       "\n",
       "  mtry  Accuracy   Kappa    \n",
       "    2   0.6099087  0.1976361\n",
       "   52   0.6180208  0.2187676\n",
       "  102   0.6172097  0.2172999\n",
       "\n",
       "Accuracy was used to select the optimal model using the largest value.\n",
       "The final value used for the model was mtry = 52."
      ]
     },
     "metadata": {},
     "output_type": "display_data"
    }
   ],
   "source": [
    "#NOTE: This portion of the code takes a long time to run.\n",
    "#Using controls and cross validation\n",
    "set.seed(123)\n",
    "fit.rf <- train(class~., data=train, method=\"rf\", ntree = ntree, maximize=TRUE)\n",
    "fit.rf"
   ]
  },
  {
   "cell_type": "code",
   "execution_count": 43,
   "metadata": {},
   "outputs": [
    {
     "data": {
      "text/plain": [
       "Confusion Matrix and Statistics\n",
       "\n",
       "          Reference\n",
       "Prediction    0    1\n",
       "         0 1342  814\n",
       "         1 1327 2395\n",
       "                                          \n",
       "               Accuracy : 0.6358          \n",
       "                 95% CI : (0.6233, 0.6481)\n",
       "    No Information Rate : 0.5459          \n",
       "    P-Value [Acc > NIR] : < 2.2e-16       \n",
       "                                          \n",
       "                  Kappa : 0.2532          \n",
       "                                          \n",
       " Mcnemar's Test P-Value : < 2.2e-16       \n",
       "                                          \n",
       "              Precision : 0.6224          \n",
       "                 Recall : 0.5028          \n",
       "                     F1 : 0.5563          \n",
       "             Prevalence : 0.4541          \n",
       "         Detection Rate : 0.2283          \n",
       "   Detection Prevalence : 0.3668          \n",
       "      Balanced Accuracy : 0.6246          \n",
       "                                          \n",
       "       'Positive' Class : 0               \n",
       "                                          "
      ]
     },
     "metadata": {},
     "output_type": "display_data"
    },
    {
     "name": "stdout",
     "output_type": "stream",
     "text": [
      "[1] \"AUC 0.632960115803441\"\n"
     ]
    }
   ],
   "source": [
    "pred_rf1 <- predict(fit.rf, newdata = test[, -'class']) \n",
    "confusionMatrix(pred_rf1, test$class, mode = \"prec_recall\")\n",
    "print(paste('AUC', auc(pred_rf1, test$class)))"
   ]
  },
  {
   "cell_type": "code",
   "execution_count": 44,
   "metadata": {},
   "outputs": [],
   "source": [
    "finalrf_results <- list(confusionMatrix(pred_rf1, test$class, mode = \"prec_recall\")\n",
    "                        , paste('AUC', auc(pred_rf1, test$class)))"
   ]
  },
  {
   "cell_type": "code",
   "execution_count": 45,
   "metadata": {},
   "outputs": [
    {
     "name": "stdout",
     "output_type": "stream",
     "text": [
      "[1] \"Baseline Random Forest\"\n"
     ]
    },
    {
     "data": {
      "text/plain": [
       "[[1]]\n",
       "Confusion Matrix and Statistics\n",
       "\n",
       "          Reference\n",
       "Prediction    0    1\n",
       "         0  743  532\n",
       "         1  840 1504\n",
       "                                          \n",
       "               Accuracy : 0.6209          \n",
       "                 95% CI : (0.6049, 0.6367)\n",
       "    No Information Rate : 0.5626          \n",
       "    P-Value [Acc > NIR] : 6.401e-13       \n",
       "                                          \n",
       "                  Kappa : 0.2127          \n",
       "                                          \n",
       " Mcnemar's Test P-Value : < 2.2e-16       \n",
       "                                          \n",
       "              Precision : 0.5827          \n",
       "                 Recall : 0.4694          \n",
       "                     F1 : 0.5199          \n",
       "             Prevalence : 0.4374          \n",
       "         Detection Rate : 0.2053          \n",
       "   Detection Prevalence : 0.3523          \n",
       "      Balanced Accuracy : 0.6040          \n",
       "                                          \n",
       "       'Positive' Class : 0               \n",
       "                                          \n",
       "\n",
       "[[2]]\n",
       "[1] \"AUC 0.612191661647594\"\n"
      ]
     },
     "metadata": {},
     "output_type": "display_data"
    },
    {
     "name": "stdout",
     "output_type": "stream",
     "text": [
      "[1] \"Final Random Forest\"\n"
     ]
    },
    {
     "data": {
      "text/plain": [
       "[[1]]\n",
       "Confusion Matrix and Statistics\n",
       "\n",
       "          Reference\n",
       "Prediction    0    1\n",
       "         0 1342  814\n",
       "         1 1327 2395\n",
       "                                          \n",
       "               Accuracy : 0.6358          \n",
       "                 95% CI : (0.6233, 0.6481)\n",
       "    No Information Rate : 0.5459          \n",
       "    P-Value [Acc > NIR] : < 2.2e-16       \n",
       "                                          \n",
       "                  Kappa : 0.2532          \n",
       "                                          \n",
       " Mcnemar's Test P-Value : < 2.2e-16       \n",
       "                                          \n",
       "              Precision : 0.6224          \n",
       "                 Recall : 0.5028          \n",
       "                     F1 : 0.5563          \n",
       "             Prevalence : 0.4541          \n",
       "         Detection Rate : 0.2283          \n",
       "   Detection Prevalence : 0.3668          \n",
       "      Balanced Accuracy : 0.6246          \n",
       "                                          \n",
       "       'Positive' Class : 0               \n",
       "                                          \n",
       "\n",
       "[[2]]\n",
       "[1] \"AUC 0.632960115803441\"\n"
      ]
     },
     "metadata": {},
     "output_type": "display_data"
    }
   ],
   "source": [
    "#Comparing Baseline RF Model vs Final RF Model\n",
    "print(paste(\"Baseline Random Forest\"))\n",
    "baserf_results \n",
    "\n",
    "print(paste(\"Final Random Forest\"))\n",
    "finalrf_results "
   ]
  },
  {
   "cell_type": "markdown",
   "metadata": {},
   "source": [
    "## Outcome\n",
    "Explaining what steps were taken to train this model and why."
   ]
  },
  {
   "cell_type": "markdown",
   "metadata": {},
   "source": [
    " 1. Splitting the Data Set: I chose to split the data set 70/30 without the 'year' variable. This was because the high importance that the decision trees were putting on the year variable. I did not want the model to simply classify based on 'year' since this would cause the the model to be inaccurate in future years. In addition, when I looked at the possibly of splitting the data pre-2018 vs 2018, the proportions of the year 2018 were significantly different than the combined proportions for the previous four years. \n",
    " 2. Baseline Model: I chose the random forest model after looking at three different baseline models. It was the best performing model of the three.\n",
    " 3. Scaling/Imputation: I chose to scale the data set since variables were vastly different. In addition, due to the large amount of missing data I decided to use imputation. I contemplated using median imputation but ended up choosing the knn imputation due to the variability it added to the data set vs using only the median.\n",
    " 4. Tuning: I chose to tune my random forest model to find the best mtry value and used this value to re-run a random forest model. Due to only a slightly increase in metric scores, I decided to then look at expanding the grid to various other ntree values. I found, however, that the best ntree was the original value of 500. I then decided to finish the model with a cross-validation random forest since I had time to let the model take its time in running. This model, with the appropriate ntree of 500, came back with the highest scoring metrics and thus became my final model.\n",
    " - Overall: The model ended up improving by the following: </br>\n",
    "     Baseline: ACC - .621 , F1 - .520 , AUC - .612 </br>\n",
    "     Final: ACC - .636 , F1 - .556 , AUC - .633 </br>\n",
    "     While this was not a substantial increase, the F1 score did improve by a fair amount. Originally, when I left the 'year' variable in the model, I was able to increase the ACC to over .669 and the F1 to .651. However, I believe that the models were mainly using the 'year' variable to do this. Had an additional year been added, the model would have performed poorly, as was seen in the beginning of this notebook when I split the data set pre-2018 vs 2018 and came back with an ACC of .295 and F1 of .455. In the end, I believe this model is best suited to return consistent results on future years."
   ]
  }
 ],
 "metadata": {
  "kernelspec": {
   "display_name": "R",
   "language": "R",
   "name": "ir"
  },
  "language_info": {
   "codemirror_mode": "r",
   "file_extension": ".r",
   "mimetype": "text/x-r-source",
   "name": "R",
   "pygments_lexer": "r",
   "version": "3.6.2"
  }
 },
 "nbformat": 4,
 "nbformat_minor": 4
}
