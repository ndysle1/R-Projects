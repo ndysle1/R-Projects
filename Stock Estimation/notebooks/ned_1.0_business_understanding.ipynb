{
 "cells": [
  {
   "cell_type": "markdown",
   "metadata": {},
   "source": [
    "# Business Understanding\n",
    "During this stage, you should take some time to understand the questions presented by the data from a busines perspective. Many of these are very general questions and they may not be as important or applicable as some other stages of this project for training purposes, but it's good practice to begin any project with a general understanding of what problems you are trying to solve.\n",
    "\n",
    "Consider the following questions and answer to the best of your ability, based on the data and project documentation."
   ]
  },
  {
   "cell_type": "markdown",
   "metadata": {},
   "source": [
    "#### What are the specific business objectives of this project? Define as precisely as possible."
   ]
  },
  {
   "cell_type": "markdown",
   "metadata": {},
   "source": [
    " - The specific business objectives of this project are to provide new hires with a real-world project that closely mimics what they will be working with once their clearance process is complete. In terms of the actual Kaggle training project, the specific objective is to create a model that can accurately predict whether a stock is worth purchasing or not."
   ]
  },
  {
   "cell_type": "markdown",
   "metadata": {},
   "source": [
    "#### What data are available to pursue those objectives?"
   ]
  },
  {
   "cell_type": "markdown",
   "metadata": {},
   "source": [
    " - The data that is available includes financial data on publicly traded companies for the years 2014 to 2018. These datasets contain 200+ financial indicators that mainly come from company 10-K filings."
   ]
  },
  {
   "cell_type": "markdown",
   "metadata": {},
   "source": [
    "#### What resources? (programs, libraries, etc.)"
   ]
  },
  {
   "cell_type": "markdown",
   "metadata": {},
   "source": [
    " - The resources that I intend to use for this project primarily include GitLab and RStudio. Within the R language, I plan to use the various libraries included in the Tidyverse package for data cleaning and exploration. For the model analysis and evaluation, the packages that I use will depend on which type of model is best suited to this dataset. If a logit regression is chosen to predict whether a stock should be bought or sold, then I will use the CaTools, MASS and base R packages. If a random forest approach is chosen, then I will likely use the RandomForest package. If another approach is found to be more suitable, then I will identify the best-suited package at that time."
   ]
  },
  {
   "cell_type": "markdown",
   "metadata": {},
   "source": [
    "#### What are the success criteria for each of the project's objectives? Define as precisely as possible."
   ]
  },
  {
   "cell_type": "markdown",
   "metadata": {},
   "source": [
    " - The biggest success criteria that is shared across all of the project’s objectives is learning valuable skills from this training. I believe this project will be a success if I come away from this project with more confidence in my abilities, an increased technical skillset, and/or a better understanding of ASR’s work environment. However, specific success critieria for each project objective will be defined in the following: Business Understanding: Success will be gaining a deeper understanding of the project and its purpose and throughly answering all questions asked. Data Understanding: Success will be learning more about the variables in the dataset and understanding more about how they can be leveraged in future analysis. I should have a clear plan for the data preparation stage once this stage is complete. Data Preparation: Success will be identifying outliers, missing observations, and delivering a dataset that is throroughly prepared for analysis. If I was successful in this stage, then I will not run into any data related issues when modeling. Modeling: Success will be creating a model that accurately predicts whether a stock should be sold or bought.\n",
    "Evaluation: Success will be determined using the AUC of the ROC curve."
   ]
  },
  {
   "cell_type": "markdown",
   "metadata": {},
   "source": [
    "#### Describe the data mining problem type (regression, classification, clustering, etc.)"
   ]
  },
  {
   "cell_type": "markdown",
   "metadata": {},
   "source": [
    " - The data mining problem type here is a classification and/or regression problem. Using predictive analysis, the goal is to accurately predict whether a stock should be sold or bought based on the host of financial indicators in the dataset."
   ]
  },
  {
   "cell_type": "markdown",
   "metadata": {},
   "source": [
    "#### What are the specific technical goals for the project?"
   ]
  },
  {
   "cell_type": "markdown",
   "metadata": {},
   "source": [
    " - The specific technical goals for the project are to increase my skill-level and familiarity with R, GitLab, and developing a machine learning model. This project mimics ASR projects that I may be placed on in the future and will prepare me so that I can make a greater impact once my clearance is granted. For me personally, I am excited to learn more about GitLab and practice my coding skills in R."
   ]
  }
 ],
 "metadata": {
  "kernelspec": {
   "display_name": "R",
   "language": "R",
   "name": "ir"
  },
  "language_info": {
   "codemirror_mode": "r",
   "file_extension": ".r",
   "mimetype": "text/x-r-source",
   "name": "R",
   "pygments_lexer": "r",
   "version": "3.6.2"
  }
 },
 "nbformat": 4,
 "nbformat_minor": 4
}
