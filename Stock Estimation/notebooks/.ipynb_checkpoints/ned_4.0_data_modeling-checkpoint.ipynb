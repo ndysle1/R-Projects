{
 "cells": [
  {
   "cell_type": "markdown",
   "metadata": {},
   "source": [
    "# Model Building"
   ]
  },
  {
   "cell_type": "markdown",
   "metadata": {},
   "source": [
    "### Settings/Functions\n",
    "Read in settings and functions."
   ]
  },
  {
   "cell_type": "code",
   "execution_count": 18,
   "metadata": {
    "scrolled": true
   },
   "outputs": [
    {
     "data": {
      "text/html": [
       "<ol>\n",
       "\t<li>TRUE</li>\n",
       "\t<li>TRUE</li>\n",
       "\t<li>TRUE</li>\n",
       "\t<li>TRUE</li>\n",
       "\t<li>TRUE</li>\n",
       "\t<li>TRUE</li>\n",
       "\t<li>TRUE</li>\n",
       "\t<li>TRUE</li>\n",
       "\t<li>TRUE</li>\n",
       "\t<li>TRUE</li>\n",
       "</ol>\n"
      ],
      "text/latex": [
       "\\begin{enumerate}\n",
       "\\item TRUE\n",
       "\\item TRUE\n",
       "\\item TRUE\n",
       "\\item TRUE\n",
       "\\item TRUE\n",
       "\\item TRUE\n",
       "\\item TRUE\n",
       "\\item TRUE\n",
       "\\item TRUE\n",
       "\\item TRUE\n",
       "\\end{enumerate}\n"
      ],
      "text/markdown": [
       "1. TRUE\n",
       "2. TRUE\n",
       "3. TRUE\n",
       "4. TRUE\n",
       "5. TRUE\n",
       "6. TRUE\n",
       "7. TRUE\n",
       "8. TRUE\n",
       "9. TRUE\n",
       "10. TRUE\n",
       "\n",
       "\n"
      ],
      "text/plain": [
       "[[1]]\n",
       "[1] TRUE\n",
       "\n",
       "[[2]]\n",
       "[1] TRUE\n",
       "\n",
       "[[3]]\n",
       "[1] TRUE\n",
       "\n",
       "[[4]]\n",
       "[1] TRUE\n",
       "\n",
       "[[5]]\n",
       "[1] TRUE\n",
       "\n",
       "[[6]]\n",
       "[1] TRUE\n",
       "\n",
       "[[7]]\n",
       "[1] TRUE\n",
       "\n",
       "[[8]]\n",
       "[1] TRUE\n",
       "\n",
       "[[9]]\n",
       "[1] TRUE\n",
       "\n",
       "[[10]]\n",
       "[1] TRUE\n"
      ]
     },
     "metadata": {},
     "output_type": "display_data"
    }
   ],
   "source": [
    "libraries <-c('here','caret','Metrics','MLmetrics','randomForest'\n",
    "              ,'caTools','rpart.plot','ROCR','MASS','RANN')\n",
    "suppressWarnings(lapply(libraries, require, character.only = TRUE))\n",
    "suppressWarnings(source(here::here('Stock Estimation', 'settings.R')))"
   ]
  },
  {
   "cell_type": "markdown",
   "metadata": {},
   "source": [
    "## Data\n",
    "Read in the clean data set from your data_preparation notebook. It should be ready for some preliminary model-building by now, but you should consider your variables and decide if you want to use all of them to train a model. You should have a clear reason for excluding any variables. Also consider time-series data (if applicable to your set). If you have data from multiple years, should you train and test on each year individually? Train on one year and test on another?"
   ]
  },
  {
   "cell_type": "markdown",
   "metadata": {},
   "source": [
    " - The only data set needed for this stage of the analysis is the cleaned data. Although a mean imputed data set was created and exported to CSV in the last stage, I have decided to impute the missing values as part of a preprocess technique that will also scale my data set at the same time."
   ]
  },
  {
   "cell_type": "code",
   "execution_count": 34,
   "metadata": {
    "scrolled": true
   },
   "outputs": [],
   "source": [
    "data <- fread(paste0(dir$final_data,'clean_financial.csv')) "
   ]
  },
  {
   "cell_type": "code",
   "execution_count": 35,
   "metadata": {},
   "outputs": [
    {
     "data": {
      "text/html": [
       "TRUE"
      ],
      "text/latex": [
       "TRUE"
      ],
      "text/markdown": [
       "TRUE"
      ],
      "text/plain": [
       "[1] TRUE"
      ]
     },
     "metadata": {},
     "output_type": "display_data"
    },
    {
     "data": {
      "text/plain": [
       "\n",
       "        0         1 \n",
       "0.4372568 0.5627432 "
      ]
     },
     "metadata": {},
     "output_type": "display_data"
    }
   ],
   "source": [
    "#Checking the proportions of my completed data set\n",
    "complete <- na.omit(data)\n",
    "is.data.frame(complete)\n",
    "\n",
    "prop.table(table(complete$class))\n",
    "\n",
    "#Removing the secondary dependent variable\n",
    "complete <- complete[,-c('nextyr_price_var')]\n",
    "#Changing the data type of class to factor\n",
    "complete$class <- as.factor(complete$class)\n",
    "complete <- complete[, -c('stock','sector')]\n",
    "#The proportions show that there are more \"Buy\" stocks (class = 1) than there are \"Not Buy\" stocks (class = 0) in the dataset"
   ]
  },
  {
   "cell_type": "code",
   "execution_count": 36,
   "metadata": {
    "scrolled": true
   },
   "outputs": [
    {
     "data": {
      "text/html": [
       "<table>\n",
       "<caption>A grouped_df: 10 × 4</caption>\n",
       "<thead>\n",
       "\t<tr><th scope=col>year</th><th scope=col>class</th><th scope=col>n</th><th scope=col>freq</th></tr>\n",
       "\t<tr><th scope=col>&lt;int&gt;</th><th scope=col>&lt;fct&gt;</th><th scope=col>&lt;int&gt;</th><th scope=col>&lt;dbl&gt;</th></tr>\n",
       "</thead>\n",
       "<tbody>\n",
       "\t<tr><td>2014</td><td>0</td><td> 644</td><td>0.5946445</td></tr>\n",
       "\t<tr><td>2014</td><td>1</td><td> 439</td><td>0.4053555</td></tr>\n",
       "\t<tr><td>2015</td><td>0</td><td> 406</td><td>0.2827298</td></tr>\n",
       "\t<tr><td>2015</td><td>1</td><td>1030</td><td>0.7172702</td></tr>\n",
       "\t<tr><td>2016</td><td>0</td><td> 625</td><td>0.3573471</td></tr>\n",
       "\t<tr><td>2016</td><td>1</td><td>1124</td><td>0.6426529</td></tr>\n",
       "\t<tr><td>2017</td><td>0</td><td>1314</td><td>0.7004264</td></tr>\n",
       "\t<tr><td>2017</td><td>1</td><td> 562</td><td>0.2995736</td></tr>\n",
       "\t<tr><td>2018</td><td>0</td><td> 550</td><td>0.2820513</td></tr>\n",
       "\t<tr><td>2018</td><td>1</td><td>1400</td><td>0.7179487</td></tr>\n",
       "</tbody>\n",
       "</table>\n"
      ],
      "text/latex": [
       "A grouped\\_df: 10 × 4\n",
       "\\begin{tabular}{llll}\n",
       " year & class & n & freq\\\\\n",
       " <int> & <fct> & <int> & <dbl>\\\\\n",
       "\\hline\n",
       "\t 2014 & 0 &  644 & 0.5946445\\\\\n",
       "\t 2014 & 1 &  439 & 0.4053555\\\\\n",
       "\t 2015 & 0 &  406 & 0.2827298\\\\\n",
       "\t 2015 & 1 & 1030 & 0.7172702\\\\\n",
       "\t 2016 & 0 &  625 & 0.3573471\\\\\n",
       "\t 2016 & 1 & 1124 & 0.6426529\\\\\n",
       "\t 2017 & 0 & 1314 & 0.7004264\\\\\n",
       "\t 2017 & 1 &  562 & 0.2995736\\\\\n",
       "\t 2018 & 0 &  550 & 0.2820513\\\\\n",
       "\t 2018 & 1 & 1400 & 0.7179487\\\\\n",
       "\\end{tabular}\n"
      ],
      "text/markdown": [
       "\n",
       "A grouped_df: 10 × 4\n",
       "\n",
       "| year &lt;int&gt; | class &lt;fct&gt; | n &lt;int&gt; | freq &lt;dbl&gt; |\n",
       "|---|---|---|---|\n",
       "| 2014 | 0 |  644 | 0.5946445 |\n",
       "| 2014 | 1 |  439 | 0.4053555 |\n",
       "| 2015 | 0 |  406 | 0.2827298 |\n",
       "| 2015 | 1 | 1030 | 0.7172702 |\n",
       "| 2016 | 0 |  625 | 0.3573471 |\n",
       "| 2016 | 1 | 1124 | 0.6426529 |\n",
       "| 2017 | 0 | 1314 | 0.7004264 |\n",
       "| 2017 | 1 |  562 | 0.2995736 |\n",
       "| 2018 | 0 |  550 | 0.2820513 |\n",
       "| 2018 | 1 | 1400 | 0.7179487 |\n",
       "\n"
      ],
      "text/plain": [
       "   year class n    freq     \n",
       "1  2014 0      644 0.5946445\n",
       "2  2014 1      439 0.4053555\n",
       "3  2015 0      406 0.2827298\n",
       "4  2015 1     1030 0.7172702\n",
       "5  2016 0      625 0.3573471\n",
       "6  2016 1     1124 0.6426529\n",
       "7  2017 0     1314 0.7004264\n",
       "8  2017 1      562 0.2995736\n",
       "9  2018 0      550 0.2820513\n",
       "10 2018 1     1400 0.7179487"
      ]
     },
     "metadata": {},
     "output_type": "display_data"
    },
    {
     "data": {
      "text/html": [
       "<table>\n",
       "<caption>A grouped_df: 10 × 4</caption>\n",
       "<thead>\n",
       "\t<tr><th scope=col>year</th><th scope=col>class</th><th scope=col>n</th><th scope=col>freq</th></tr>\n",
       "\t<tr><th scope=col>&lt;int&gt;</th><th scope=col>&lt;fct&gt;</th><th scope=col>&lt;int&gt;</th><th scope=col>&lt;dbl&gt;</th></tr>\n",
       "</thead>\n",
       "<tbody>\n",
       "\t<tr><td>2014</td><td>0</td><td>274</td><td>0.5930736</td></tr>\n",
       "\t<tr><td>2014</td><td>1</td><td>188</td><td>0.4069264</td></tr>\n",
       "\t<tr><td>2015</td><td>0</td><td>168</td><td>0.2786070</td></tr>\n",
       "\t<tr><td>2015</td><td>1</td><td>435</td><td>0.7213930</td></tr>\n",
       "\t<tr><td>2016</td><td>0</td><td>247</td><td>0.3351425</td></tr>\n",
       "\t<tr><td>2016</td><td>1</td><td>490</td><td>0.6648575</td></tr>\n",
       "\t<tr><td>2017</td><td>0</td><td>552</td><td>0.6952141</td></tr>\n",
       "\t<tr><td>2017</td><td>1</td><td>242</td><td>0.3047859</td></tr>\n",
       "\t<tr><td>2018</td><td>0</td><td>276</td><td>0.3161512</td></tr>\n",
       "\t<tr><td>2018</td><td>1</td><td>597</td><td>0.6838488</td></tr>\n",
       "</tbody>\n",
       "</table>\n"
      ],
      "text/latex": [
       "A grouped\\_df: 10 × 4\n",
       "\\begin{tabular}{llll}\n",
       " year & class & n & freq\\\\\n",
       " <int> & <fct> & <int> & <dbl>\\\\\n",
       "\\hline\n",
       "\t 2014 & 0 & 274 & 0.5930736\\\\\n",
       "\t 2014 & 1 & 188 & 0.4069264\\\\\n",
       "\t 2015 & 0 & 168 & 0.2786070\\\\\n",
       "\t 2015 & 1 & 435 & 0.7213930\\\\\n",
       "\t 2016 & 0 & 247 & 0.3351425\\\\\n",
       "\t 2016 & 1 & 490 & 0.6648575\\\\\n",
       "\t 2017 & 0 & 552 & 0.6952141\\\\\n",
       "\t 2017 & 1 & 242 & 0.3047859\\\\\n",
       "\t 2018 & 0 & 276 & 0.3161512\\\\\n",
       "\t 2018 & 1 & 597 & 0.6838488\\\\\n",
       "\\end{tabular}\n"
      ],
      "text/markdown": [
       "\n",
       "A grouped_df: 10 × 4\n",
       "\n",
       "| year &lt;int&gt; | class &lt;fct&gt; | n &lt;int&gt; | freq &lt;dbl&gt; |\n",
       "|---|---|---|---|\n",
       "| 2014 | 0 | 274 | 0.5930736 |\n",
       "| 2014 | 1 | 188 | 0.4069264 |\n",
       "| 2015 | 0 | 168 | 0.2786070 |\n",
       "| 2015 | 1 | 435 | 0.7213930 |\n",
       "| 2016 | 0 | 247 | 0.3351425 |\n",
       "| 2016 | 1 | 490 | 0.6648575 |\n",
       "| 2017 | 0 | 552 | 0.6952141 |\n",
       "| 2017 | 1 | 242 | 0.3047859 |\n",
       "| 2018 | 0 | 276 | 0.3161512 |\n",
       "| 2018 | 1 | 597 | 0.6838488 |\n",
       "\n"
      ],
      "text/plain": [
       "   year class n   freq     \n",
       "1  2014 0     274 0.5930736\n",
       "2  2014 1     188 0.4069264\n",
       "3  2015 0     168 0.2786070\n",
       "4  2015 1     435 0.7213930\n",
       "5  2016 0     247 0.3351425\n",
       "6  2016 1     490 0.6648575\n",
       "7  2017 0     552 0.6952141\n",
       "8  2017 1     242 0.3047859\n",
       "9  2018 0     276 0.3161512\n",
       "10 2018 1     597 0.6838488"
      ]
     },
     "metadata": {},
     "output_type": "display_data"
    }
   ],
   "source": [
    "#Determing how best to split the dataset\n",
    "#Splitting 70/30\n",
    "split <- sample.split(complete$class, SplitRatio = 0.70)\n",
    "train <- subset(complete, split == TRUE)\n",
    "test <- subset(complete, split == FALSE)\n",
    "\n",
    "train %>%\n",
    "  group_by(year, class) %>%\n",
    "  summarise(n = n()) %>%\n",
    "  mutate(freq = n / sum(n))\n",
    "\n",
    "test %>%\n",
    "  group_by(year, class) %>%\n",
    "  summarise(n = n()) %>%\n",
    "  mutate(freq = n / sum(n))"
   ]
  },
  {
   "cell_type": "code",
   "execution_count": 37,
   "metadata": {
    "scrolled": true
   },
   "outputs": [
    {
     "data": {
      "text/plain": [
       "Confusion Matrix and Statistics\n",
       "\n",
       "          Reference\n",
       "Prediction    0    1\n",
       "         0  876  454\n",
       "         1  641 1498\n",
       "                                          \n",
       "               Accuracy : 0.6843          \n",
       "                 95% CI : (0.6686, 0.6998)\n",
       "    No Information Rate : 0.5627          \n",
       "    P-Value [Acc > NIR] : < 2e-16         \n",
       "                                          \n",
       "                  Kappa : 0.3497          \n",
       "                                          \n",
       " Mcnemar's Test P-Value : 1.9e-08         \n",
       "                                          \n",
       "              Precision : 0.6586          \n",
       "                 Recall : 0.5775          \n",
       "                     F1 : 0.6154          \n",
       "             Prevalence : 0.4373          \n",
       "         Detection Rate : 0.2525          \n",
       "   Detection Prevalence : 0.3834          \n",
       "      Balanced Accuracy : 0.6724          \n",
       "                                          \n",
       "       'Positive' Class : 0               \n",
       "                                          "
      ]
     },
     "metadata": {},
     "output_type": "display_data"
    }
   ],
   "source": [
    "dtree <- rpart(class ~ ., data = train, method = \"class\")\n",
    "pred_dtree <- predict(dtree, test, type = \"class\")\n",
    "confusionMatrix(pred_dtree, test$class, mode = \"prec_recall\")"
   ]
  },
  {
   "cell_type": "code",
   "execution_count": 38,
   "metadata": {},
   "outputs": [
    {
     "data": {
      "text/html": [
       "<table>\n",
       "<caption>A data.frame: 5 × 2</caption>\n",
       "<thead>\n",
       "\t<tr><th></th><th scope=col>Overall</th><th scope=col>names</th></tr>\n",
       "\t<tr><th></th><th scope=col>&lt;dbl&gt;</th><th scope=col>&lt;chr&gt;</th></tr>\n",
       "</thead>\n",
       "<tbody>\n",
       "\t<tr><th scope=row>year</th><td>489.5919</td><td>year          </td></tr>\n",
       "\t<tr><th scope=row>ebit_margin</th><td>236.4864</td><td>ebit_margin   </td></tr>\n",
       "\t<tr><th scope=row>ebitperrevenue</th><td>231.9823</td><td>ebitperrevenue</td></tr>\n",
       "\t<tr><th scope=row>ebit</th><td>227.7796</td><td>ebit          </td></tr>\n",
       "\t<tr><th scope=row>earnings_yield</th><td>156.6174</td><td>earnings_yield</td></tr>\n",
       "</tbody>\n",
       "</table>\n"
      ],
      "text/latex": [
       "A data.frame: 5 × 2\n",
       "\\begin{tabular}{r|ll}\n",
       "  & Overall & names\\\\\n",
       "  & <dbl> & <chr>\\\\\n",
       "\\hline\n",
       "\tyear & 489.5919 & year          \\\\\n",
       "\tebit\\_margin & 236.4864 & ebit\\_margin   \\\\\n",
       "\tebitperrevenue & 231.9823 & ebitperrevenue\\\\\n",
       "\tebit & 227.7796 & ebit          \\\\\n",
       "\tearnings\\_yield & 156.6174 & earnings\\_yield\\\\\n",
       "\\end{tabular}\n"
      ],
      "text/markdown": [
       "\n",
       "A data.frame: 5 × 2\n",
       "\n",
       "| <!--/--> | Overall &lt;dbl&gt; | names &lt;chr&gt; |\n",
       "|---|---|---|\n",
       "| year | 489.5919 | year           |\n",
       "| ebit_margin | 236.4864 | ebit_margin    |\n",
       "| ebitperrevenue | 231.9823 | ebitperrevenue |\n",
       "| ebit | 227.7796 | ebit           |\n",
       "| earnings_yield | 156.6174 | earnings_yield |\n",
       "\n"
      ],
      "text/plain": [
       "               Overall  names         \n",
       "year           489.5919 year          \n",
       "ebit_margin    236.4864 ebit_margin   \n",
       "ebitperrevenue 231.9823 ebitperrevenue\n",
       "ebit           227.7796 ebit          \n",
       "earnings_yield 156.6174 earnings_yield"
      ]
     },
     "metadata": {},
     "output_type": "display_data"
    }
   ],
   "source": [
    "importance <- varImp(dtree)\n",
    "importance$names <- row.names(importance)\n",
    "varlist <- importance[order(importance$Overall,decreasing = T),]\n",
    "head(varlist, n = 5)"
   ]
  },
  {
   "cell_type": "code",
   "execution_count": 39,
   "metadata": {
    "scrolled": true
   },
   "outputs": [
    {
     "data": {
      "text/html": [
       "<table>\n",
       "<caption>A grouped_df: 8 × 4</caption>\n",
       "<thead>\n",
       "\t<tr><th scope=col>year</th><th scope=col>class</th><th scope=col>n</th><th scope=col>freq</th></tr>\n",
       "\t<tr><th scope=col>&lt;int&gt;</th><th scope=col>&lt;fct&gt;</th><th scope=col>&lt;int&gt;</th><th scope=col>&lt;dbl&gt;</th></tr>\n",
       "</thead>\n",
       "<tbody>\n",
       "\t<tr><td>2014</td><td>0</td><td> 918</td><td>0.5941748</td></tr>\n",
       "\t<tr><td>2014</td><td>1</td><td> 627</td><td>0.4058252</td></tr>\n",
       "\t<tr><td>2015</td><td>0</td><td> 574</td><td>0.2815105</td></tr>\n",
       "\t<tr><td>2015</td><td>1</td><td>1465</td><td>0.7184895</td></tr>\n",
       "\t<tr><td>2016</td><td>0</td><td> 872</td><td>0.3507643</td></tr>\n",
       "\t<tr><td>2016</td><td>1</td><td>1614</td><td>0.6492357</td></tr>\n",
       "\t<tr><td>2017</td><td>0</td><td>1866</td><td>0.6988764</td></tr>\n",
       "\t<tr><td>2017</td><td>1</td><td> 804</td><td>0.3011236</td></tr>\n",
       "</tbody>\n",
       "</table>\n"
      ],
      "text/latex": [
       "A grouped\\_df: 8 × 4\n",
       "\\begin{tabular}{llll}\n",
       " year & class & n & freq\\\\\n",
       " <int> & <fct> & <int> & <dbl>\\\\\n",
       "\\hline\n",
       "\t 2014 & 0 &  918 & 0.5941748\\\\\n",
       "\t 2014 & 1 &  627 & 0.4058252\\\\\n",
       "\t 2015 & 0 &  574 & 0.2815105\\\\\n",
       "\t 2015 & 1 & 1465 & 0.7184895\\\\\n",
       "\t 2016 & 0 &  872 & 0.3507643\\\\\n",
       "\t 2016 & 1 & 1614 & 0.6492357\\\\\n",
       "\t 2017 & 0 & 1866 & 0.6988764\\\\\n",
       "\t 2017 & 1 &  804 & 0.3011236\\\\\n",
       "\\end{tabular}\n"
      ],
      "text/markdown": [
       "\n",
       "A grouped_df: 8 × 4\n",
       "\n",
       "| year &lt;int&gt; | class &lt;fct&gt; | n &lt;int&gt; | freq &lt;dbl&gt; |\n",
       "|---|---|---|---|\n",
       "| 2014 | 0 |  918 | 0.5941748 |\n",
       "| 2014 | 1 |  627 | 0.4058252 |\n",
       "| 2015 | 0 |  574 | 0.2815105 |\n",
       "| 2015 | 1 | 1465 | 0.7184895 |\n",
       "| 2016 | 0 |  872 | 0.3507643 |\n",
       "| 2016 | 1 | 1614 | 0.6492357 |\n",
       "| 2017 | 0 | 1866 | 0.6988764 |\n",
       "| 2017 | 1 |  804 | 0.3011236 |\n",
       "\n"
      ],
      "text/plain": [
       "  year class n    freq     \n",
       "1 2014 0      918 0.5941748\n",
       "2 2014 1      627 0.4058252\n",
       "3 2015 0      574 0.2815105\n",
       "4 2015 1     1465 0.7184895\n",
       "5 2016 0      872 0.3507643\n",
       "6 2016 1     1614 0.6492357\n",
       "7 2017 0     1866 0.6988764\n",
       "8 2017 1      804 0.3011236"
      ]
     },
     "metadata": {},
     "output_type": "display_data"
    },
    {
     "data": {
      "text/html": [
       "<table>\n",
       "<caption>A grouped_df: 2 × 4</caption>\n",
       "<thead>\n",
       "\t<tr><th scope=col>year</th><th scope=col>class</th><th scope=col>n</th><th scope=col>freq</th></tr>\n",
       "\t<tr><th scope=col>&lt;int&gt;</th><th scope=col>&lt;fct&gt;</th><th scope=col>&lt;int&gt;</th><th scope=col>&lt;dbl&gt;</th></tr>\n",
       "</thead>\n",
       "<tbody>\n",
       "\t<tr><td>2018</td><td>0</td><td> 826</td><td>0.2925965</td></tr>\n",
       "\t<tr><td>2018</td><td>1</td><td>1997</td><td>0.7074035</td></tr>\n",
       "</tbody>\n",
       "</table>\n"
      ],
      "text/latex": [
       "A grouped\\_df: 2 × 4\n",
       "\\begin{tabular}{llll}\n",
       " year & class & n & freq\\\\\n",
       " <int> & <fct> & <int> & <dbl>\\\\\n",
       "\\hline\n",
       "\t 2018 & 0 &  826 & 0.2925965\\\\\n",
       "\t 2018 & 1 & 1997 & 0.7074035\\\\\n",
       "\\end{tabular}\n"
      ],
      "text/markdown": [
       "\n",
       "A grouped_df: 2 × 4\n",
       "\n",
       "| year &lt;int&gt; | class &lt;fct&gt; | n &lt;int&gt; | freq &lt;dbl&gt; |\n",
       "|---|---|---|---|\n",
       "| 2018 | 0 |  826 | 0.2925965 |\n",
       "| 2018 | 1 | 1997 | 0.7074035 |\n",
       "\n"
      ],
      "text/plain": [
       "  year class n    freq     \n",
       "1 2018 0      826 0.2925965\n",
       "2 2018 1     1997 0.7074035"
      ]
     },
     "metadata": {},
     "output_type": "display_data"
    }
   ],
   "source": [
    "#Splitting by year 2018 vs all previous\n",
    "train <- complete %>% filter(year != 2018)\n",
    "test <- complete %>% filter(year == 2018)\n",
    "\n",
    "train %>%\n",
    "  group_by(year, class) %>%\n",
    "  summarise(n = n()) %>%\n",
    "  mutate(freq = n / sum(n))\n",
    "\n",
    "test %>%\n",
    "  group_by(year, class) %>%\n",
    "  summarise(n = n()) %>%\n",
    "  mutate(freq = n / sum(n))"
   ]
  },
  {
   "cell_type": "code",
   "execution_count": 40,
   "metadata": {
    "scrolled": true
   },
   "outputs": [
    {
     "data": {
      "text/plain": [
       "Confusion Matrix and Statistics\n",
       "\n",
       "          Reference\n",
       "Prediction    0    1\n",
       "         0  826 1997\n",
       "         1    0    0\n",
       "                                          \n",
       "               Accuracy : 0.2926          \n",
       "                 95% CI : (0.2759, 0.3098)\n",
       "    No Information Rate : 0.7074          \n",
       "    P-Value [Acc > NIR] : 1               \n",
       "                                          \n",
       "                  Kappa : 0               \n",
       "                                          \n",
       " Mcnemar's Test P-Value : <2e-16          \n",
       "                                          \n",
       "              Precision : 0.2926          \n",
       "                 Recall : 1.0000          \n",
       "                     F1 : 0.4527          \n",
       "             Prevalence : 0.2926          \n",
       "         Detection Rate : 0.2926          \n",
       "   Detection Prevalence : 1.0000          \n",
       "      Balanced Accuracy : 0.5000          \n",
       "                                          \n",
       "       'Positive' Class : 0               \n",
       "                                          "
      ]
     },
     "metadata": {},
     "output_type": "display_data"
    }
   ],
   "source": [
    "dtree <- rpart(class ~ ., data = train, method = \"class\")\n",
    "pred_dtree <- predict(dtree, test, type = \"class\")\n",
    "confusionMatrix(pred_dtree, test$class, mode = \"prec_recall\")"
   ]
  },
  {
   "cell_type": "code",
   "execution_count": 41,
   "metadata": {},
   "outputs": [
    {
     "data": {
      "text/html": [
       "<table>\n",
       "<caption>A data.frame: 5 × 2</caption>\n",
       "<thead>\n",
       "\t<tr><th></th><th scope=col>Overall</th><th scope=col>names</th></tr>\n",
       "\t<tr><th></th><th scope=col>&lt;dbl&gt;</th><th scope=col>&lt;chr&gt;</th></tr>\n",
       "</thead>\n",
       "<tbody>\n",
       "\t<tr><th scope=row>year</th><td>528.7882</td><td>year                              </td></tr>\n",
       "\t<tr><th scope=row>earnings_before_tax_margin</th><td>174.1934</td><td>earnings_before_tax_margin        </td></tr>\n",
       "\t<tr><th scope=row>operating_cash_flow</th><td>162.5573</td><td>operating_cash_flow               </td></tr>\n",
       "\t<tr><th scope=row>dividendpaidandcapexcoverageratios</th><td>102.5837</td><td>dividendpaidandcapexcoverageratios</td></tr>\n",
       "\t<tr><th scope=row>operatingcashflowsalesratio</th><td>101.7313</td><td>operatingcashflowsalesratio       </td></tr>\n",
       "</tbody>\n",
       "</table>\n"
      ],
      "text/latex": [
       "A data.frame: 5 × 2\n",
       "\\begin{tabular}{r|ll}\n",
       "  & Overall & names\\\\\n",
       "  & <dbl> & <chr>\\\\\n",
       "\\hline\n",
       "\tyear & 528.7882 & year                              \\\\\n",
       "\tearnings\\_before\\_tax\\_margin & 174.1934 & earnings\\_before\\_tax\\_margin        \\\\\n",
       "\toperating\\_cash\\_flow & 162.5573 & operating\\_cash\\_flow               \\\\\n",
       "\tdividendpaidandcapexcoverageratios & 102.5837 & dividendpaidandcapexcoverageratios\\\\\n",
       "\toperatingcashflowsalesratio & 101.7313 & operatingcashflowsalesratio       \\\\\n",
       "\\end{tabular}\n"
      ],
      "text/markdown": [
       "\n",
       "A data.frame: 5 × 2\n",
       "\n",
       "| <!--/--> | Overall &lt;dbl&gt; | names &lt;chr&gt; |\n",
       "|---|---|---|\n",
       "| year | 528.7882 | year                               |\n",
       "| earnings_before_tax_margin | 174.1934 | earnings_before_tax_margin         |\n",
       "| operating_cash_flow | 162.5573 | operating_cash_flow                |\n",
       "| dividendpaidandcapexcoverageratios | 102.5837 | dividendpaidandcapexcoverageratios |\n",
       "| operatingcashflowsalesratio | 101.7313 | operatingcashflowsalesratio        |\n",
       "\n"
      ],
      "text/plain": [
       "                                   Overall  names                             \n",
       "year                               528.7882 year                              \n",
       "earnings_before_tax_margin         174.1934 earnings_before_tax_margin        \n",
       "operating_cash_flow                162.5573 operating_cash_flow               \n",
       "dividendpaidandcapexcoverageratios 102.5837 dividendpaidandcapexcoverageratios\n",
       "operatingcashflowsalesratio        101.7313 operatingcashflowsalesratio       "
      ]
     },
     "metadata": {},
     "output_type": "display_data"
    }
   ],
   "source": [
    "importance <- varImp(dtree)\n",
    "importance$names <- row.names(importance)\n",
    "varlist <- importance[order(importance$Overall,decreasing = T),]\n",
    "head(varlist, n = 5)"
   ]
  },
  {
   "cell_type": "markdown",
   "metadata": {},
   "source": [
    "## Data Splitting\n",
    "Once you have an idea of how you plan to use the data, split your data into train and test groups or, if you prefer a more complicated approach, multiple folds. "
   ]
  },
  {
   "cell_type": "markdown",
   "metadata": {},
   "source": [
    " - Due to the high importance of the \"year\" variable, I believe it was best to remove the year variable from the dataset so that the model does not simply classify \"class\" primarily on the \"year\" variable.\n",
    " - Since stock performance can fluctuate substantially from year to year, I believe this will create a more accurate model."
   ]
  },
  {
   "cell_type": "code",
   "execution_count": 42,
   "metadata": {},
   "outputs": [
    {
     "data": {
      "text/plain": [
       "\n",
       "        0         1 \n",
       "0.4372375 0.5627625 "
      ]
     },
     "metadata": {},
     "output_type": "display_data"
    },
    {
     "data": {
      "text/plain": [
       "\n",
       "        0         1 \n",
       "0.4373018 0.5626982 "
      ]
     },
     "metadata": {},
     "output_type": "display_data"
    },
    {
     "data": {
      "text/html": [
       "<style>\n",
       ".list-inline {list-style: none; margin:0; padding: 0}\n",
       ".list-inline>li {display: inline-block}\n",
       ".list-inline>li:not(:last-child)::after {content: \"\\00b7\"; padding: 0 .5ex}\n",
       "</style>\n",
       "<ol class=list-inline><li>8094</li><li>167</li></ol>\n"
      ],
      "text/latex": [
       "\\begin{enumerate*}\n",
       "\\item 8094\n",
       "\\item 167\n",
       "\\end{enumerate*}\n"
      ],
      "text/markdown": [
       "1. 8094\n",
       "2. 167\n",
       "\n",
       "\n"
      ],
      "text/plain": [
       "[1] 8094  167"
      ]
     },
     "metadata": {},
     "output_type": "display_data"
    },
    {
     "data": {
      "text/html": [
       "<style>\n",
       ".list-inline {list-style: none; margin:0; padding: 0}\n",
       ".list-inline>li {display: inline-block}\n",
       ".list-inline>li:not(:last-child)::after {content: \"\\00b7\"; padding: 0 .5ex}\n",
       "</style>\n",
       "<ol class=list-inline><li>3469</li><li>167</li></ol>\n"
      ],
      "text/latex": [
       "\\begin{enumerate*}\n",
       "\\item 3469\n",
       "\\item 167\n",
       "\\end{enumerate*}\n"
      ],
      "text/markdown": [
       "1. 3469\n",
       "2. 167\n",
       "\n",
       "\n"
      ],
      "text/plain": [
       "[1] 3469  167"
      ]
     },
     "metadata": {},
     "output_type": "display_data"
    }
   ],
   "source": [
    "#Removing year variable\n",
    "complete <- complete[, -c('year')]\n",
    "\n",
    "#Splitting the dataset into two and checking proportions\n",
    "split = sample.split(complete$class, SplitRatio = 0.70)\n",
    "train = subset(complete, split == TRUE)\n",
    "test = subset(complete, split == FALSE)\n",
    "\n",
    "prop.table(table(train$class))\n",
    "prop.table(table(test$class))\n",
    "\n",
    "dim(train)\n",
    "dim(test)"
   ]
  },
  {
   "cell_type": "code",
   "execution_count": 43,
   "metadata": {},
   "outputs": [
    {
     "data": {
      "text/html": [
       "<table>\n",
       "<caption>A data.table: 6 × 167</caption>\n",
       "<thead>\n",
       "\t<tr><th scope=col>class</th><th scope=col>sector_num</th><th scope=col>revenue</th><th scope=col>revenue_growth</th><th scope=col>cost_of_revenue</th><th scope=col>gross_profit</th><th scope=col>r.d_expenses</th><th scope=col>sg.a_expense</th><th scope=col>operating_expenses</th><th scope=col>operating_income</th><th scope=col>...</th><th scope=col>pfcf_ratio</th><th scope=col>pocf_ratio</th><th scope=col>price_to_sales_ratio</th><th scope=col>days_payables_outstanding</th><th scope=col>free_cash_flow_per_share</th><th scope=col>roe</th><th scope=col>ptb_ratio</th><th scope=col>pb_ratio</th><th scope=col>operating_cash_flow_per_share</th><th scope=col>cash_per_share</th></tr>\n",
       "\t<tr><th scope=col>&lt;fct&gt;</th><th scope=col>&lt;int&gt;</th><th scope=col>&lt;dbl&gt;</th><th scope=col>&lt;dbl&gt;</th><th scope=col>&lt;dbl&gt;</th><th scope=col>&lt;dbl&gt;</th><th scope=col>&lt;dbl&gt;</th><th scope=col>&lt;dbl&gt;</th><th scope=col>&lt;dbl&gt;</th><th scope=col>&lt;dbl&gt;</th><th scope=col>...</th><th scope=col>&lt;chr&gt;</th><th scope=col>&lt;chr&gt;</th><th scope=col>&lt;chr&gt;</th><th scope=col>&lt;chr&gt;</th><th scope=col>&lt;chr&gt;</th><th scope=col>&lt;chr&gt;</th><th scope=col>&lt;chr&gt;</th><th scope=col>&lt;chr&gt;</th><th scope=col>&lt;chr&gt;</th><th scope=col>&lt;chr&gt;</th></tr>\n",
       "</thead>\n",
       "<tbody>\n",
       "\t<tr><td>1</td><td>4</td><td>9.83750e+10</td><td> 0.0182</td><td>7.81380e+10</td><td>2.02370e+10</td><td>0.00e+00</td><td>1.5196e+10</td><td>1.7512e+10</td><td>2.7250e+09</td><td>...</td><td>PFCF ratio</td><td>POCF ratio</td><td>Price to Sales Ratio</td><td>Days Payables Outstanding</td><td>Free Cash Flow per Share</td><td>ROE</td><td>PTB ratio</td><td>PB ratio</td><td>Operating Cash Flow per Share</td><td>Cash per Share</td></tr>\n",
       "\t<tr><td>1</td><td>4</td><td>4.59980e+10</td><td>-0.0183</td><td>1.78890e+10</td><td>2.81090e+10</td><td>0.00e+00</td><td>1.7218e+10</td><td>1.8401e+10</td><td>9.7080e+09</td><td>...</td><td>PFCF ratio</td><td>POCF ratio</td><td>Price to Sales Ratio</td><td>Days Payables Outstanding</td><td>Free Cash Flow per Share</td><td>ROE</td><td>PTB ratio</td><td>PB ratio</td><td>Operating Cash Flow per Share</td><td>Cash per Share</td></tr>\n",
       "\t<tr><td>0</td><td>4</td><td>4.76294e+11</td><td> 0.0163</td><td>3.58069e+11</td><td>1.18225e+11</td><td>0.00e+00</td><td>9.1353e+10</td><td>9.1353e+10</td><td>2.6872e+10</td><td>...</td><td>PFCF ratio</td><td>POCF ratio</td><td>Price to Sales Ratio</td><td>Days Payables Outstanding</td><td>Free Cash Flow per Share</td><td>ROE</td><td>PTB ratio</td><td>PB ratio</td><td>Operating Cash Flow per Share</td><td>Cash per Share</td></tr>\n",
       "\t<tr><td>1</td><td>4</td><td>5.72700e+09</td><td> 0.0214</td><td>3.52360e+09</td><td>2.20340e+09</td><td>0.00e+00</td><td>1.4805e+09</td><td>1.5987e+09</td><td>6.0470e+08</td><td>...</td><td>PFCF ratio</td><td>POCF ratio</td><td>Price to Sales Ratio</td><td>Days Payables Outstanding</td><td>Free Cash Flow per Share</td><td>ROE</td><td>PTB ratio</td><td>PB ratio</td><td>Operating Cash Flow per Share</td><td>Cash per Share</td></tr>\n",
       "\t<tr><td>1</td><td>4</td><td>8.26800e+09</td><td> 0.0268</td><td>5.29700e+09</td><td>2.97100e+09</td><td>1.22e+08</td><td>1.5050e+09</td><td>1.7040e+09</td><td>1.2670e+09</td><td>...</td><td>PFCF ratio</td><td>POCF ratio</td><td>Price to Sales Ratio</td><td>Days Payables Outstanding</td><td>Free Cash Flow per Share</td><td>ROE</td><td>PTB ratio</td><td>PB ratio</td><td>Operating Cash Flow per Share</td><td>Cash per Share</td></tr>\n",
       "\t<tr><td>0</td><td>4</td><td>7.12790e+10</td><td>-0.0276</td><td>5.00390e+10</td><td>2.12400e+10</td><td>0.00e+00</td><td>1.4465e+10</td><td>1.6461e+10</td><td>4.7790e+09</td><td>...</td><td>PFCF ratio</td><td>POCF ratio</td><td>Price to Sales Ratio</td><td>Days Payables Outstanding</td><td>Free Cash Flow per Share</td><td>ROE</td><td>PTB ratio</td><td>PB ratio</td><td>Operating Cash Flow per Share</td><td>Cash per Share</td></tr>\n",
       "</tbody>\n",
       "</table>\n"
      ],
      "text/latex": [
       "A data.table: 6 × 167\n",
       "\\begin{tabular}{lllllllllllllllllllll}\n",
       " class & sector\\_num & revenue & revenue\\_growth & cost\\_of\\_revenue & gross\\_profit & r.d\\_expenses & sg.a\\_expense & operating\\_expenses & operating\\_income & ... & pfcf\\_ratio & pocf\\_ratio & price\\_to\\_sales\\_ratio & days\\_payables\\_outstanding & free\\_cash\\_flow\\_per\\_share & roe & ptb\\_ratio & pb\\_ratio & operating\\_cash\\_flow\\_per\\_share & cash\\_per\\_share\\\\\n",
       " <fct> & <int> & <dbl> & <dbl> & <dbl> & <dbl> & <dbl> & <dbl> & <dbl> & <dbl> & ... & <chr> & <chr> & <chr> & <chr> & <chr> & <chr> & <chr> & <chr> & <chr> & <chr>\\\\\n",
       "\\hline\n",
       "\t 1 & 4 & 9.83750e+10 &  0.0182 & 7.81380e+10 & 2.02370e+10 & 0.00e+00 & 1.5196e+10 & 1.7512e+10 & 2.7250e+09 & ... & PFCF ratio & POCF ratio & Price to Sales Ratio & Days Payables Outstanding & Free Cash Flow per Share & ROE & PTB ratio & PB ratio & Operating Cash Flow per Share & Cash per Share\\\\\n",
       "\t 1 & 4 & 4.59980e+10 & -0.0183 & 1.78890e+10 & 2.81090e+10 & 0.00e+00 & 1.7218e+10 & 1.8401e+10 & 9.7080e+09 & ... & PFCF ratio & POCF ratio & Price to Sales Ratio & Days Payables Outstanding & Free Cash Flow per Share & ROE & PTB ratio & PB ratio & Operating Cash Flow per Share & Cash per Share\\\\\n",
       "\t 0 & 4 & 4.76294e+11 &  0.0163 & 3.58069e+11 & 1.18225e+11 & 0.00e+00 & 9.1353e+10 & 9.1353e+10 & 2.6872e+10 & ... & PFCF ratio & POCF ratio & Price to Sales Ratio & Days Payables Outstanding & Free Cash Flow per Share & ROE & PTB ratio & PB ratio & Operating Cash Flow per Share & Cash per Share\\\\\n",
       "\t 1 & 4 & 5.72700e+09 &  0.0214 & 3.52360e+09 & 2.20340e+09 & 0.00e+00 & 1.4805e+09 & 1.5987e+09 & 6.0470e+08 & ... & PFCF ratio & POCF ratio & Price to Sales Ratio & Days Payables Outstanding & Free Cash Flow per Share & ROE & PTB ratio & PB ratio & Operating Cash Flow per Share & Cash per Share\\\\\n",
       "\t 1 & 4 & 8.26800e+09 &  0.0268 & 5.29700e+09 & 2.97100e+09 & 1.22e+08 & 1.5050e+09 & 1.7040e+09 & 1.2670e+09 & ... & PFCF ratio & POCF ratio & Price to Sales Ratio & Days Payables Outstanding & Free Cash Flow per Share & ROE & PTB ratio & PB ratio & Operating Cash Flow per Share & Cash per Share\\\\\n",
       "\t 0 & 4 & 7.12790e+10 & -0.0276 & 5.00390e+10 & 2.12400e+10 & 0.00e+00 & 1.4465e+10 & 1.6461e+10 & 4.7790e+09 & ... & PFCF ratio & POCF ratio & Price to Sales Ratio & Days Payables Outstanding & Free Cash Flow per Share & ROE & PTB ratio & PB ratio & Operating Cash Flow per Share & Cash per Share\\\\\n",
       "\\end{tabular}\n"
      ],
      "text/markdown": [
       "\n",
       "A data.table: 6 × 167\n",
       "\n",
       "| class &lt;fct&gt; | sector_num &lt;int&gt; | revenue &lt;dbl&gt; | revenue_growth &lt;dbl&gt; | cost_of_revenue &lt;dbl&gt; | gross_profit &lt;dbl&gt; | r.d_expenses &lt;dbl&gt; | sg.a_expense &lt;dbl&gt; | operating_expenses &lt;dbl&gt; | operating_income &lt;dbl&gt; | ... ... | pfcf_ratio &lt;chr&gt; | pocf_ratio &lt;chr&gt; | price_to_sales_ratio &lt;chr&gt; | days_payables_outstanding &lt;chr&gt; | free_cash_flow_per_share &lt;chr&gt; | roe &lt;chr&gt; | ptb_ratio &lt;chr&gt; | pb_ratio &lt;chr&gt; | operating_cash_flow_per_share &lt;chr&gt; | cash_per_share &lt;chr&gt; |\n",
       "|---|---|---|---|---|---|---|---|---|---|---|---|---|---|---|---|---|---|---|---|---|\n",
       "| 1 | 4 | 9.83750e+10 |  0.0182 | 7.81380e+10 | 2.02370e+10 | 0.00e+00 | 1.5196e+10 | 1.7512e+10 | 2.7250e+09 | ... | PFCF ratio | POCF ratio | Price to Sales Ratio | Days Payables Outstanding | Free Cash Flow per Share | ROE | PTB ratio | PB ratio | Operating Cash Flow per Share | Cash per Share |\n",
       "| 1 | 4 | 4.59980e+10 | -0.0183 | 1.78890e+10 | 2.81090e+10 | 0.00e+00 | 1.7218e+10 | 1.8401e+10 | 9.7080e+09 | ... | PFCF ratio | POCF ratio | Price to Sales Ratio | Days Payables Outstanding | Free Cash Flow per Share | ROE | PTB ratio | PB ratio | Operating Cash Flow per Share | Cash per Share |\n",
       "| 0 | 4 | 4.76294e+11 |  0.0163 | 3.58069e+11 | 1.18225e+11 | 0.00e+00 | 9.1353e+10 | 9.1353e+10 | 2.6872e+10 | ... | PFCF ratio | POCF ratio | Price to Sales Ratio | Days Payables Outstanding | Free Cash Flow per Share | ROE | PTB ratio | PB ratio | Operating Cash Flow per Share | Cash per Share |\n",
       "| 1 | 4 | 5.72700e+09 |  0.0214 | 3.52360e+09 | 2.20340e+09 | 0.00e+00 | 1.4805e+09 | 1.5987e+09 | 6.0470e+08 | ... | PFCF ratio | POCF ratio | Price to Sales Ratio | Days Payables Outstanding | Free Cash Flow per Share | ROE | PTB ratio | PB ratio | Operating Cash Flow per Share | Cash per Share |\n",
       "| 1 | 4 | 8.26800e+09 |  0.0268 | 5.29700e+09 | 2.97100e+09 | 1.22e+08 | 1.5050e+09 | 1.7040e+09 | 1.2670e+09 | ... | PFCF ratio | POCF ratio | Price to Sales Ratio | Days Payables Outstanding | Free Cash Flow per Share | ROE | PTB ratio | PB ratio | Operating Cash Flow per Share | Cash per Share |\n",
       "| 0 | 4 | 7.12790e+10 | -0.0276 | 5.00390e+10 | 2.12400e+10 | 0.00e+00 | 1.4465e+10 | 1.6461e+10 | 4.7790e+09 | ... | PFCF ratio | POCF ratio | Price to Sales Ratio | Days Payables Outstanding | Free Cash Flow per Share | ROE | PTB ratio | PB ratio | Operating Cash Flow per Share | Cash per Share |\n",
       "\n"
      ],
      "text/plain": [
       "  class sector_num revenue     revenue_growth cost_of_revenue gross_profit\n",
       "1 1     4          9.83750e+10  0.0182        7.81380e+10     2.02370e+10 \n",
       "2 1     4          4.59980e+10 -0.0183        1.78890e+10     2.81090e+10 \n",
       "3 0     4          4.76294e+11  0.0163        3.58069e+11     1.18225e+11 \n",
       "4 1     4          5.72700e+09  0.0214        3.52360e+09     2.20340e+09 \n",
       "5 1     4          8.26800e+09  0.0268        5.29700e+09     2.97100e+09 \n",
       "6 0     4          7.12790e+10 -0.0276        5.00390e+10     2.12400e+10 \n",
       "  r.d_expenses sg.a_expense operating_expenses operating_income ... pfcf_ratio\n",
       "1 0.00e+00     1.5196e+10   1.7512e+10         2.7250e+09       ... PFCF ratio\n",
       "2 0.00e+00     1.7218e+10   1.8401e+10         9.7080e+09       ... PFCF ratio\n",
       "3 0.00e+00     9.1353e+10   9.1353e+10         2.6872e+10       ... PFCF ratio\n",
       "4 0.00e+00     1.4805e+09   1.5987e+09         6.0470e+08       ... PFCF ratio\n",
       "5 1.22e+08     1.5050e+09   1.7040e+09         1.2670e+09       ... PFCF ratio\n",
       "6 0.00e+00     1.4465e+10   1.6461e+10         4.7790e+09       ... PFCF ratio\n",
       "  pocf_ratio price_to_sales_ratio days_payables_outstanding\n",
       "1 POCF ratio Price to Sales Ratio Days Payables Outstanding\n",
       "2 POCF ratio Price to Sales Ratio Days Payables Outstanding\n",
       "3 POCF ratio Price to Sales Ratio Days Payables Outstanding\n",
       "4 POCF ratio Price to Sales Ratio Days Payables Outstanding\n",
       "5 POCF ratio Price to Sales Ratio Days Payables Outstanding\n",
       "6 POCF ratio Price to Sales Ratio Days Payables Outstanding\n",
       "  free_cash_flow_per_share roe ptb_ratio pb_ratio operating_cash_flow_per_share\n",
       "1 Free Cash Flow per Share ROE PTB ratio PB ratio Operating Cash Flow per Share\n",
       "2 Free Cash Flow per Share ROE PTB ratio PB ratio Operating Cash Flow per Share\n",
       "3 Free Cash Flow per Share ROE PTB ratio PB ratio Operating Cash Flow per Share\n",
       "4 Free Cash Flow per Share ROE PTB ratio PB ratio Operating Cash Flow per Share\n",
       "5 Free Cash Flow per Share ROE PTB ratio PB ratio Operating Cash Flow per Share\n",
       "6 Free Cash Flow per Share ROE PTB ratio PB ratio Operating Cash Flow per Share\n",
       "  cash_per_share\n",
       "1 Cash per Share\n",
       "2 Cash per Share\n",
       "3 Cash per Share\n",
       "4 Cash per Share\n",
       "5 Cash per Share\n",
       "6 Cash per Share"
      ]
     },
     "metadata": {},
     "output_type": "display_data"
    }
   ],
   "source": [
    "head(complete)"
   ]
  },
  {
   "cell_type": "markdown",
   "metadata": {},
   "source": [
    "## Baseline Model\n",
    "Before anything else, let's build a baseline model. This will serve as a \"sanity check\" for everything that comes after. Choose a simplistic model and, without any preprocessing or tuning, train a model on the training set. How well does it perform on the test set?"
   ]
  },
  {
   "cell_type": "markdown",
   "metadata": {},
   "source": [
    " - I chose to test three different types of models to see which one would be the best. These models were logit, decision tree, and random forest. Using accuracy as a basic metric, the random forest model preformed the best and was thus used for further analysis."
   ]
  },
  {
   "cell_type": "markdown",
   "metadata": {},
   "source": [
    "## Baseline Logit Model"
   ]
  },
  {
   "cell_type": "code",
   "execution_count": 44,
   "metadata": {
    "scrolled": true
   },
   "outputs": [
    {
     "name": "stdout",
     "output_type": "stream",
     "text": [
      " Factor w/ 2 levels \"0\",\"1\": 2 2 1 2 2 1 2 2 2 2 ...\n"
     ]
    }
   ],
   "source": [
    "str(train$class)"
   ]
  },
  {
   "cell_type": "code",
   "execution_count": 45,
   "metadata": {
    "scrolled": true
   },
   "outputs": [
    {
     "ename": "ERROR",
     "evalue": "Error in `contrasts<-`(`*tmp*`, value = contr.funs[1 + isOF[nn]]): contrasts can be applied only to factors with 2 or more levels\n",
     "output_type": "error",
     "traceback": [
      "Error in `contrasts<-`(`*tmp*`, value = contr.funs[1 + isOF[nn]]): contrasts can be applied only to factors with 2 or more levels\nTraceback:\n",
      "1. glm(class ~ ., family = binomial(link = \"logit\"), data = train, \n .     control = list(maxit = 100))",
      "2. model.matrix(mt, mf, contrasts)",
      "3. model.matrix.default(mt, mf, contrasts)",
      "4. `contrasts<-`(`*tmp*`, value = contr.funs[1 + isOF[nn]])",
      "5. stop(\"contrasts can be applied only to factors with 2 or more levels\")"
     ]
    }
   ],
   "source": [
    "set.seed(123)\n",
    "glm <- glm(class~., family = binomial(link = \"logit\"), data = train, control = list(maxit = 100))\n",
    "\n",
    "#Model Accuracy#\n",
    "summary(glm)"
   ]
  },
  {
   "cell_type": "code",
   "execution_count": 12,
   "metadata": {
    "scrolled": true
   },
   "outputs": [
    {
     "data": {
      "text/html": [
       "10745.1430660307"
      ],
      "text/latex": [
       "10745.1430660307"
      ],
      "text/markdown": [
       "10745.1430660307"
      ],
      "text/plain": [
       "[1] 10745.14"
      ]
     },
     "metadata": {},
     "output_type": "display_data"
    }
   ],
   "source": [
    "glm$aic"
   ]
  },
  {
   "cell_type": "code",
   "execution_count": 13,
   "metadata": {},
   "outputs": [],
   "source": [
    "pred_glm <- predict(glm, type = \"response\")"
   ]
  },
  {
   "cell_type": "code",
   "execution_count": 15,
   "metadata": {},
   "outputs": [
    {
     "data": {
      "image/png": "[encoded data removed]",
      "text/plain": [
       "plot without title"
      ]
     },
     "metadata": {
      "image/png": {
       "height": 420,
       "width": 420
      },
      "text/plain": {
       "height": 420,
       "width": 420
      }
     },
     "output_type": "display_data"
    }
   ],
   "source": [
    "ROCRpred <- prediction(pred_glm, train$class)\n",
    "\n",
    "ROCRperf <- performance(ROCRpred, \"tpr\", \"fpr\")\n",
    "plot(ROCRperf, colorize=TRUE, print.cutoffs.at=seq(0,1,by=0.1), text.adj=c(-0.2,1.7))"
   ]
  },
  {
   "cell_type": "code",
   "execution_count": 16,
   "metadata": {},
   "outputs": [
    {
     "data": {
      "text/plain": [
       "   Min. 1st Qu.  Median    Mean 3rd Qu.    Max. \n",
       " 0.0000  0.5098  0.5720  0.5671  0.6266  1.0000 "
      ]
     },
     "metadata": {},
     "output_type": "display_data"
    },
    {
     "name": "stdout",
     "output_type": "stream",
     "text": [
      "[1] \"Accuracy of 0.601398601398601\"\n"
     ]
    }
   ],
   "source": [
    "#Predicting and checking accuracy\n",
    "predict_test <- suppressWarnings(predict(glm, type = \"response\", newdata = test))\n",
    "summary(predict_test)\n",
    "predict_test <- ifelse(predict_test >= 0.5, 1, 0)\n",
    "\n",
    "Incorrect <- mean(predict_test != test$class)\n",
    "print(paste(\"Accuracy of\",1-Incorrect))"
   ]
  },
  {
   "cell_type": "code",
   "execution_count": 18,
   "metadata": {
    "scrolled": true
   },
   "outputs": [],
   "source": [
    "set.seed(123)\n",
    "importance <- varImp(glm)"
   ]
  },
  {
   "cell_type": "code",
   "execution_count": 19,
   "metadata": {
    "scrolled": true
   },
   "outputs": [
    {
     "name": "stdout",
     "output_type": "stream",
     "text": [
      "                                                  Overall\n",
      "sector_num                                    5.609734014\n",
      "revenue                                       1.256865796\n",
      "revenue_growth                                0.823353583\n",
      "cost_of_revenue                               1.254890270\n",
      "gross_profit                                  0.848062446\n",
      "r.d_expenses                                  1.429025957\n",
      "sg.a_expense                                  0.016199724\n",
      "operating_expenses                            0.927778357\n",
      "operating_income                              0.880429497\n",
      "interest_expense                              0.947790088\n",
      "earnings_before_tax                           1.023767184\n",
      "income_tax_expense                            0.754253771\n",
      "net_income__noncontrolling_int                0.006581831\n",
      "net_income__discontinued_ops                  0.457871964\n",
      "net_income                                    0.133036315\n",
      "preferred_dividends                           0.050991760\n",
      "net_income_com                                1.163399332\n",
      "eps                                           1.324603454\n",
      "eps_diluted                                   1.226398306\n",
      "weighted_average_shs_out                      0.607719469\n",
      "weighted_average_shs_out_dil                  0.573172055\n",
      "dividend_per_share                            0.223672721\n",
      "gross_margin                                  1.669300192\n",
      "ebitda_margin                                 1.012302009\n",
      "ebit_margin                                   1.600959377\n",
      "profit_margin                                 0.868919424\n",
      "free_cash_flow_margin                         0.311610069\n",
      "ebitda                                        0.273180526\n",
      "ebit                                          0.382982314\n",
      "consolidated_income                           0.272046779\n",
      "earnings_before_tax_margin                    2.101354412\n",
      "cash_and_cash_equivalents                     0.108209500\n",
      "shortterm_investments                         0.034201064\n",
      "cash_and_shortterm_investments                0.031412259\n",
      "receivables                                   1.115108714\n",
      "inventories                                   1.341121855\n",
      "total_current_assets                          1.375572760\n",
      "property_plant_equipment_net                  0.274719009\n",
      "goodwill_and_intangible_assets                0.465646059\n",
      "longterm_investments                          0.892260750\n",
      "tax_assets                                    0.191187921\n",
      "total_assets                                  0.451030705\n",
      "payables                                      0.035436483\n",
      "shortterm_debt                                0.160868800\n",
      "total_current_liabilities                     0.099309392\n",
      "longterm_debt                                 1.005287887\n",
      "total_debt                                    1.493889422\n",
      "deferred_revenue                              2.270006136\n",
      "tax_liabilities                               1.624646733\n",
      "deposit_liabilities                           0.286532826\n",
      "total_liabilities                             1.351350441\n",
      "other_comprehensive_income                    1.330889617\n",
      "retained_earnings_deficit                     1.218284011\n",
      "total_shareholders_equity                     0.495580980\n",
      "investments                                   1.541908660\n",
      "other_liabilities                             0.109719370\n",
      "depreciation_amortization                     0.249294308\n",
      "stockbased_compensation                       1.167073610\n",
      "operating_cash_flow                           0.241013976\n",
      "capital_expenditure                           0.138181483\n",
      "acquisitions_and_disposals                    1.803812435\n",
      "investment_purchases_and_sales                0.175641554\n",
      "investing_cash_flow                           0.619821262\n",
      "issuance_repayment_of_debt                    1.669942860\n",
      "issuance_buybacks_of_shares                   0.020166946\n",
      "dividend_payments                             1.178026070\n",
      "financing_cash_flow                           0.536441307\n",
      "effect_of_forex_changes_on_cash               5.223331481\n",
      "net_cash_flow_change_in_cash                  0.623443896\n",
      "free_cash_flow                                0.201742025\n",
      "net_cash_marketcap                            1.079766661\n",
      "pricesalesratio                               2.699373228\n",
      "pricefairvalue                                0.976732240\n",
      "ebitperrevenue                                1.633050613\n",
      "grossprofitmargin                             1.342588168\n",
      "pretaxprofitmargin                            0.480687816\n",
      "payablesturnover                              1.510035565\n",
      "inventoryturnover                             0.737710872\n",
      "fixedassetturnover                            1.221041000\n",
      "assetturnover                                 0.342982341\n",
      "currentratio                                  0.650778254\n",
      "quickratio                                    0.561187887\n",
      "cashratio                                     0.056795001\n",
      "daysofsalesoutstanding                        0.728807384\n",
      "daysofinventoryoutstanding                    1.347239476\n",
      "debtratio                                     0.006182382\n",
      "debtequityratio                               1.933414577\n",
      "longtermdebttocapitalization                  2.918866604\n",
      "totaldebttocapitalization                     2.136814256\n",
      "companyequitymultiplier                       1.910851263\n",
      "operatingcashflowsalesratio                   0.283912953\n",
      "capitalexpenditurecoverageratios              1.152591656\n",
      "dividendpaidandcapexcoverageratios            1.087793536\n",
      "revenue_per_share                             0.542975321\n",
      "net_income_per_share                          1.590476821\n",
      "book_value_per_share                          1.153346604\n",
      "tangible_book_value_per_share                 1.042856332\n",
      "shareholders_equity_per_share                 1.590246888\n",
      "interest_debt_per_share                       0.669608228\n",
      "market_cap                                    2.628319305\n",
      "enterprise_value                              3.102608698\n",
      "ev_to_sales                                   0.825955085\n",
      "enterprise_value_over_ebitda                  1.490384479\n",
      "ev_to_operating_cash_flow                     1.050569501\n",
      "ev_to_free_cash_flow                          0.366429027\n",
      "earnings_yield                                1.628251696\n",
      "free_cash_flow_yield                          3.004486695\n",
      "income_quality                                0.186823522\n",
      "sg.a_to_revenue                               0.099807246\n",
      "r.d_to_revenue                                0.873238160\n",
      "intangibles_to_total_assets                   2.814508925\n",
      "capex_to_operating_cash_flow                  0.443916010\n",
      "capex_to_revenue                              0.269875676\n",
      "capex_to_depreciation                         0.542631674\n",
      "stockbased_compensation_to_revenue            0.160115898\n",
      "graham_number                                 0.510375441\n",
      "graham_netnet                                 1.980393161\n",
      "tangible_asset_value                          0.457664559\n",
      "net_current_asset_value                       1.326570490\n",
      "invested_capital                              1.221678858\n",
      "average_receivables                           0.743149129\n",
      "average_payables                              1.382021955\n",
      "average_inventory                             1.613980338\n",
      "receivables_turnover                          0.215128357\n",
      "capex_per_share                               2.625948727\n",
      "gross_profit_growth                           0.661705400\n",
      "ebit_growth                                   0.849138618\n",
      "operating_income_growth                       0.005298298\n",
      "net_income_growth                             1.927246388\n",
      "eps_growth                                    0.850194873\n",
      "eps_diluted_growth                            0.872672445\n",
      "weighted_average_shares_growth                0.591696427\n",
      "weighted_average_shares_diluted_growth        1.775950145\n",
      "dividends_per_share_growth                    1.574050483\n",
      "operating_cash_flow_growth                    0.938322209\n",
      "free_cash_flow_growth                         0.139757614\n",
      "three_yr_revenue_growth_per_share             0.989117699\n",
      "three_yr_operating_cf_growth_per_share        2.116387973\n",
      "three_yr_net_income_growth_per_share          0.395065631\n",
      "three_yr_shareholders_equity_growth_per_share 0.892630239\n",
      "three_yr_dividend_per_share_growth_per_share  3.700951282\n",
      "receivables_growth                            0.591647237\n",
      "inventory_growth                              0.693525793\n",
      "asset_growth                                  1.941332139\n",
      "book_value_per_share_growth                   0.456668353\n",
      "debt_growth                                   0.504696136\n",
      "r.d_expense_growth                            2.444449321\n",
      "sg.a_expenses_growth                          3.179597732\n",
      "payout_ratio                                  1.306011356\n",
      "interest_coverage                             0.065704941\n",
      "net_profit_margin                             1.042834308\n",
      "dividend_yield                                1.362040067\n",
      "pe_ratio                                      0.456158366\n",
      "pfcf_ratio                                    0.961419427\n",
      "pocf_ratio                                    1.294139899\n",
      "price_to_sales_ratio                          2.763162638\n",
      "days_payables_outstanding                     1.332908450\n",
      "free_cash_flow_per_share                      0.162106329\n",
      "roe                                           0.928692606\n",
      "ptb_ratio                                     1.690226751\n",
      "pb_ratio                                      0.970845984\n",
      "operating_cash_flow_per_share                 2.438741221\n",
      "cash_per_share                                0.426376263\n"
     ]
    }
   ],
   "source": [
    "print(importance)"
   ]
  },
  {
   "cell_type": "markdown",
   "metadata": {},
   "source": [
    "## Baseline Decision Tree"
   ]
  },
  {
   "cell_type": "code",
   "execution_count": 21,
   "metadata": {},
   "outputs": [
    {
     "data": {
      "image/png": "[encoded data removed]",
      "text/plain": [
       "plot without title"
      ]
     },
     "metadata": {
      "image/png": {
       "height": 420,
       "width": 420
      },
      "text/plain": {
       "height": 420,
       "width": 420
      }
     },
     "output_type": "display_data"
    }
   ],
   "source": [
    "dtree <- rpart(class ~ ., data = train, method = \"class\")\n",
    "\n",
    "rpart.plot(dtree, extra = 101)"
   ]
  },
  {
   "cell_type": "code",
   "execution_count": 22,
   "metadata": {},
   "outputs": [
    {
     "data": {
      "text/plain": [
       "Confusion Matrix and Statistics\n",
       "\n",
       "          Reference\n",
       "Prediction    0    1\n",
       "         0  613  505\n",
       "         1  881 1433\n",
       "                                          \n",
       "               Accuracy : 0.5962          \n",
       "                 95% CI : (0.5795, 0.6126)\n",
       "    No Information Rate : 0.5647          \n",
       "    P-Value [Acc > NIR] : 0.0001029       \n",
       "                                          \n",
       "                  Kappa : 0.1542          \n",
       "                                          \n",
       " Mcnemar's Test P-Value : < 2.2e-16       \n",
       "                                          \n",
       "              Precision : 0.5483          \n",
       "                 Recall : 0.4103          \n",
       "                     F1 : 0.4694          \n",
       "             Prevalence : 0.4353          \n",
       "         Detection Rate : 0.1786          \n",
       "   Detection Prevalence : 0.3258          \n",
       "      Balanced Accuracy : 0.5749          \n",
       "                                          \n",
       "       'Positive' Class : 0               \n",
       "                                          "
      ]
     },
     "metadata": {},
     "output_type": "display_data"
    },
    {
     "name": "stdout",
     "output_type": "stream",
     "text": [
      "[1] \"AUC 0.583787260557577\"\n"
     ]
    }
   ],
   "source": [
    "pred_dtree <- predict(dtree, test, type = \"class\")\n",
    "\n",
    "confusionMatrix(pred_dtree, test$class, mode = \"prec_recall\")\n",
    "\n",
    "print(paste('AUC', auc(pred_dtree, test$class)))"
   ]
  },
  {
   "cell_type": "markdown",
   "metadata": {},
   "source": [
    "## Baseline Random Forest"
   ]
  },
  {
   "cell_type": "code",
   "execution_count": 24,
   "metadata": {},
   "outputs": [
    {
     "data": {
      "text/plain": [
       "\n",
       "Call:\n",
       " randomForest(formula = class ~ ., data = train, type = \"classification\") \n",
       "               Type of random forest: classification\n",
       "                     Number of trees: 500\n",
       "No. of variables tried at each split: 12\n",
       "\n",
       "        OOB estimate of  error rate: 37.06%\n",
       "Confusion matrix:\n",
       "     0    1 class.error\n",
       "0 1572 1914   0.5490534\n",
       "1 1053 3468   0.2329131"
      ]
     },
     "metadata": {},
     "output_type": "display_data"
    }
   ],
   "source": [
    "#Training using ‘random forest’ algorithm\n",
    "set.seed(123)\n",
    "forest <- randomForest(class ~ ., data = train, type = \"classification\")\n",
    "#summary(forest)\n",
    "forest"
   ]
  },
  {
   "cell_type": "code",
   "execution_count": 25,
   "metadata": {},
   "outputs": [
    {
     "data": {
      "text/plain": [
       "Confusion Matrix and Statistics\n",
       "\n",
       "          Reference\n",
       "Prediction    0    1\n",
       "         0  645  441\n",
       "         1  849 1497\n",
       "                                          \n",
       "               Accuracy : 0.6241          \n",
       "                 95% CI : (0.6077, 0.6404)\n",
       "    No Information Rate : 0.5647          \n",
       "    P-Value [Acc > NIR] : 8.886e-13       \n",
       "                                          \n",
       "                  Kappa : 0.2108          \n",
       "                                          \n",
       " Mcnemar's Test P-Value : < 2.2e-16       \n",
       "                                          \n",
       "              Precision : 0.5939          \n",
       "                 Recall : 0.4317          \n",
       "                     F1 : 0.5000          \n",
       "             Prevalence : 0.4353          \n",
       "         Detection Rate : 0.1879          \n",
       "   Detection Prevalence : 0.3164          \n",
       "      Balanced Accuracy : 0.6021          \n",
       "                                          \n",
       "       'Positive' Class : 0               \n",
       "                                          "
      ]
     },
     "metadata": {},
     "output_type": "display_data"
    },
    {
     "name": "stdout",
     "output_type": "stream",
     "text": [
      "[1] \"AUC 0.616015034406749\"\n"
     ]
    }
   ],
   "source": [
    "#Predicting on train set\n",
    "pred_rf <- predict(forest, newdata = test[-1]) \n",
    "\n",
    "confusionMatrix(pred_rf, test$class, mode = \"prec_recall\")\n",
    "\n",
    "print(paste('AUC', auc(pred_rf, test$class)))"
   ]
  },
  {
   "cell_type": "code",
   "execution_count": 26,
   "metadata": {},
   "outputs": [],
   "source": [
    "baserf_results <- list(confusionMatrix(pred_rf, test$class, mode = \"prec_recall\"), paste('AUC', auc(pred_rf, test$class)))"
   ]
  },
  {
   "cell_type": "markdown",
   "metadata": {},
   "source": [
    "## Model Improvement\n",
    "Now you can work on improving on the baseline. There's no linear approach to this process and the steps you take will depend on the data. Below are some steps that are commonly used in building robust models. You can use any, all, or only some of them, and you are encouraged to add your own steps for your specific data set.\n",
    "\n",
    "As you go through this process, keep in mind all that you learned during the data understanding phase and consider the following questions:\n",
    "- What sort of model should you train? (ie, classification, regression? Neural network?)\n",
    "    - I have chosen to train a classification model.\n",
    "- Given the distribution of your data, the presence or absence of missing data, and various other factors, is there a particular model (or ensemble) that you think will work well? (ie, RandomForest, ExtraTrees, SVM...?)\n",
    "    - The non-normal distribution of the means that I need to either center the data to normalize it or choose a model that doesn't assume normal distribution. I have chosen random forest, which does not assume normal distribution of the data. The presence of missing data is also a probably, which is why I will be scaling and imputing the data set in the next section below.\n",
    "- Depending on what sort of model you train and what your data look like, you may find different evaluation metrics useful. How can you certain that you have the most well-rounded view of how well your model is performing? What metric or metrics will best capture your model priorities (and what are your model priorities)?\n",
    "    - Since the dataset has a non-normal distribution, I am primarily concerned with F1 and the AUC scores."
   ]
  },
  {
   "cell_type": "markdown",
   "metadata": {},
   "source": [
    "### Scaling & Imputation\n",
    "Some models assume data have a normal distribution and performance will suffer when they do not. Most models will suffer if different variables have vastly differing scales. Do you need to scale your data? If so, how should you go about doing so?"
   ]
  },
  {
   "cell_type": "markdown",
   "metadata": {},
   "source": [
    " - The dataset has vastly differing scales, so I decided to scale the data and try two different imputation methods below. Although the median imputation had slightly higher scores for accuracy, F1, and AUC, I decided to use the knn imputed data since it has variability in the data set and does not just replace the missing values for each variable with all the same number. "
   ]
  },
  {
   "cell_type": "code",
   "execution_count": 73,
   "metadata": {},
   "outputs": [
    {
     "name": "stderr",
     "output_type": "stream",
     "text": [
      "Warning message in preProcess.default(missing[, -1], method = c(\"scale\", \"medianImpute\")):\n",
      "\"These variables have zero variances: operatingprofitmargin\"\n"
     ]
    },
    {
     "data": {
      "text/html": [
       "0"
      ],
      "text/latex": [
       "0"
      ],
      "text/markdown": [
       "0"
      ],
      "text/plain": [
       "[1] 0"
      ]
     },
     "metadata": {},
     "output_type": "display_data"
    },
    {
     "data": {
      "text/plain": [
       "\n",
       "       0        1 \n",
       "0.453676 0.546324 "
      ]
     },
     "metadata": {},
     "output_type": "display_data"
    },
    {
     "data": {
      "text/plain": [
       "\n",
       "        0         1 \n",
       "0.4536627 0.5463373 "
      ]
     },
     "metadata": {},
     "output_type": "display_data"
    },
    {
     "data": {
      "text/html": [
       "<style>\n",
       ".list-inline {list-style: none; margin:0; padding: 0}\n",
       ".list-inline>li {display: inline-block}\n",
       ".list-inline>li:not(:last-child)::after {content: \"\\00b7\"; padding: 0 .5ex}\n",
       "</style>\n",
       "<ol class=list-inline><li>5870</li><li>167</li></ol>\n"
      ],
      "text/latex": [
       "\\begin{enumerate*}\n",
       "\\item 5870\n",
       "\\item 167\n",
       "\\end{enumerate*}\n"
      ],
      "text/markdown": [
       "1. 5870\n",
       "2. 167\n",
       "\n",
       "\n"
      ],
      "text/plain": [
       "[1] 5870  167"
      ]
     },
     "metadata": {},
     "output_type": "display_data"
    },
    {
     "data": {
      "text/html": [
       "<style>\n",
       ".list-inline {list-style: none; margin:0; padding: 0}\n",
       ".list-inline>li {display: inline-block}\n",
       ".list-inline>li:not(:last-child)::after {content: \"\\00b7\"; padding: 0 .5ex}\n",
       "</style>\n",
       "<ol class=list-inline><li>13697</li><li>167</li></ol>\n"
      ],
      "text/latex": [
       "\\begin{enumerate*}\n",
       "\\item 13697\n",
       "\\item 167\n",
       "\\end{enumerate*}\n"
      ],
      "text/markdown": [
       "1. 13697\n",
       "2. 167\n",
       "\n",
       "\n"
      ],
      "text/plain": [
       "[1] 13697   167"
      ]
     },
     "metadata": {},
     "output_type": "display_data"
    },
    {
     "data": {
      "text/plain": [
       "\n",
       "       0        1 \n",
       "0.453676 0.546324 "
      ]
     },
     "metadata": {},
     "output_type": "display_data"
    },
    {
     "data": {
      "text/plain": [
       "\n",
       "        0         1 \n",
       "0.4536627 0.5463373 "
      ]
     },
     "metadata": {},
     "output_type": "display_data"
    }
   ],
   "source": [
    "#Scaling the Median Imputed Data Set#\n",
    "missing <- data[,-c(2)]\n",
    "missing$class <- as.factor(missing$class)\n",
    "missing <- missing[, -c(1, 4)]\n",
    "\n",
    "imputedm <- preProcess(missing[,-1], method = c(\"scale\", \"medianImpute\"))\n",
    "\n",
    "imputedm <- predict(imputedm, missing)\n",
    "sum(is.na(imputedm))\n",
    "\n",
    "#Splitting Imputed Data Set#\n",
    "imputedm$class <- as.factor(imputedm$class)\n",
    "imputedm$sector_num <- data$sector_num\n",
    "imputedm$year <- data$year\n",
    "imputedm$sector_num <- as.factor(imputedm$sector_num)\n",
    "\n",
    "#Splitting the dataset into two and checking proportions\n",
    "set.seed(123)\n",
    "split = sample.split(imputedm$class, SplitRatio = 0.70)\n",
    "train = subset(imputedm, split == TRUE)\n",
    "test = subset(imputedm, split == FALSE)\n",
    "\n",
    "#Removing year from the test and train sets\n",
    "train <- train[, -c(2)]\n",
    "test <- test[ -c(2)]\n",
    "\n",
    "prop.table(table(train$class))\n",
    "prop.table(table(test$class))\n",
    "\n",
    "dim(test)\n",
    "dim(train)\n",
    "\n",
    "prop.table(table(train$class))\n",
    "prop.table(table(test$class))"
   ]
  },
  {
   "cell_type": "code",
   "execution_count": 74,
   "metadata": {},
   "outputs": [
    {
     "data": {
      "text/plain": [
       "\n",
       "Call:\n",
       " randomForest(formula = class ~ ., data = train, type = \"classification\") \n",
       "               Type of random forest: classification\n",
       "                     Number of trees: 500\n",
       "No. of variables tried at each split: 12\n",
       "\n",
       "        OOB estimate of  error rate: 38.32%\n",
       "Confusion matrix:\n",
       "     0    1 class.error\n",
       "0 3053 3161   0.5086901\n",
       "1 2088 5395   0.2790325"
      ]
     },
     "metadata": {},
     "output_type": "display_data"
    },
    {
     "data": {
      "text/plain": [
       "Confusion Matrix and Statistics\n",
       "\n",
       "          Reference\n",
       "Prediction    0    1\n",
       "         0 1337  857\n",
       "         1 1326 2350\n",
       "                                          \n",
       "               Accuracy : 0.6281          \n",
       "                 95% CI : (0.6156, 0.6405)\n",
       "    No Information Rate : 0.5463          \n",
       "    P-Value [Acc > NIR] : < 2.2e-16       \n",
       "                                          \n",
       "                  Kappa : 0.2384          \n",
       "                                          \n",
       " Mcnemar's Test P-Value : < 2.2e-16       \n",
       "                                          \n",
       "              Precision : 0.6094          \n",
       "                 Recall : 0.5021          \n",
       "                     F1 : 0.5505          \n",
       "             Prevalence : 0.4537          \n",
       "         Detection Rate : 0.2278          \n",
       "   Detection Prevalence : 0.3738          \n",
       "      Balanced Accuracy : 0.6174          \n",
       "                                          \n",
       "       'Positive' Class : 0               \n",
       "                                          "
      ]
     },
     "metadata": {},
     "output_type": "display_data"
    },
    {
     "name": "stdout",
     "output_type": "stream",
     "text": [
      "[1] \"AUC 0.62433553573253\"\n"
     ]
    }
   ],
   "source": [
    "#Running random forest with mean imputation#\n",
    "set.seed(123)\n",
    "forestmedian <- randomForest(class ~ ., data = train, type = \"classification\")\n",
    "forestmedian\n",
    "\n",
    "#Predicting on train set\n",
    "pred_median <- predict(forestmedian, newdata = test[-1]) \n",
    "\n",
    "confusionMatrix(pred_median, test$class, mode = \"prec_recall\")\n",
    "\n",
    "print(paste('AUC', auc(pred_median, test$class)))"
   ]
  },
  {
   "cell_type": "code",
   "execution_count": null,
   "metadata": {
    "scrolled": true
   },
   "outputs": [],
   "source": [
    "#Scaling and Knn Imputing Data Set#\n",
    "#scaledKnn <- preProcess(missing[,-1], method = c(\"scale\", \"knnImpute\"))\n",
    "\n",
    "#scaledKnn <- predict(scaledKnn, missing)\n",
    "#sum(is.na(scaledKnn))\n",
    "#write_csv(scaledKnn, \"data/processed/knn_financial.csv\")  \n",
    "\n",
    "imputedknn <- read_csv(\"data/processed/knn_financial.csv\")"
   ]
  },
  {
   "cell_type": "code",
   "execution_count": 31,
   "metadata": {},
   "outputs": [
    {
     "data": {
      "text/plain": [
       "\n",
       "       0        1 \n",
       "0.453676 0.546324 "
      ]
     },
     "metadata": {},
     "output_type": "display_data"
    },
    {
     "data": {
      "text/plain": [
       "\n",
       "        0         1 \n",
       "0.4536627 0.5463373 "
      ]
     },
     "metadata": {},
     "output_type": "display_data"
    },
    {
     "data": {
      "text/html": [
       "<style>\n",
       ".list-inline {list-style: none; margin:0; padding: 0}\n",
       ".list-inline>li {display: inline-block}\n",
       ".list-inline>li:not(:last-child)::after {content: \"\\00b7\"; padding: 0 .5ex}\n",
       "</style>\n",
       "<ol class=list-inline><li>5870</li><li>167</li></ol>\n"
      ],
      "text/latex": [
       "\\begin{enumerate*}\n",
       "\\item 5870\n",
       "\\item 167\n",
       "\\end{enumerate*}\n"
      ],
      "text/markdown": [
       "1. 5870\n",
       "2. 167\n",
       "\n",
       "\n"
      ],
      "text/plain": [
       "[1] 5870  167"
      ]
     },
     "metadata": {},
     "output_type": "display_data"
    },
    {
     "data": {
      "text/html": [
       "<style>\n",
       ".list-inline {list-style: none; margin:0; padding: 0}\n",
       ".list-inline>li {display: inline-block}\n",
       ".list-inline>li:not(:last-child)::after {content: \"\\00b7\"; padding: 0 .5ex}\n",
       "</style>\n",
       "<ol class=list-inline><li>13697</li><li>167</li></ol>\n"
      ],
      "text/latex": [
       "\\begin{enumerate*}\n",
       "\\item 13697\n",
       "\\item 167\n",
       "\\end{enumerate*}\n"
      ],
      "text/markdown": [
       "1. 13697\n",
       "2. 167\n",
       "\n",
       "\n"
      ],
      "text/plain": [
       "[1] 13697   167"
      ]
     },
     "metadata": {},
     "output_type": "display_data"
    },
    {
     "data": {
      "text/plain": [
       "\n",
       "       0        1 \n",
       "0.453676 0.546324 "
      ]
     },
     "metadata": {},
     "output_type": "display_data"
    },
    {
     "data": {
      "text/plain": [
       "\n",
       "        0         1 \n",
       "0.4536627 0.5463373 "
      ]
     },
     "metadata": {},
     "output_type": "display_data"
    }
   ],
   "source": [
    "imputedknn$class <- as.factor(imputedknn$class)\n",
    "imputedknn$sector_num <- data$sector_num\n",
    "imputedknn$year <- data$year\n",
    "imputedknn$sector_num <- as.factor(imputedknn$sector_num)\n",
    "\n",
    "#Splitting the dataset into two and checking proportions\n",
    "set.seed(123)\n",
    "split = sample.split(imputedknn$class, SplitRatio = 0.70)\n",
    "train = subset(imputedknn, split == TRUE)\n",
    "test = subset(imputedknn, split == FALSE)\n",
    "\n",
    "#Removing year from the test and train sets\n",
    "train <- train[, -c(2)]\n",
    "test <- test[ -c(2)]\n",
    "\n",
    "prop.table(table(train$class))\n",
    "prop.table(table(test$class))\n",
    "\n",
    "dim(test)\n",
    "dim(train)\n",
    "\n",
    "prop.table(table(train$class))\n",
    "prop.table(table(test$class))"
   ]
  },
  {
   "cell_type": "code",
   "execution_count": 32,
   "metadata": {},
   "outputs": [
    {
     "data": {
      "text/plain": [
       "\n",
       "Call:\n",
       " randomForest(formula = class ~ ., data = train, type = \"classification\",      importance = TRUE) \n",
       "               Type of random forest: classification\n",
       "                     Number of trees: 500\n",
       "No. of variables tried at each split: 12\n",
       "\n",
       "        OOB estimate of  error rate: 38.37%\n",
       "Confusion matrix:\n",
       "     0    1 class.error\n",
       "0 3069 3145   0.5061152\n",
       "1 2111 5372   0.2821061"
      ]
     },
     "metadata": {},
     "output_type": "display_data"
    },
    {
     "data": {
      "text/plain": [
       "Confusion Matrix and Statistics\n",
       "\n",
       "          Reference\n",
       "Prediction    0    1\n",
       "         0 1308  867\n",
       "         1 1355 2340\n",
       "                                          \n",
       "               Accuracy : 0.6215          \n",
       "                 95% CI : (0.6089, 0.6339)\n",
       "    No Information Rate : 0.5463          \n",
       "    P-Value [Acc > NIR] : < 2.2e-16       \n",
       "                                          \n",
       "                  Kappa : 0.2243          \n",
       "                                          \n",
       " Mcnemar's Test P-Value : < 2.2e-16       \n",
       "                                          \n",
       "              Precision : 0.6014          \n",
       "                 Recall : 0.4912          \n",
       "                     F1 : 0.5407          \n",
       "             Prevalence : 0.4537          \n",
       "         Detection Rate : 0.2228          \n",
       "   Detection Prevalence : 0.3705          \n",
       "      Balanced Accuracy : 0.6104          \n",
       "                                          \n",
       "       'Positive' Class : 0               \n",
       "                                          "
      ]
     },
     "metadata": {},
     "output_type": "display_data"
    },
    {
     "name": "stdout",
     "output_type": "stream",
     "text": [
      "[1] \"AUC 0.617333768839532\"\n"
     ]
    }
   ],
   "source": [
    "#Running random forest model with knn imputation#\n",
    "set.seed(123)\n",
    "forestknn <- randomForest(class ~ ., data = train, type = \"classification\", importance = TRUE)\n",
    "forestknn\n",
    "\n",
    "#Predicting on train set\n",
    "pred_knn <- predict(forestknn, newdata = test[-1]) \n",
    "\n",
    "confusionMatrix(pred_knn, test$class, mode = \"prec_recall\")\n",
    "\n",
    "print(paste('AUC', auc(pred_knn, test$class)))"
   ]
  },
  {
   "cell_type": "markdown",
   "metadata": {},
   "source": [
    "### Feature Selection and Engineering\n",
    "Are all of your variables necessary, or do you have a lot of them taking up time and computing power without assing much to model building? Can some variables be combined to make a better model? Are variables linearly related to your target variable, or would it be worthwhile to include some polynomial features? "
   ]
  },
  {
   "cell_type": "markdown",
   "metadata": {},
   "source": [
    " - To determine whether all the variables are necessary, I looked at the importance of the variables from the random forest model. While the sector of the stock has the highest importance, none of the other variables really stand out. In addition, after using decision trees to look at each year and see how different they are, I feel that it is best to keep all the variables in the dataset. This is because the reduced dataset that took only those variables for each from the decision tree that had an importance greater than zero ended up performing worse than previous random forest models."
   ]
  },
  {
   "cell_type": "code",
   "execution_count": 33,
   "metadata": {
    "scrolled": true
   },
   "outputs": [
    {
     "data": {
      "text/html": [
       "<table>\n",
       "<caption>A matrix: 166 × 4 of type dbl</caption>\n",
       "<thead>\n",
       "\t<tr><th></th><th scope=col>0</th><th scope=col>1</th><th scope=col>MeanDecreaseAccuracy</th><th scope=col>MeanDecreaseGini</th></tr>\n",
       "</thead>\n",
       "<tbody>\n",
       "\t<tr><th scope=row>sector_num</th><td> 8.35578418</td><td>13.0892651</td><td>18.4314316</td><td>96.85144</td></tr>\n",
       "\t<tr><th scope=row>revenue</th><td> 4.02239378</td><td> 3.4729321</td><td> 8.7311113</td><td>31.63140</td></tr>\n",
       "\t<tr><th scope=row>revenue_growth</th><td>-6.23507601</td><td>13.0309978</td><td> 9.3912161</td><td>52.34991</td></tr>\n",
       "\t<tr><th scope=row>cost_of_revenue</th><td> 1.81788707</td><td> 5.1626082</td><td> 7.7987547</td><td>30.01083</td></tr>\n",
       "\t<tr><th scope=row>gross_profit</th><td> 4.42787842</td><td> 4.4224181</td><td> 9.4609431</td><td>39.98272</td></tr>\n",
       "\t<tr><th scope=row>r.d_expenses</th><td>-0.30887722</td><td> 5.6310270</td><td> 5.1283273</td><td>21.22249</td></tr>\n",
       "\t<tr><th scope=row>sg.a_expense</th><td> 2.93808993</td><td> 4.5771585</td><td> 7.5926655</td><td>40.32018</td></tr>\n",
       "\t<tr><th scope=row>operating_expenses</th><td> 2.86242117</td><td> 5.8601947</td><td> 9.4796133</td><td>38.29896</td></tr>\n",
       "\t<tr><th scope=row>operating_income</th><td> 3.39289240</td><td> 4.6429449</td><td> 8.8908719</td><td>36.97065</td></tr>\n",
       "\t<tr><th scope=row>interest_expense</th><td> 2.14192852</td><td> 4.4395058</td><td> 6.8656202</td><td>30.66869</td></tr>\n",
       "\t<tr><th scope=row>earnings_before_tax</th><td> 2.33470745</td><td> 6.3702251</td><td> 9.3195103</td><td>39.22611</td></tr>\n",
       "\t<tr><th scope=row>income_tax_expense</th><td> 3.37668747</td><td> 6.2368847</td><td> 9.4247537</td><td>45.21249</td></tr>\n",
       "\t<tr><th scope=row>net_income__noncontrolling_int</th><td> 4.16878178</td><td>-0.9545757</td><td> 3.5344571</td><td>23.97254</td></tr>\n",
       "\t<tr><th scope=row>net_income__discontinued_ops</th><td> 0.10828377</td><td> 0.2311385</td><td> 0.2563912</td><td>13.27044</td></tr>\n",
       "\t<tr><th scope=row>net_income</th><td> 4.38798527</td><td> 5.5570001</td><td> 9.5063971</td><td>39.71262</td></tr>\n",
       "\t<tr><th scope=row>preferred_dividends</th><td> 0.01288687</td><td>-0.5740033</td><td>-0.4732329</td><td>10.40620</td></tr>\n",
       "\t<tr><th scope=row>net_income_com</th><td> 3.59368243</td><td> 5.8720081</td><td> 9.5750553</td><td>39.23523</td></tr>\n",
       "\t<tr><th scope=row>eps</th><td> 6.39189232</td><td> 6.7373977</td><td>13.6240796</td><td>53.16642</td></tr>\n",
       "\t<tr><th scope=row>eps_diluted</th><td> 4.37305579</td><td> 7.3973002</td><td>12.1019723</td><td>58.20491</td></tr>\n",
       "\t<tr><th scope=row>weighted_average_shs_out</th><td> 8.80547159</td><td> 7.4219365</td><td>15.0369972</td><td>49.13236</td></tr>\n",
       "\t<tr><th scope=row>weighted_average_shs_out_dil</th><td> 6.80057610</td><td> 5.6213756</td><td>11.3438139</td><td>45.65648</td></tr>\n",
       "\t<tr><th scope=row>dividend_per_share</th><td>-1.63325711</td><td> 6.3562879</td><td> 6.5796747</td><td>24.72412</td></tr>\n",
       "\t<tr><th scope=row>gross_margin</th><td>-4.47924684</td><td> 9.2492884</td><td> 7.3543151</td><td>35.26795</td></tr>\n",
       "\t<tr><th scope=row>ebitda_margin</th><td>-1.92950164</td><td>10.0031584</td><td>10.0885935</td><td>45.76993</td></tr>\n",
       "\t<tr><th scope=row>ebit_margin</th><td>-1.54865707</td><td> 8.4155822</td><td> 9.5317112</td><td>40.91213</td></tr>\n",
       "\t<tr><th scope=row>profit_margin</th><td>-1.06445303</td><td>11.9603373</td><td>14.0371743</td><td>53.43749</td></tr>\n",
       "\t<tr><th scope=row>free_cash_flow_margin</th><td>-0.40767014</td><td> 8.2887958</td><td> 9.8383378</td><td>42.48010</td></tr>\n",
       "\t<tr><th scope=row>ebitda</th><td> 0.62322899</td><td> 6.9532951</td><td> 8.7842755</td><td>36.11008</td></tr>\n",
       "\t<tr><th scope=row>ebit</th><td> 2.70628447</td><td> 5.4098574</td><td>10.1440791</td><td>34.40972</td></tr>\n",
       "\t<tr><th scope=row>consolidated_income</th><td> 3.64097981</td><td> 5.6580333</td><td> 9.3687207</td><td>43.09469</td></tr>\n",
       "\t<tr><th scope=row>...</th><td>...</td><td>...</td><td>...</td><td>...</td></tr>\n",
       "\t<tr><th scope=row>dividends_per_share_growth</th><td>-1.6258281</td><td> 8.209175</td><td> 7.996979</td><td>29.77327</td></tr>\n",
       "\t<tr><th scope=row>operating_cash_flow_growth</th><td>-0.8400306</td><td>10.364947</td><td> 9.490235</td><td>55.55860</td></tr>\n",
       "\t<tr><th scope=row>free_cash_flow_growth</th><td>-0.4985745</td><td> 9.134556</td><td> 7.771985</td><td>53.05590</td></tr>\n",
       "\t<tr><th scope=row>three_yr_revenue_growth_per_share</th><td>-3.7381743</td><td> 8.549276</td><td> 4.937444</td><td>51.28082</td></tr>\n",
       "\t<tr><th scope=row>three_yr_operating_cf_growth_per_share</th><td> 3.7320142</td><td> 5.864449</td><td> 8.282866</td><td>43.95634</td></tr>\n",
       "\t<tr><th scope=row>three_yr_net_income_growth_per_share</th><td> 0.9543744</td><td> 5.319274</td><td> 5.819722</td><td>38.97764</td></tr>\n",
       "\t<tr><th scope=row>three_yr_shareholders_equity_growth_per_share</th><td> 1.0060760</td><td> 6.191416</td><td> 6.108763</td><td>50.67045</td></tr>\n",
       "\t<tr><th scope=row>three_yr_dividend_per_share_growth_per_share</th><td> 2.0542290</td><td> 1.515132</td><td> 2.788594</td><td>28.00288</td></tr>\n",
       "\t<tr><th scope=row>receivables_growth</th><td>-2.9186820</td><td>10.699582</td><td> 7.534171</td><td>51.22912</td></tr>\n",
       "\t<tr><th scope=row>inventory_growth</th><td> 1.4195507</td><td> 5.259737</td><td> 5.916755</td><td>43.69590</td></tr>\n",
       "\t<tr><th scope=row>asset_growth</th><td>-3.4427722</td><td> 9.816542</td><td> 7.506572</td><td>52.69575</td></tr>\n",
       "\t<tr><th scope=row>book_value_per_share_growth</th><td> 2.0085042</td><td> 7.606209</td><td> 7.571169</td><td>59.67910</td></tr>\n",
       "\t<tr><th scope=row>debt_growth</th><td>-2.3882265</td><td> 7.964026</td><td> 4.847123</td><td>43.63507</td></tr>\n",
       "\t<tr><th scope=row>r.d_expense_growth</th><td>-6.7122890</td><td> 7.909833</td><td> 2.768545</td><td>27.32646</td></tr>\n",
       "\t<tr><th scope=row>sg.a_expenses_growth</th><td>-4.3320968</td><td>13.843355</td><td> 9.180218</td><td>54.34718</td></tr>\n",
       "\t<tr><th scope=row>payout_ratio</th><td>-4.8949417</td><td> 8.563718</td><td> 8.064299</td><td>29.26434</td></tr>\n",
       "\t<tr><th scope=row>interest_coverage</th><td>-1.4834107</td><td> 3.380549</td><td> 2.313757</td><td>40.05139</td></tr>\n",
       "\t<tr><th scope=row>net_profit_margin</th><td>-2.9430884</td><td>11.619171</td><td>12.636769</td><td>49.11550</td></tr>\n",
       "\t<tr><th scope=row>dividend_yield</th><td>-5.0137104</td><td> 9.293198</td><td> 9.317194</td><td>28.20805</td></tr>\n",
       "\t<tr><th scope=row>pe_ratio</th><td> 2.1367746</td><td> 8.409524</td><td>11.068860</td><td>41.57075</td></tr>\n",
       "\t<tr><th scope=row>pfcf_ratio</th><td>-1.7221051</td><td> 8.881354</td><td> 9.322184</td><td>33.60173</td></tr>\n",
       "\t<tr><th scope=row>pocf_ratio</th><td> 1.4885716</td><td> 9.251342</td><td>12.492091</td><td>55.09513</td></tr>\n",
       "\t<tr><th scope=row>price_to_sales_ratio</th><td>-2.8469405</td><td>10.493275</td><td> 9.720516</td><td>43.50438</td></tr>\n",
       "\t<tr><th scope=row>days_payables_outstanding</th><td>-1.2762751</td><td>10.562693</td><td> 8.580631</td><td>44.06401</td></tr>\n",
       "\t<tr><th scope=row>free_cash_flow_per_share</th><td>-2.5023158</td><td>10.146593</td><td>10.261560</td><td>49.65043</td></tr>\n",
       "\t<tr><th scope=row>roe</th><td> 2.9872702</td><td> 6.247414</td><td> 9.291570</td><td>46.20140</td></tr>\n",
       "\t<tr><th scope=row>ptb_ratio</th><td> 1.1423757</td><td>12.271736</td><td>12.726787</td><td>49.53494</td></tr>\n",
       "\t<tr><th scope=row>pb_ratio</th><td>-1.5659818</td><td>14.241272</td><td>13.070596</td><td>51.66149</td></tr>\n",
       "\t<tr><th scope=row>operating_cash_flow_per_share</th><td> 5.7934973</td><td> 5.282759</td><td>11.232135</td><td>50.40752</td></tr>\n",
       "\t<tr><th scope=row>cash_per_share</th><td>-1.8769549</td><td> 9.051194</td><td> 6.337221</td><td>49.00337</td></tr>\n",
       "</tbody>\n",
       "</table>\n"
      ],
      "text/latex": [
       "A matrix: 166 × 4 of type dbl\n",
       "\\begin{tabular}{r|llll}\n",
       "  & 0 & 1 & MeanDecreaseAccuracy & MeanDecreaseGini\\\\\n",
       "\\hline\n",
       "\tsector\\_num &  8.35578418 & 13.0892651 & 18.4314316 & 96.85144\\\\\n",
       "\trevenue &  4.02239378 &  3.4729321 &  8.7311113 & 31.63140\\\\\n",
       "\trevenue\\_growth & -6.23507601 & 13.0309978 &  9.3912161 & 52.34991\\\\\n",
       "\tcost\\_of\\_revenue &  1.81788707 &  5.1626082 &  7.7987547 & 30.01083\\\\\n",
       "\tgross\\_profit &  4.42787842 &  4.4224181 &  9.4609431 & 39.98272\\\\\n",
       "\tr.d\\_expenses & -0.30887722 &  5.6310270 &  5.1283273 & 21.22249\\\\\n",
       "\tsg.a\\_expense &  2.93808993 &  4.5771585 &  7.5926655 & 40.32018\\\\\n",
       "\toperating\\_expenses &  2.86242117 &  5.8601947 &  9.4796133 & 38.29896\\\\\n",
       "\toperating\\_income &  3.39289240 &  4.6429449 &  8.8908719 & 36.97065\\\\\n",
       "\tinterest\\_expense &  2.14192852 &  4.4395058 &  6.8656202 & 30.66869\\\\\n",
       "\tearnings\\_before\\_tax &  2.33470745 &  6.3702251 &  9.3195103 & 39.22611\\\\\n",
       "\tincome\\_tax\\_expense &  3.37668747 &  6.2368847 &  9.4247537 & 45.21249\\\\\n",
       "\tnet\\_income\\_\\_noncontrolling\\_int &  4.16878178 & -0.9545757 &  3.5344571 & 23.97254\\\\\n",
       "\tnet\\_income\\_\\_discontinued\\_ops &  0.10828377 &  0.2311385 &  0.2563912 & 13.27044\\\\\n",
       "\tnet\\_income &  4.38798527 &  5.5570001 &  9.5063971 & 39.71262\\\\\n",
       "\tpreferred\\_dividends &  0.01288687 & -0.5740033 & -0.4732329 & 10.40620\\\\\n",
       "\tnet\\_income\\_com &  3.59368243 &  5.8720081 &  9.5750553 & 39.23523\\\\\n",
       "\teps &  6.39189232 &  6.7373977 & 13.6240796 & 53.16642\\\\\n",
       "\teps\\_diluted &  4.37305579 &  7.3973002 & 12.1019723 & 58.20491\\\\\n",
       "\tweighted\\_average\\_shs\\_out &  8.80547159 &  7.4219365 & 15.0369972 & 49.13236\\\\\n",
       "\tweighted\\_average\\_shs\\_out\\_dil &  6.80057610 &  5.6213756 & 11.3438139 & 45.65648\\\\\n",
       "\tdividend\\_per\\_share & -1.63325711 &  6.3562879 &  6.5796747 & 24.72412\\\\\n",
       "\tgross\\_margin & -4.47924684 &  9.2492884 &  7.3543151 & 35.26795\\\\\n",
       "\tebitda\\_margin & -1.92950164 & 10.0031584 & 10.0885935 & 45.76993\\\\\n",
       "\tebit\\_margin & -1.54865707 &  8.4155822 &  9.5317112 & 40.91213\\\\\n",
       "\tprofit\\_margin & -1.06445303 & 11.9603373 & 14.0371743 & 53.43749\\\\\n",
       "\tfree\\_cash\\_flow\\_margin & -0.40767014 &  8.2887958 &  9.8383378 & 42.48010\\\\\n",
       "\tebitda &  0.62322899 &  6.9532951 &  8.7842755 & 36.11008\\\\\n",
       "\tebit &  2.70628447 &  5.4098574 & 10.1440791 & 34.40972\\\\\n",
       "\tconsolidated\\_income &  3.64097981 &  5.6580333 &  9.3687207 & 43.09469\\\\\n",
       "\t... & ... & ... & ... & ...\\\\\n",
       "\tdividends\\_per\\_share\\_growth & -1.6258281 &  8.209175 &  7.996979 & 29.77327\\\\\n",
       "\toperating\\_cash\\_flow\\_growth & -0.8400306 & 10.364947 &  9.490235 & 55.55860\\\\\n",
       "\tfree\\_cash\\_flow\\_growth & -0.4985745 &  9.134556 &  7.771985 & 53.05590\\\\\n",
       "\tthree\\_yr\\_revenue\\_growth\\_per\\_share & -3.7381743 &  8.549276 &  4.937444 & 51.28082\\\\\n",
       "\tthree\\_yr\\_operating\\_cf\\_growth\\_per\\_share &  3.7320142 &  5.864449 &  8.282866 & 43.95634\\\\\n",
       "\tthree\\_yr\\_net\\_income\\_growth\\_per\\_share &  0.9543744 &  5.319274 &  5.819722 & 38.97764\\\\\n",
       "\tthree\\_yr\\_shareholders\\_equity\\_growth\\_per\\_share &  1.0060760 &  6.191416 &  6.108763 & 50.67045\\\\\n",
       "\tthree\\_yr\\_dividend\\_per\\_share\\_growth\\_per\\_share &  2.0542290 &  1.515132 &  2.788594 & 28.00288\\\\\n",
       "\treceivables\\_growth & -2.9186820 & 10.699582 &  7.534171 & 51.22912\\\\\n",
       "\tinventory\\_growth &  1.4195507 &  5.259737 &  5.916755 & 43.69590\\\\\n",
       "\tasset\\_growth & -3.4427722 &  9.816542 &  7.506572 & 52.69575\\\\\n",
       "\tbook\\_value\\_per\\_share\\_growth &  2.0085042 &  7.606209 &  7.571169 & 59.67910\\\\\n",
       "\tdebt\\_growth & -2.3882265 &  7.964026 &  4.847123 & 43.63507\\\\\n",
       "\tr.d\\_expense\\_growth & -6.7122890 &  7.909833 &  2.768545 & 27.32646\\\\\n",
       "\tsg.a\\_expenses\\_growth & -4.3320968 & 13.843355 &  9.180218 & 54.34718\\\\\n",
       "\tpayout\\_ratio & -4.8949417 &  8.563718 &  8.064299 & 29.26434\\\\\n",
       "\tinterest\\_coverage & -1.4834107 &  3.380549 &  2.313757 & 40.05139\\\\\n",
       "\tnet\\_profit\\_margin & -2.9430884 & 11.619171 & 12.636769 & 49.11550\\\\\n",
       "\tdividend\\_yield & -5.0137104 &  9.293198 &  9.317194 & 28.20805\\\\\n",
       "\tpe\\_ratio &  2.1367746 &  8.409524 & 11.068860 & 41.57075\\\\\n",
       "\tpfcf\\_ratio & -1.7221051 &  8.881354 &  9.322184 & 33.60173\\\\\n",
       "\tpocf\\_ratio &  1.4885716 &  9.251342 & 12.492091 & 55.09513\\\\\n",
       "\tprice\\_to\\_sales\\_ratio & -2.8469405 & 10.493275 &  9.720516 & 43.50438\\\\\n",
       "\tdays\\_payables\\_outstanding & -1.2762751 & 10.562693 &  8.580631 & 44.06401\\\\\n",
       "\tfree\\_cash\\_flow\\_per\\_share & -2.5023158 & 10.146593 & 10.261560 & 49.65043\\\\\n",
       "\troe &  2.9872702 &  6.247414 &  9.291570 & 46.20140\\\\\n",
       "\tptb\\_ratio &  1.1423757 & 12.271736 & 12.726787 & 49.53494\\\\\n",
       "\tpb\\_ratio & -1.5659818 & 14.241272 & 13.070596 & 51.66149\\\\\n",
       "\toperating\\_cash\\_flow\\_per\\_share &  5.7934973 &  5.282759 & 11.232135 & 50.40752\\\\\n",
       "\tcash\\_per\\_share & -1.8769549 &  9.051194 &  6.337221 & 49.00337\\\\\n",
       "\\end{tabular}\n"
      ],
      "text/markdown": [
       "\n",
       "A matrix: 166 × 4 of type dbl\n",
       "\n",
       "| <!--/--> | 0 | 1 | MeanDecreaseAccuracy | MeanDecreaseGini |\n",
       "|---|---|---|---|---|\n",
       "| sector_num |  8.35578418 | 13.0892651 | 18.4314316 | 96.85144 |\n",
       "| revenue |  4.02239378 |  3.4729321 |  8.7311113 | 31.63140 |\n",
       "| revenue_growth | -6.23507601 | 13.0309978 |  9.3912161 | 52.34991 |\n",
       "| cost_of_revenue |  1.81788707 |  5.1626082 |  7.7987547 | 30.01083 |\n",
       "| gross_profit |  4.42787842 |  4.4224181 |  9.4609431 | 39.98272 |\n",
       "| r.d_expenses | -0.30887722 |  5.6310270 |  5.1283273 | 21.22249 |\n",
       "| sg.a_expense |  2.93808993 |  4.5771585 |  7.5926655 | 40.32018 |\n",
       "| operating_expenses |  2.86242117 |  5.8601947 |  9.4796133 | 38.29896 |\n",
       "| operating_income |  3.39289240 |  4.6429449 |  8.8908719 | 36.97065 |\n",
       "| interest_expense |  2.14192852 |  4.4395058 |  6.8656202 | 30.66869 |\n",
       "| earnings_before_tax |  2.33470745 |  6.3702251 |  9.3195103 | 39.22611 |\n",
       "| income_tax_expense |  3.37668747 |  6.2368847 |  9.4247537 | 45.21249 |\n",
       "| net_income__noncontrolling_int |  4.16878178 | -0.9545757 |  3.5344571 | 23.97254 |\n",
       "| net_income__discontinued_ops |  0.10828377 |  0.2311385 |  0.2563912 | 13.27044 |\n",
       "| net_income |  4.38798527 |  5.5570001 |  9.5063971 | 39.71262 |\n",
       "| preferred_dividends |  0.01288687 | -0.5740033 | -0.4732329 | 10.40620 |\n",
       "| net_income_com |  3.59368243 |  5.8720081 |  9.5750553 | 39.23523 |\n",
       "| eps |  6.39189232 |  6.7373977 | 13.6240796 | 53.16642 |\n",
       "| eps_diluted |  4.37305579 |  7.3973002 | 12.1019723 | 58.20491 |\n",
       "| weighted_average_shs_out |  8.80547159 |  7.4219365 | 15.0369972 | 49.13236 |\n",
       "| weighted_average_shs_out_dil |  6.80057610 |  5.6213756 | 11.3438139 | 45.65648 |\n",
       "| dividend_per_share | -1.63325711 |  6.3562879 |  6.5796747 | 24.72412 |\n",
       "| gross_margin | -4.47924684 |  9.2492884 |  7.3543151 | 35.26795 |\n",
       "| ebitda_margin | -1.92950164 | 10.0031584 | 10.0885935 | 45.76993 |\n",
       "| ebit_margin | -1.54865707 |  8.4155822 |  9.5317112 | 40.91213 |\n",
       "| profit_margin | -1.06445303 | 11.9603373 | 14.0371743 | 53.43749 |\n",
       "| free_cash_flow_margin | -0.40767014 |  8.2887958 |  9.8383378 | 42.48010 |\n",
       "| ebitda |  0.62322899 |  6.9532951 |  8.7842755 | 36.11008 |\n",
       "| ebit |  2.70628447 |  5.4098574 | 10.1440791 | 34.40972 |\n",
       "| consolidated_income |  3.64097981 |  5.6580333 |  9.3687207 | 43.09469 |\n",
       "| ... | ... | ... | ... | ... |\n",
       "| dividends_per_share_growth | -1.6258281 |  8.209175 |  7.996979 | 29.77327 |\n",
       "| operating_cash_flow_growth | -0.8400306 | 10.364947 |  9.490235 | 55.55860 |\n",
       "| free_cash_flow_growth | -0.4985745 |  9.134556 |  7.771985 | 53.05590 |\n",
       "| three_yr_revenue_growth_per_share | -3.7381743 |  8.549276 |  4.937444 | 51.28082 |\n",
       "| three_yr_operating_cf_growth_per_share |  3.7320142 |  5.864449 |  8.282866 | 43.95634 |\n",
       "| three_yr_net_income_growth_per_share |  0.9543744 |  5.319274 |  5.819722 | 38.97764 |\n",
       "| three_yr_shareholders_equity_growth_per_share |  1.0060760 |  6.191416 |  6.108763 | 50.67045 |\n",
       "| three_yr_dividend_per_share_growth_per_share |  2.0542290 |  1.515132 |  2.788594 | 28.00288 |\n",
       "| receivables_growth | -2.9186820 | 10.699582 |  7.534171 | 51.22912 |\n",
       "| inventory_growth |  1.4195507 |  5.259737 |  5.916755 | 43.69590 |\n",
       "| asset_growth | -3.4427722 |  9.816542 |  7.506572 | 52.69575 |\n",
       "| book_value_per_share_growth |  2.0085042 |  7.606209 |  7.571169 | 59.67910 |\n",
       "| debt_growth | -2.3882265 |  7.964026 |  4.847123 | 43.63507 |\n",
       "| r.d_expense_growth | -6.7122890 |  7.909833 |  2.768545 | 27.32646 |\n",
       "| sg.a_expenses_growth | -4.3320968 | 13.843355 |  9.180218 | 54.34718 |\n",
       "| payout_ratio | -4.8949417 |  8.563718 |  8.064299 | 29.26434 |\n",
       "| interest_coverage | -1.4834107 |  3.380549 |  2.313757 | 40.05139 |\n",
       "| net_profit_margin | -2.9430884 | 11.619171 | 12.636769 | 49.11550 |\n",
       "| dividend_yield | -5.0137104 |  9.293198 |  9.317194 | 28.20805 |\n",
       "| pe_ratio |  2.1367746 |  8.409524 | 11.068860 | 41.57075 |\n",
       "| pfcf_ratio | -1.7221051 |  8.881354 |  9.322184 | 33.60173 |\n",
       "| pocf_ratio |  1.4885716 |  9.251342 | 12.492091 | 55.09513 |\n",
       "| price_to_sales_ratio | -2.8469405 | 10.493275 |  9.720516 | 43.50438 |\n",
       "| days_payables_outstanding | -1.2762751 | 10.562693 |  8.580631 | 44.06401 |\n",
       "| free_cash_flow_per_share | -2.5023158 | 10.146593 | 10.261560 | 49.65043 |\n",
       "| roe |  2.9872702 |  6.247414 |  9.291570 | 46.20140 |\n",
       "| ptb_ratio |  1.1423757 | 12.271736 | 12.726787 | 49.53494 |\n",
       "| pb_ratio | -1.5659818 | 14.241272 | 13.070596 | 51.66149 |\n",
       "| operating_cash_flow_per_share |  5.7934973 |  5.282759 | 11.232135 | 50.40752 |\n",
       "| cash_per_share | -1.8769549 |  9.051194 |  6.337221 | 49.00337 |\n",
       "\n"
      ],
      "text/plain": [
       "                                              0           1         \n",
       "sector_num                                     8.35578418 13.0892651\n",
       "revenue                                        4.02239378  3.4729321\n",
       "revenue_growth                                -6.23507601 13.0309978\n",
       "cost_of_revenue                                1.81788707  5.1626082\n",
       "gross_profit                                   4.42787842  4.4224181\n",
       "r.d_expenses                                  -0.30887722  5.6310270\n",
       "sg.a_expense                                   2.93808993  4.5771585\n",
       "operating_expenses                             2.86242117  5.8601947\n",
       "operating_income                               3.39289240  4.6429449\n",
       "interest_expense                               2.14192852  4.4395058\n",
       "earnings_before_tax                            2.33470745  6.3702251\n",
       "income_tax_expense                             3.37668747  6.2368847\n",
       "net_income__noncontrolling_int                 4.16878178 -0.9545757\n",
       "net_income__discontinued_ops                   0.10828377  0.2311385\n",
       "net_income                                     4.38798527  5.5570001\n",
       "preferred_dividends                            0.01288687 -0.5740033\n",
       "net_income_com                                 3.59368243  5.8720081\n",
       "eps                                            6.39189232  6.7373977\n",
       "eps_diluted                                    4.37305579  7.3973002\n",
       "weighted_average_shs_out                       8.80547159  7.4219365\n",
       "weighted_average_shs_out_dil                   6.80057610  5.6213756\n",
       "dividend_per_share                            -1.63325711  6.3562879\n",
       "gross_margin                                  -4.47924684  9.2492884\n",
       "ebitda_margin                                 -1.92950164 10.0031584\n",
       "ebit_margin                                   -1.54865707  8.4155822\n",
       "profit_margin                                 -1.06445303 11.9603373\n",
       "free_cash_flow_margin                         -0.40767014  8.2887958\n",
       "ebitda                                         0.62322899  6.9532951\n",
       "ebit                                           2.70628447  5.4098574\n",
       "consolidated_income                            3.64097981  5.6580333\n",
       "...                                           ...         ...       \n",
       "dividends_per_share_growth                    -1.6258281   8.209175 \n",
       "operating_cash_flow_growth                    -0.8400306  10.364947 \n",
       "free_cash_flow_growth                         -0.4985745   9.134556 \n",
       "three_yr_revenue_growth_per_share             -3.7381743   8.549276 \n",
       "three_yr_operating_cf_growth_per_share         3.7320142   5.864449 \n",
       "three_yr_net_income_growth_per_share           0.9543744   5.319274 \n",
       "three_yr_shareholders_equity_growth_per_share  1.0060760   6.191416 \n",
       "three_yr_dividend_per_share_growth_per_share   2.0542290   1.515132 \n",
       "receivables_growth                            -2.9186820  10.699582 \n",
       "inventory_growth                               1.4195507   5.259737 \n",
       "asset_growth                                  -3.4427722   9.816542 \n",
       "book_value_per_share_growth                    2.0085042   7.606209 \n",
       "debt_growth                                   -2.3882265   7.964026 \n",
       "r.d_expense_growth                            -6.7122890   7.909833 \n",
       "sg.a_expenses_growth                          -4.3320968  13.843355 \n",
       "payout_ratio                                  -4.8949417   8.563718 \n",
       "interest_coverage                             -1.4834107   3.380549 \n",
       "net_profit_margin                             -2.9430884  11.619171 \n",
       "dividend_yield                                -5.0137104   9.293198 \n",
       "pe_ratio                                       2.1367746   8.409524 \n",
       "pfcf_ratio                                    -1.7221051   8.881354 \n",
       "pocf_ratio                                     1.4885716   9.251342 \n",
       "price_to_sales_ratio                          -2.8469405  10.493275 \n",
       "days_payables_outstanding                     -1.2762751  10.562693 \n",
       "free_cash_flow_per_share                      -2.5023158  10.146593 \n",
       "roe                                            2.9872702   6.247414 \n",
       "ptb_ratio                                      1.1423757  12.271736 \n",
       "pb_ratio                                      -1.5659818  14.241272 \n",
       "operating_cash_flow_per_share                  5.7934973   5.282759 \n",
       "cash_per_share                                -1.8769549   9.051194 \n",
       "                                              MeanDecreaseAccuracy\n",
       "sector_num                                    18.4314316          \n",
       "revenue                                        8.7311113          \n",
       "revenue_growth                                 9.3912161          \n",
       "cost_of_revenue                                7.7987547          \n",
       "gross_profit                                   9.4609431          \n",
       "r.d_expenses                                   5.1283273          \n",
       "sg.a_expense                                   7.5926655          \n",
       "operating_expenses                             9.4796133          \n",
       "operating_income                               8.8908719          \n",
       "interest_expense                               6.8656202          \n",
       "earnings_before_tax                            9.3195103          \n",
       "income_tax_expense                             9.4247537          \n",
       "net_income__noncontrolling_int                 3.5344571          \n",
       "net_income__discontinued_ops                   0.2563912          \n",
       "net_income                                     9.5063971          \n",
       "preferred_dividends                           -0.4732329          \n",
       "net_income_com                                 9.5750553          \n",
       "eps                                           13.6240796          \n",
       "eps_diluted                                   12.1019723          \n",
       "weighted_average_shs_out                      15.0369972          \n",
       "weighted_average_shs_out_dil                  11.3438139          \n",
       "dividend_per_share                             6.5796747          \n",
       "gross_margin                                   7.3543151          \n",
       "ebitda_margin                                 10.0885935          \n",
       "ebit_margin                                    9.5317112          \n",
       "profit_margin                                 14.0371743          \n",
       "free_cash_flow_margin                          9.8383378          \n",
       "ebitda                                         8.7842755          \n",
       "ebit                                          10.1440791          \n",
       "consolidated_income                            9.3687207          \n",
       "...                                           ...                 \n",
       "dividends_per_share_growth                     7.996979           \n",
       "operating_cash_flow_growth                     9.490235           \n",
       "free_cash_flow_growth                          7.771985           \n",
       "three_yr_revenue_growth_per_share              4.937444           \n",
       "three_yr_operating_cf_growth_per_share         8.282866           \n",
       "three_yr_net_income_growth_per_share           5.819722           \n",
       "three_yr_shareholders_equity_growth_per_share  6.108763           \n",
       "three_yr_dividend_per_share_growth_per_share   2.788594           \n",
       "receivables_growth                             7.534171           \n",
       "inventory_growth                               5.916755           \n",
       "asset_growth                                   7.506572           \n",
       "book_value_per_share_growth                    7.571169           \n",
       "debt_growth                                    4.847123           \n",
       "r.d_expense_growth                             2.768545           \n",
       "sg.a_expenses_growth                           9.180218           \n",
       "payout_ratio                                   8.064299           \n",
       "interest_coverage                              2.313757           \n",
       "net_profit_margin                             12.636769           \n",
       "dividend_yield                                 9.317194           \n",
       "pe_ratio                                      11.068860           \n",
       "pfcf_ratio                                     9.322184           \n",
       "pocf_ratio                                    12.492091           \n",
       "price_to_sales_ratio                           9.720516           \n",
       "days_payables_outstanding                      8.580631           \n",
       "free_cash_flow_per_share                      10.261560           \n",
       "roe                                            9.291570           \n",
       "ptb_ratio                                     12.726787           \n",
       "pb_ratio                                      13.070596           \n",
       "operating_cash_flow_per_share                 11.232135           \n",
       "cash_per_share                                 6.337221           \n",
       "                                              MeanDecreaseGini\n",
       "sector_num                                    96.85144        \n",
       "revenue                                       31.63140        \n",
       "revenue_growth                                52.34991        \n",
       "cost_of_revenue                               30.01083        \n",
       "gross_profit                                  39.98272        \n",
       "r.d_expenses                                  21.22249        \n",
       "sg.a_expense                                  40.32018        \n",
       "operating_expenses                            38.29896        \n",
       "operating_income                              36.97065        \n",
       "interest_expense                              30.66869        \n",
       "earnings_before_tax                           39.22611        \n",
       "income_tax_expense                            45.21249        \n",
       "net_income__noncontrolling_int                23.97254        \n",
       "net_income__discontinued_ops                  13.27044        \n",
       "net_income                                    39.71262        \n",
       "preferred_dividends                           10.40620        \n",
       "net_income_com                                39.23523        \n",
       "eps                                           53.16642        \n",
       "eps_diluted                                   58.20491        \n",
       "weighted_average_shs_out                      49.13236        \n",
       "weighted_average_shs_out_dil                  45.65648        \n",
       "dividend_per_share                            24.72412        \n",
       "gross_margin                                  35.26795        \n",
       "ebitda_margin                                 45.76993        \n",
       "ebit_margin                                   40.91213        \n",
       "profit_margin                                 53.43749        \n",
       "free_cash_flow_margin                         42.48010        \n",
       "ebitda                                        36.11008        \n",
       "ebit                                          34.40972        \n",
       "consolidated_income                           43.09469        \n",
       "...                                           ...             \n",
       "dividends_per_share_growth                    29.77327        \n",
       "operating_cash_flow_growth                    55.55860        \n",
       "free_cash_flow_growth                         53.05590        \n",
       "three_yr_revenue_growth_per_share             51.28082        \n",
       "three_yr_operating_cf_growth_per_share        43.95634        \n",
       "three_yr_net_income_growth_per_share          38.97764        \n",
       "three_yr_shareholders_equity_growth_per_share 50.67045        \n",
       "three_yr_dividend_per_share_growth_per_share  28.00288        \n",
       "receivables_growth                            51.22912        \n",
       "inventory_growth                              43.69590        \n",
       "asset_growth                                  52.69575        \n",
       "book_value_per_share_growth                   59.67910        \n",
       "debt_growth                                   43.63507        \n",
       "r.d_expense_growth                            27.32646        \n",
       "sg.a_expenses_growth                          54.34718        \n",
       "payout_ratio                                  29.26434        \n",
       "interest_coverage                             40.05139        \n",
       "net_profit_margin                             49.11550        \n",
       "dividend_yield                                28.20805        \n",
       "pe_ratio                                      41.57075        \n",
       "pfcf_ratio                                    33.60173        \n",
       "pocf_ratio                                    55.09513        \n",
       "price_to_sales_ratio                          43.50438        \n",
       "days_payables_outstanding                     44.06401        \n",
       "free_cash_flow_per_share                      49.65043        \n",
       "roe                                           46.20140        \n",
       "ptb_ratio                                     49.53494        \n",
       "pb_ratio                                      51.66149        \n",
       "operating_cash_flow_per_share                 50.40752        \n",
       "cash_per_share                                49.00337        "
      ]
     },
     "metadata": {},
     "output_type": "display_data"
    }
   ],
   "source": [
    "##Checking importance of variables from the knn imputed random forest##\n",
    "importance(forestknn)"
   ]
  },
  {
   "cell_type": "code",
   "execution_count": 34,
   "metadata": {},
   "outputs": [
    {
     "data": {
      "image/png": "[encoded data removed]",
      "text/plain": [
       "plot without title"
      ]
     },
     "metadata": {
      "image/png": {
       "height": 420,
       "width": 420
      },
      "text/plain": {
       "height": 420,
       "width": 420
      }
     },
     "output_type": "display_data"
    }
   ],
   "source": [
    "varImpPlot(forestknn, n.var = 15, main = \"Random Forest Importance Plot\")"
   ]
  },
  {
   "cell_type": "code",
   "execution_count": 35,
   "metadata": {},
   "outputs": [
    {
     "data": {
      "image/png": "[encoded data removed]",
      "text/plain": [
       "Plot with title \"2014 Decision Tree\""
      ]
     },
     "metadata": {
      "image/png": {
       "height": 420,
       "width": 420
      },
      "text/plain": {
       "height": 420,
       "width": 420
      }
     },
     "output_type": "display_data"
    },
    {
     "data": {
      "image/png": "[encoded data removed]",
      "text/plain": [
       "Plot with title \"2015 Decision Tree\""
      ]
     },
     "metadata": {
      "image/png": {
       "height": 420,
       "width": 420
      },
      "text/plain": {
       "height": 420,
       "width": 420
      }
     },
     "output_type": "display_data"
    },
    {
     "data": {
      "image/png": "[encoded data removed]",
      "text/plain": [
       "Plot with title \"2016 Decision Tree\""
      ]
     },
     "metadata": {
      "image/png": {
       "height": 420,
       "width": 420
      },
      "text/plain": {
       "height": 420,
       "width": 420
      }
     },
     "output_type": "display_data"
    },
    {
     "data": {
      "image/png": "[encoded data removed]",
      "text/plain": [
       "Plot with title \"2017 Decision Tree\""
      ]
     },
     "metadata": {
      "image/png": {
       "height": 420,
       "width": 420
      },
      "text/plain": {
       "height": 420,
       "width": 420
      }
     },
     "output_type": "display_data"
    },
    {
     "data": {
      "image/png": "[encoded data removed]",
      "text/plain": [
       "Plot with title \"2018 Decision Tree\""
      ]
     },
     "metadata": {
      "image/png": {
       "height": 420,
       "width": 420
      },
      "text/plain": {
       "height": 420,
       "width": 420
      }
     },
     "output_type": "display_data"
    }
   ],
   "source": [
    "#Checking variable importance per year using decision trees to see if there are any trends across years#\n",
    "dtree2014 <- imputedknn %>%\n",
    "  filter(year == 2014) %>%\n",
    "  rpart(class ~ ., data = ., method = \"class\", control = rpart.control(cp = 0, maxdepth = 3))\n",
    "\n",
    "rpart.plot(dtree2014, extra = 101, roundint = FALSE, main = \"2014 Decision Tree\")\n",
    "importance14 <- varImp(dtree2014)\n",
    "\n",
    "dtree2015 <- imputedknn %>%\n",
    "  filter(year == 2015) %>%\n",
    "  rpart(class ~ ., data = ., method = \"class\", control = rpart.control(cp = 0, maxdepth = 3))\n",
    "\n",
    "rpart.plot(dtree2015, extra = 101, roundint = FALSE, main = \"2015 Decision Tree\")\n",
    "importance15 <- varImp(dtree2015)\n",
    "\n",
    "dtree2016 <- imputedknn %>%\n",
    "  filter(year == 2016) %>%\n",
    "  rpart(class ~ ., data = ., method = \"class\", control = rpart.control(cp = 0, maxdepth = 3))\n",
    "\n",
    "rpart.plot(dtree2016, extra = 101, roundint = FALSE, main = \"2016 Decision Tree\")\n",
    "importance16 <- varImp(dtree2016)\n",
    "\n",
    "dtree2017 <- imputedknn %>%\n",
    "  filter(year == 2017) %>%\n",
    "  rpart(class ~ ., data = ., method = \"class\", control = rpart.control(cp = 0, maxdepth = 3))\n",
    "\n",
    "rpart.plot(dtree2017, extra = 101, roundint = FALSE, main = \"2017 Decision Tree\")\n",
    "importance17 <- varImp(dtree2017)\n",
    "\n",
    "dtree2018 <- imputedknn %>%\n",
    "  filter(year == 2018) %>%\n",
    "  rpart(class ~ ., data = ., method = \"class\", control = rpart.control(cp = 0, maxdepth = 3))\n",
    "\n",
    "rpart.plot(dtree2018, extra = 101, roundint = FALSE, main = \"2018 Decision Tree\")\n",
    "importance18 <- varImp(dtree2018)"
   ]
  },
  {
   "cell_type": "code",
   "execution_count": 36,
   "metadata": {},
   "outputs": [
    {
     "data": {
      "text/html": [
       "<table>\n",
       "<caption>A data.frame: 25 × 5</caption>\n",
       "<thead>\n",
       "\t<tr><th></th><th scope=col>Overall</th><th scope=col>Overall</th><th scope=col>Overall</th><th scope=col>Overall</th><th scope=col>Overall</th></tr>\n",
       "\t<tr><th></th><th scope=col>&lt;dbl&gt;</th><th scope=col>&lt;dbl&gt;</th><th scope=col>&lt;dbl&gt;</th><th scope=col>&lt;dbl&gt;</th><th scope=col>&lt;dbl&gt;</th></tr>\n",
       "</thead>\n",
       "<tbody>\n",
       "\t<tr><th scope=row>average_payables</th><td> 59.888749</td><td> 29.311167</td><td>  9.999953</td><td> 7.847900</td><td>156.289866</td></tr>\n",
       "\t<tr><th scope=row>capitalexpenditurecoverageratios</th><td> 95.617278</td><td>185.838798</td><td> 84.330531</td><td> 6.798223</td><td>  7.489439</td></tr>\n",
       "\t<tr><th scope=row>cash_and_cash_equivalents</th><td> 28.570560</td><td> 59.863519</td><td>  9.215163</td><td>35.824054</td><td>175.192553</td></tr>\n",
       "\t<tr><th scope=row>deferred_revenue</th><td> 27.557224</td><td> 61.945620</td><td> 19.071301</td><td>11.645177</td><td>177.039615</td></tr>\n",
       "\t<tr><th scope=row>deposit_liabilities</th><td> 84.417196</td><td> 62.999187</td><td>106.688841</td><td>10.814440</td><td>  7.559618</td></tr>\n",
       "\t<tr><th scope=row>dividendpaidandcapexcoverageratios</th><td> 25.165774</td><td>195.047635</td><td>107.716151</td><td>22.990999</td><td>  9.958752</td></tr>\n",
       "\t<tr><th scope=row>enterprise_value_over_ebitda</th><td>  5.511548</td><td>172.159820</td><td> 11.095385</td><td>18.295572</td><td> 11.410471</td></tr>\n",
       "\t<tr><th scope=row>eps</th><td> 20.373149</td><td>  7.711784</td><td>  7.800922</td><td>29.462839</td><td>  7.335403</td></tr>\n",
       "\t<tr><th scope=row>eps_diluted</th><td> 21.253589</td><td>  7.684462</td><td> 82.558495</td><td> 7.278859</td><td>166.401834</td></tr>\n",
       "\t<tr><th scope=row>ev_to_free_cash_flow</th><td>  6.400091</td><td> 30.230390</td><td> 83.603798</td><td>42.855422</td><td>178.540723</td></tr>\n",
       "\t<tr><th scope=row>ev_to_operating_cash_flow</th><td>  5.861936</td><td>  8.612107</td><td> 20.606392</td><td> 6.640587</td><td> 21.754351</td></tr>\n",
       "\t<tr><th scope=row>free_cash_flow_margin</th><td> 22.961356</td><td> 44.659151</td><td>  7.377404</td><td>18.756581</td><td> 19.440324</td></tr>\n",
       "\t<tr><th scope=row>free_cash_flow_per_share</th><td>  4.854016</td><td> 29.460180</td><td>  8.328648</td><td>26.803373</td><td>  0.000000</td></tr>\n",
       "\t<tr><th scope=row>gross_profit</th><td> 24.282793</td><td> 19.354448</td><td> 11.200239</td><td>76.250884</td><td>  0.000000</td></tr>\n",
       "\t<tr><th scope=row>invested_capital</th><td> 23.200126</td><td> 27.992803</td><td> 11.981044</td><td>11.263117</td><td>  0.000000</td></tr>\n",
       "\t<tr><th scope=row>net_income_per_share</th><td> 20.156522</td><td>190.204569</td><td> 22.589859</td><td> 6.968224</td><td>  0.000000</td></tr>\n",
       "\t<tr><th scope=row>operating_expenses</th><td> 23.754085</td><td> 52.945945</td><td> 21.402952</td><td> 0.000000</td><td>  0.000000</td></tr>\n",
       "\t<tr><th scope=row>payables</th><td> 62.341265</td><td> 30.951717</td><td>  0.000000</td><td> 0.000000</td><td>  0.000000</td></tr>\n",
       "\t<tr><th scope=row>pe_ratio</th><td> 18.663318</td><td>  7.262324</td><td>  0.000000</td><td> 0.000000</td><td>  0.000000</td></tr>\n",
       "\t<tr><th scope=row>pocf_ratio</th><td>  4.866277</td><td>  8.315910</td><td>  0.000000</td><td> 0.000000</td><td>  0.000000</td></tr>\n",
       "\t<tr><th scope=row>revenue</th><td> 24.819970</td><td> 29.784641</td><td>  0.000000</td><td> 0.000000</td><td>  0.000000</td></tr>\n",
       "\t<tr><th scope=row>sector_num</th><td>112.177361</td><td>177.354781</td><td>  0.000000</td><td> 0.000000</td><td>  0.000000</td></tr>\n",
       "\t<tr><th scope=row>three_yr_operating_cf_growth_per_share</th><td> 21.547760</td><td>  0.000000</td><td>  0.000000</td><td> 0.000000</td><td>  0.000000</td></tr>\n",
       "\t<tr><th scope=row>year</th><td>  0.000000</td><td>  0.000000</td><td>  0.000000</td><td> 0.000000</td><td>  0.000000</td></tr>\n",
       "\t<tr><th scope=row>revenue_growth</th><td>  0.000000</td><td>  0.000000</td><td>  0.000000</td><td> 0.000000</td><td>  0.000000</td></tr>\n",
       "</tbody>\n",
       "</table>\n"
      ],
      "text/latex": [
       "A data.frame: 25 × 5\n",
       "\\begin{tabular}{r|lllll}\n",
       "  & Overall & Overall & Overall & Overall & Overall\\\\\n",
       "  & <dbl> & <dbl> & <dbl> & <dbl> & <dbl>\\\\\n",
       "\\hline\n",
       "\taverage\\_payables &  59.888749 &  29.311167 &   9.999953 &  7.847900 & 156.289866\\\\\n",
       "\tcapitalexpenditurecoverageratios &  95.617278 & 185.838798 &  84.330531 &  6.798223 &   7.489439\\\\\n",
       "\tcash\\_and\\_cash\\_equivalents &  28.570560 &  59.863519 &   9.215163 & 35.824054 & 175.192553\\\\\n",
       "\tdeferred\\_revenue &  27.557224 &  61.945620 &  19.071301 & 11.645177 & 177.039615\\\\\n",
       "\tdeposit\\_liabilities &  84.417196 &  62.999187 & 106.688841 & 10.814440 &   7.559618\\\\\n",
       "\tdividendpaidandcapexcoverageratios &  25.165774 & 195.047635 & 107.716151 & 22.990999 &   9.958752\\\\\n",
       "\tenterprise\\_value\\_over\\_ebitda &   5.511548 & 172.159820 &  11.095385 & 18.295572 &  11.410471\\\\\n",
       "\teps &  20.373149 &   7.711784 &   7.800922 & 29.462839 &   7.335403\\\\\n",
       "\teps\\_diluted &  21.253589 &   7.684462 &  82.558495 &  7.278859 & 166.401834\\\\\n",
       "\tev\\_to\\_free\\_cash\\_flow &   6.400091 &  30.230390 &  83.603798 & 42.855422 & 178.540723\\\\\n",
       "\tev\\_to\\_operating\\_cash\\_flow &   5.861936 &   8.612107 &  20.606392 &  6.640587 &  21.754351\\\\\n",
       "\tfree\\_cash\\_flow\\_margin &  22.961356 &  44.659151 &   7.377404 & 18.756581 &  19.440324\\\\\n",
       "\tfree\\_cash\\_flow\\_per\\_share &   4.854016 &  29.460180 &   8.328648 & 26.803373 &   0.000000\\\\\n",
       "\tgross\\_profit &  24.282793 &  19.354448 &  11.200239 & 76.250884 &   0.000000\\\\\n",
       "\tinvested\\_capital &  23.200126 &  27.992803 &  11.981044 & 11.263117 &   0.000000\\\\\n",
       "\tnet\\_income\\_per\\_share &  20.156522 & 190.204569 &  22.589859 &  6.968224 &   0.000000\\\\\n",
       "\toperating\\_expenses &  23.754085 &  52.945945 &  21.402952 &  0.000000 &   0.000000\\\\\n",
       "\tpayables &  62.341265 &  30.951717 &   0.000000 &  0.000000 &   0.000000\\\\\n",
       "\tpe\\_ratio &  18.663318 &   7.262324 &   0.000000 &  0.000000 &   0.000000\\\\\n",
       "\tpocf\\_ratio &   4.866277 &   8.315910 &   0.000000 &  0.000000 &   0.000000\\\\\n",
       "\trevenue &  24.819970 &  29.784641 &   0.000000 &  0.000000 &   0.000000\\\\\n",
       "\tsector\\_num & 112.177361 & 177.354781 &   0.000000 &  0.000000 &   0.000000\\\\\n",
       "\tthree\\_yr\\_operating\\_cf\\_growth\\_per\\_share &  21.547760 &   0.000000 &   0.000000 &  0.000000 &   0.000000\\\\\n",
       "\tyear &   0.000000 &   0.000000 &   0.000000 &  0.000000 &   0.000000\\\\\n",
       "\trevenue\\_growth &   0.000000 &   0.000000 &   0.000000 &  0.000000 &   0.000000\\\\\n",
       "\\end{tabular}\n"
      ],
      "text/markdown": [
       "\n",
       "A data.frame: 25 × 5\n",
       "\n",
       "| <!--/--> | Overall &lt;dbl&gt; | Overall &lt;dbl&gt; | Overall &lt;dbl&gt; | Overall &lt;dbl&gt; | Overall &lt;dbl&gt; |\n",
       "|---|---|---|---|---|---|\n",
       "| average_payables |  59.888749 |  29.311167 |   9.999953 |  7.847900 | 156.289866 |\n",
       "| capitalexpenditurecoverageratios |  95.617278 | 185.838798 |  84.330531 |  6.798223 |   7.489439 |\n",
       "| cash_and_cash_equivalents |  28.570560 |  59.863519 |   9.215163 | 35.824054 | 175.192553 |\n",
       "| deferred_revenue |  27.557224 |  61.945620 |  19.071301 | 11.645177 | 177.039615 |\n",
       "| deposit_liabilities |  84.417196 |  62.999187 | 106.688841 | 10.814440 |   7.559618 |\n",
       "| dividendpaidandcapexcoverageratios |  25.165774 | 195.047635 | 107.716151 | 22.990999 |   9.958752 |\n",
       "| enterprise_value_over_ebitda |   5.511548 | 172.159820 |  11.095385 | 18.295572 |  11.410471 |\n",
       "| eps |  20.373149 |   7.711784 |   7.800922 | 29.462839 |   7.335403 |\n",
       "| eps_diluted |  21.253589 |   7.684462 |  82.558495 |  7.278859 | 166.401834 |\n",
       "| ev_to_free_cash_flow |   6.400091 |  30.230390 |  83.603798 | 42.855422 | 178.540723 |\n",
       "| ev_to_operating_cash_flow |   5.861936 |   8.612107 |  20.606392 |  6.640587 |  21.754351 |\n",
       "| free_cash_flow_margin |  22.961356 |  44.659151 |   7.377404 | 18.756581 |  19.440324 |\n",
       "| free_cash_flow_per_share |   4.854016 |  29.460180 |   8.328648 | 26.803373 |   0.000000 |\n",
       "| gross_profit |  24.282793 |  19.354448 |  11.200239 | 76.250884 |   0.000000 |\n",
       "| invested_capital |  23.200126 |  27.992803 |  11.981044 | 11.263117 |   0.000000 |\n",
       "| net_income_per_share |  20.156522 | 190.204569 |  22.589859 |  6.968224 |   0.000000 |\n",
       "| operating_expenses |  23.754085 |  52.945945 |  21.402952 |  0.000000 |   0.000000 |\n",
       "| payables |  62.341265 |  30.951717 |   0.000000 |  0.000000 |   0.000000 |\n",
       "| pe_ratio |  18.663318 |   7.262324 |   0.000000 |  0.000000 |   0.000000 |\n",
       "| pocf_ratio |   4.866277 |   8.315910 |   0.000000 |  0.000000 |   0.000000 |\n",
       "| revenue |  24.819970 |  29.784641 |   0.000000 |  0.000000 |   0.000000 |\n",
       "| sector_num | 112.177361 | 177.354781 |   0.000000 |  0.000000 |   0.000000 |\n",
       "| three_yr_operating_cf_growth_per_share |  21.547760 |   0.000000 |   0.000000 |  0.000000 |   0.000000 |\n",
       "| year |   0.000000 |   0.000000 |   0.000000 |  0.000000 |   0.000000 |\n",
       "| revenue_growth |   0.000000 |   0.000000 |   0.000000 |  0.000000 |   0.000000 |\n",
       "\n"
      ],
      "text/plain": [
       "                                       Overall    Overall    Overall   \n",
       "average_payables                        59.888749  29.311167   9.999953\n",
       "capitalexpenditurecoverageratios        95.617278 185.838798  84.330531\n",
       "cash_and_cash_equivalents               28.570560  59.863519   9.215163\n",
       "deferred_revenue                        27.557224  61.945620  19.071301\n",
       "deposit_liabilities                     84.417196  62.999187 106.688841\n",
       "dividendpaidandcapexcoverageratios      25.165774 195.047635 107.716151\n",
       "enterprise_value_over_ebitda             5.511548 172.159820  11.095385\n",
       "eps                                     20.373149   7.711784   7.800922\n",
       "eps_diluted                             21.253589   7.684462  82.558495\n",
       "ev_to_free_cash_flow                     6.400091  30.230390  83.603798\n",
       "ev_to_operating_cash_flow                5.861936   8.612107  20.606392\n",
       "free_cash_flow_margin                   22.961356  44.659151   7.377404\n",
       "free_cash_flow_per_share                 4.854016  29.460180   8.328648\n",
       "gross_profit                            24.282793  19.354448  11.200239\n",
       "invested_capital                        23.200126  27.992803  11.981044\n",
       "net_income_per_share                    20.156522 190.204569  22.589859\n",
       "operating_expenses                      23.754085  52.945945  21.402952\n",
       "payables                                62.341265  30.951717   0.000000\n",
       "pe_ratio                                18.663318   7.262324   0.000000\n",
       "pocf_ratio                               4.866277   8.315910   0.000000\n",
       "revenue                                 24.819970  29.784641   0.000000\n",
       "sector_num                             112.177361 177.354781   0.000000\n",
       "three_yr_operating_cf_growth_per_share  21.547760   0.000000   0.000000\n",
       "year                                     0.000000   0.000000   0.000000\n",
       "revenue_growth                           0.000000   0.000000   0.000000\n",
       "                                       Overall   Overall   \n",
       "average_payables                        7.847900 156.289866\n",
       "capitalexpenditurecoverageratios        6.798223   7.489439\n",
       "cash_and_cash_equivalents              35.824054 175.192553\n",
       "deferred_revenue                       11.645177 177.039615\n",
       "deposit_liabilities                    10.814440   7.559618\n",
       "dividendpaidandcapexcoverageratios     22.990999   9.958752\n",
       "enterprise_value_over_ebitda           18.295572  11.410471\n",
       "eps                                    29.462839   7.335403\n",
       "eps_diluted                             7.278859 166.401834\n",
       "ev_to_free_cash_flow                   42.855422 178.540723\n",
       "ev_to_operating_cash_flow               6.640587  21.754351\n",
       "free_cash_flow_margin                  18.756581  19.440324\n",
       "free_cash_flow_per_share               26.803373   0.000000\n",
       "gross_profit                           76.250884   0.000000\n",
       "invested_capital                       11.263117   0.000000\n",
       "net_income_per_share                    6.968224   0.000000\n",
       "operating_expenses                      0.000000   0.000000\n",
       "payables                                0.000000   0.000000\n",
       "pe_ratio                                0.000000   0.000000\n",
       "pocf_ratio                              0.000000   0.000000\n",
       "revenue                                 0.000000   0.000000\n",
       "sector_num                              0.000000   0.000000\n",
       "three_yr_operating_cf_growth_per_share  0.000000   0.000000\n",
       "year                                    0.000000   0.000000\n",
       "revenue_growth                          0.000000   0.000000"
      ]
     },
     "metadata": {},
     "output_type": "display_data"
    }
   ],
   "source": [
    "importancematrix <- cbind(importance14, importance15, importance16, importance17, importance18)\n",
    "head(importancematrix, n=25)"
   ]
  },
  {
   "cell_type": "code",
   "execution_count": 37,
   "metadata": {},
   "outputs": [
    {
     "data": {
      "text/html": [
       "TRUE"
      ],
      "text/latex": [
       "TRUE"
      ],
      "text/markdown": [
       "TRUE"
      ],
      "text/plain": [
       "[1] TRUE"
      ]
     },
     "metadata": {},
     "output_type": "display_data"
    },
    {
     "data": {
      "text/html": [
       "TRUE"
      ],
      "text/latex": [
       "TRUE"
      ],
      "text/markdown": [
       "TRUE"
      ],
      "text/plain": [
       "[1] TRUE"
      ]
     },
     "metadata": {},
     "output_type": "display_data"
    }
   ],
   "source": [
    "##Reducing the variables to only those that show an importance of greater than 0\n",
    "importance14$names <- row.names(importance14)\n",
    "importance14 <- importance14[which(importance14$Overall > 0), ]\n",
    "\n",
    "importance15$names <- row.names(importance15)\n",
    "importance15 <- importance15[which(importance15$Overall > 0), ]\n",
    "\n",
    "importance16$names <- row.names(importance16)\n",
    "importance16 <- importance16[which(importance16$Overall > 0), ]\n",
    "\n",
    "importance17$names <- row.names(importance17)\n",
    "importance17 <- importance17[which(importance17$Overall > 0), ]\n",
    "\n",
    "importance18$names <- row.names(importance18)\n",
    "importance18 <- importance18[which(importance18$Overall > 0), ]\n",
    "\n",
    "#Combining each year's important variables, removing duplicated, and using their names to create a reduced dataset\n",
    "names <- rbind(importance14, importance15, importance16, importance17, importance18)\n",
    "names <- distinct(names, names, .keep_all= TRUE)\n",
    "variables <- as.vector(names$names)\n",
    "\n",
    "reduced_train <- train[,c(\"class\",variables)] \n",
    "reduced_test <- test[,c(\"class\",variables)] \n",
    "\n",
    "is.data.frame(reduced_train)\n",
    "is.data.frame(reduced_test)"
   ]
  },
  {
   "cell_type": "code",
   "execution_count": 38,
   "metadata": {},
   "outputs": [
    {
     "data": {
      "text/plain": [
       "\n",
       "Call:\n",
       " randomForest(formula = class ~ ., data = reduced_train, type = \"classification\",      importance = TRUE) \n",
       "               Type of random forest: classification\n",
       "                     Number of trees: 500\n",
       "No. of variables tried at each split: 7\n",
       "\n",
       "        OOB estimate of  error rate: 39.82%\n",
       "Confusion matrix:\n",
       "     0    1 class.error\n",
       "0 3004 3210   0.5165755\n",
       "1 2244 5239   0.2998797"
      ]
     },
     "metadata": {},
     "output_type": "display_data"
    },
    {
     "data": {
      "text/plain": [
       "Confusion Matrix and Statistics\n",
       "\n",
       "          Reference\n",
       "Prediction    0    1\n",
       "         0 1256  914\n",
       "         1 1407 2293\n",
       "                                         \n",
       "               Accuracy : 0.6046         \n",
       "                 95% CI : (0.592, 0.6171)\n",
       "    No Information Rate : 0.5463         \n",
       "    P-Value [Acc > NIR] : < 2.2e-16      \n",
       "                                         \n",
       "                  Kappa : 0.1896         \n",
       "                                         \n",
       " Mcnemar's Test P-Value : < 2.2e-16      \n",
       "                                         \n",
       "              Precision : 0.5788         \n",
       "                 Recall : 0.4716         \n",
       "                     F1 : 0.5198         \n",
       "             Prevalence : 0.4537         \n",
       "         Detection Rate : 0.2140         \n",
       "   Detection Prevalence : 0.3697         \n",
       "      Balanced Accuracy : 0.5933         \n",
       "                                         \n",
       "       'Positive' Class : 0              \n",
       "                                         "
      ]
     },
     "metadata": {},
     "output_type": "display_data"
    },
    {
     "name": "stdout",
     "output_type": "stream",
     "text": [
      "[1] \"AUC 0.599265786523851\"\n"
     ]
    }
   ],
   "source": [
    "#Running random forest model with reduced data set#\n",
    "set.seed(123)\n",
    "reducedforest <- randomForest(class ~ ., data = reduced_train, type = \"classification\", importance = TRUE)\n",
    "reducedforest\n",
    "#Predicting on train set\n",
    "pred_red <- predict(reducedforest, newdata = reduced_test[-1]) \n",
    "\n",
    "confusionMatrix(pred_red, reduced_test$class, mode = \"prec_recall\")\n",
    "\n",
    "print(paste('AUC', auc(pred_red, reduced_test$class)))"
   ]
  },
  {
   "cell_type": "markdown",
   "metadata": {},
   "source": [
    "### Hyperparameter Tuning\n",
    "Once you have a model that is performing decently well, you'll want to adjust the hyperparameters to improve performance."
   ]
  },
  {
   "cell_type": "markdown",
   "metadata": {},
   "source": [
    " - Here I decided to try to tune the random forest model by finding the best mtry value for the model. After it was found, I added it into the model and re-ran the random forest which improved my scores slightly."
   ]
  },
  {
   "cell_type": "code",
   "execution_count": 39,
   "metadata": {},
   "outputs": [
    {
     "name": "stdout",
     "output_type": "stream",
     "text": [
      "mtry = 12  OOB error = 38.21% \n",
      "Searching left ...\n",
      "mtry = 8 \tOOB error = 38.78% \n",
      "-0.0150965 0.01 \n",
      "Searching right ...\n",
      "mtry = 18 \tOOB error = 37.64% \n",
      "0.01490541 0.01 \n",
      "mtry = 27 \tOOB error = 37.99% \n",
      "-0.009311348 0.01 \n",
      "       mtry  OOBError\n",
      "8.OOB     8 0.3878222\n",
      "12.OOB   12 0.3820545\n",
      "18.OOB   18 0.3763598\n",
      "27.OOB   27 0.3798642\n"
     ]
    },
    {
     "data": {
      "image/png": "[encoded data removed]",
      "text/plain": [
       "plot without title"
      ]
     },
     "metadata": {
      "image/png": {
       "height": 420,
       "width": 420
      },
      "text/plain": {
       "height": 420,
       "width": 420
      }
     },
     "output_type": "display_data"
    }
   ],
   "source": [
    "##Random Forest Tuning##\n",
    "#Finding best mtry#\n",
    "set.seed(123)\n",
    "bestmtry <- tuneRF(train[-1],train$class, ntreeTry=500,\n",
    "                           stepFactor=1.5,improve=0.01, trace=TRUE, plot=TRUE)\n",
    "print(bestmtry)"
   ]
  },
  {
   "cell_type": "code",
   "execution_count": 40,
   "metadata": {},
   "outputs": [
    {
     "name": "stdout",
     "output_type": "stream",
     "text": [
      "[1] 18\n"
     ]
    }
   ],
   "source": [
    "set.seed(123)\n",
    "best.m <-bestmtry[bestmtry[, 2] == min(bestmtry[, 2]), 1]\n",
    "print(best.m)"
   ]
  },
  {
   "cell_type": "code",
   "execution_count": 41,
   "metadata": {},
   "outputs": [
    {
     "data": {
      "text/plain": [
       "\n",
       "Call:\n",
       " randomForest(formula = class ~ ., data = train, ntree = 500,      mtry = best.m) \n",
       "               Type of random forest: classification\n",
       "                     Number of trees: 500\n",
       "No. of variables tried at each split: 18\n",
       "\n",
       "        OOB estimate of  error rate: 38.04%\n",
       "Confusion matrix:\n",
       "     0    1 class.error\n",
       "0 3104 3110   0.5004828\n",
       "1 2101 5382   0.2807697"
      ]
     },
     "metadata": {},
     "output_type": "display_data"
    }
   ],
   "source": [
    "set.seed(123)\n",
    "forest2 <- randomForest(class ~ ., data = train, ntree=500, mtry = best.m)\n",
    "forest2"
   ]
  },
  {
   "cell_type": "code",
   "execution_count": 42,
   "metadata": {},
   "outputs": [
    {
     "data": {
      "text/plain": [
       "Confusion Matrix and Statistics\n",
       "\n",
       "          Reference\n",
       "Prediction    0    1\n",
       "         0 1336  848\n",
       "         1 1327 2359\n",
       "                                         \n",
       "               Accuracy : 0.6295         \n",
       "                 95% CI : (0.617, 0.6418)\n",
       "    No Information Rate : 0.5463         \n",
       "    P-Value [Acc > NIR] : < 2.2e-16      \n",
       "                                         \n",
       "                  Kappa : 0.2409         \n",
       "                                         \n",
       " Mcnemar's Test P-Value : < 2.2e-16      \n",
       "                                         \n",
       "              Precision : 0.6117         \n",
       "                 Recall : 0.5017         \n",
       "                     F1 : 0.5513         \n",
       "             Prevalence : 0.4537         \n",
       "         Detection Rate : 0.2276         \n",
       "   Detection Prevalence : 0.3721         \n",
       "      Balanced Accuracy : 0.6186         \n",
       "                                         \n",
       "       'Positive' Class : 0              \n",
       "                                         "
      ]
     },
     "metadata": {},
     "output_type": "display_data"
    },
    {
     "name": "stdout",
     "output_type": "stream",
     "text": [
      "[1] \"AUC 0.625855379924832\"\n"
     ]
    }
   ],
   "source": [
    "pred1 <- predict(forest2, newdata = test[-1]) \n",
    "confusionMatrix(pred1, test$class, mode = \"prec_recall\")\n",
    "print(paste('AUC', auc(pred1, test$class)))"
   ]
  },
  {
   "cell_type": "markdown",
   "metadata": {},
   "source": [
    "### Additional Tuning, Processing, or Model-Improvement\n",
    "What else can you do to improve your model from the baseline?"
   ]
  },
  {
   "cell_type": "markdown",
   "metadata": {},
   "source": [
    " - Since the mtry value did not increase my scores that much, I decided to look at different ntree values to see if I could find a better match for the model. The ntree value of 500 from the previous random forest ended up returning better scores, so I decided to stick with it. Finally, I used a repeated cross validation model with the ntree value of 500 to finalize the model. This provided the highest scores yet."
   ]
  },
  {
   "cell_type": "code",
   "execution_count": 49,
   "metadata": {},
   "outputs": [],
   "source": [
    "control <- trainControl(method=\"repeatedcv\", repeats = 2, number=2, search=\"random\")"
   ]
  },
  {
   "cell_type": "code",
   "execution_count": 50,
   "metadata": {},
   "outputs": [],
   "source": [
    "#Checking for the best ntree value#\n",
    "modellist <- list()\n",
    "for (ntree in c(1000, 1500, 2000, 2500)) {\n",
    "    set.seed(123)\n",
    "    fit <- train(class~., data=train, method=\"rf\", trControl=control, ntree=ntree)\n",
    "    key <- toString(ntree)\n",
    "    modellist[[key]] <- fit\n",
    "}"
   ]
  },
  {
   "cell_type": "code",
   "execution_count": 51,
   "metadata": {},
   "outputs": [
    {
     "data": {
      "text/plain": [
       "\n",
       "Call:\n",
       "summary.resamples(object = results)\n",
       "\n",
       "Models: 1000, 1500, 2000, 2500 \n",
       "Number of resamples: 4 \n",
       "\n",
       "Accuracy \n",
       "          Min.   1st Qu.    Median      Mean   3rd Qu.      Max. NA's\n",
       "1000 0.6167324 0.6197570 0.6215229 0.6222167 0.6239827 0.6290888    0\n",
       "1500 0.6197985 0.6205235 0.6207929 0.6224357 0.6227051 0.6283586    0\n",
       "2000 0.6197430 0.6200036 0.6203825 0.6223627 0.6227416 0.6289428    0\n",
       "2500 0.6184287 0.6185800 0.6189955 0.6219247 0.6223402 0.6312792    0\n",
       "\n",
       "Kappa \n",
       "          Min.   1st Qu.    Median      Mean   3rd Qu.      Max. NA's\n",
       "1000 0.2169173 0.2223498 0.2259079 0.2272757 0.2308339 0.2403697    0\n",
       "1500 0.2229026 0.2237817 0.2243508 0.2276038 0.2281729 0.2388111    0\n",
       "2000 0.2217465 0.2232867 0.2241393 0.2274766 0.2283292 0.2398812    0\n",
       "2500 0.2188622 0.2199401 0.2211857 0.2264543 0.2276998 0.2445837    0\n"
      ]
     },
     "metadata": {},
     "output_type": "display_data"
    },
    {
     "data": {
      "image/png": "[encoded data removed]",
      "text/plain": [
       "plot without title"
      ]
     },
     "metadata": {
      "image/png": {
       "height": 420,
       "width": 420
      },
      "text/plain": {
       "height": 420,
       "width": 420
      }
     },
     "output_type": "display_data"
    }
   ],
   "source": [
    "# compare results\n",
    "results <- resamples(modellist)\n",
    "summary(results)\n",
    "dotplot(results)"
   ]
  },
  {
   "cell_type": "code",
   "execution_count": 61,
   "metadata": {},
   "outputs": [],
   "source": [
    "#Selecting the best \"ntree\" value and using repeated cross validation\n",
    "ntree=500\n",
    "control <- trainControl(method=\"repeatedcv\", repeats = 2, number=2, search=\"random\")"
   ]
  },
  {
   "cell_type": "code",
   "execution_count": 62,
   "metadata": {},
   "outputs": [
    {
     "data": {
      "text/plain": [
       "Random Forest \n",
       "\n",
       "13697 samples\n",
       "  166 predictor\n",
       "    2 classes: '0', '1' \n",
       "\n",
       "No pre-processing\n",
       "Resampling: Bootstrapped (25 reps) \n",
       "Summary of sample sizes: 13697, 13697, 13697, 13697, 13697, 13697, ... \n",
       "Resampling results across tuning parameters:\n",
       "\n",
       "  mtry  Accuracy   Kappa    \n",
       "    2   0.6050766  0.1888390\n",
       "   88   0.6191695  0.2218715\n",
       "  175   0.6183905  0.2203368\n",
       "\n",
       "Accuracy was used to select the optimal model using the largest value.\n",
       "The final value used for the model was mtry = 88."
      ]
     },
     "metadata": {},
     "output_type": "display_data"
    }
   ],
   "source": [
    "##Using controls and cross validation##\n",
    "set.seed(123)\n",
    "fit.rf <- train(class~., data=train, method=\"rf\", ntree = ntree)\n",
    "fit.rf"
   ]
  },
  {
   "cell_type": "code",
   "execution_count": 63,
   "metadata": {},
   "outputs": [
    {
     "data": {
      "text/plain": [
       "Confusion Matrix and Statistics\n",
       "\n",
       "          Reference\n",
       "Prediction    0    1\n",
       "         0 1379  862\n",
       "         1 1284 2345\n",
       "                                          \n",
       "               Accuracy : 0.6344          \n",
       "                 95% CI : (0.6219, 0.6467)\n",
       "    No Information Rate : 0.5463          \n",
       "    P-Value [Acc > NIR] : < 2.2e-16       \n",
       "                                          \n",
       "                  Kappa : 0.2524          \n",
       "                                          \n",
       " Mcnemar's Test P-Value : < 2.2e-16       \n",
       "                                          \n",
       "              Precision : 0.6154          \n",
       "                 Recall : 0.5178          \n",
       "                     F1 : 0.5624          \n",
       "             Prevalence : 0.4537          \n",
       "         Detection Rate : 0.2349          \n",
       "   Detection Prevalence : 0.3818          \n",
       "      Balanced Accuracy : 0.6245          \n",
       "                                          \n",
       "       'Positive' Class : 0               \n",
       "                                          "
      ]
     },
     "metadata": {},
     "output_type": "display_data"
    },
    {
     "name": "stdout",
     "output_type": "stream",
     "text": [
      "[1] \"AUC 0.630766905840194\"\n"
     ]
    }
   ],
   "source": [
    "pred_rf1 <- predict(fit.rf, newdata = test[-1]) \n",
    "confusionMatrix(pred_rf1, test$class, mode = \"prec_recall\")\n",
    "print(paste('AUC', auc(pred_rf1, test$class)))"
   ]
  },
  {
   "cell_type": "code",
   "execution_count": 64,
   "metadata": {},
   "outputs": [],
   "source": [
    "finalrf_results <- list(confusionMatrix(pred_rf1, test$class, mode = \"prec_recall\"), paste('AUC', auc(pred_rf1, test$class)))"
   ]
  },
  {
   "cell_type": "code",
   "execution_count": 72,
   "metadata": {},
   "outputs": [
    {
     "name": "stdout",
     "output_type": "stream",
     "text": [
      "[1] \"Baseline Random Forest\"\n"
     ]
    },
    {
     "data": {
      "text/plain": [
       "[[1]]\n",
       "Confusion Matrix and Statistics\n",
       "\n",
       "          Reference\n",
       "Prediction    0    1\n",
       "         0  645  441\n",
       "         1  849 1497\n",
       "                                          \n",
       "               Accuracy : 0.6241          \n",
       "                 95% CI : (0.6077, 0.6404)\n",
       "    No Information Rate : 0.5647          \n",
       "    P-Value [Acc > NIR] : 8.886e-13       \n",
       "                                          \n",
       "                  Kappa : 0.2108          \n",
       "                                          \n",
       " Mcnemar's Test P-Value : < 2.2e-16       \n",
       "                                          \n",
       "              Precision : 0.5939          \n",
       "                 Recall : 0.4317          \n",
       "                     F1 : 0.5000          \n",
       "             Prevalence : 0.4353          \n",
       "         Detection Rate : 0.1879          \n",
       "   Detection Prevalence : 0.3164          \n",
       "      Balanced Accuracy : 0.6021          \n",
       "                                          \n",
       "       'Positive' Class : 0               \n",
       "                                          \n",
       "\n",
       "[[2]]\n",
       "[1] \"AUC 0.616015034406749\"\n"
      ]
     },
     "metadata": {},
     "output_type": "display_data"
    },
    {
     "name": "stdout",
     "output_type": "stream",
     "text": [
      "[1] \"Final Random Forest\"\n"
     ]
    },
    {
     "data": {
      "text/plain": [
       "[[1]]\n",
       "Confusion Matrix and Statistics\n",
       "\n",
       "          Reference\n",
       "Prediction    0    1\n",
       "         0 1379  862\n",
       "         1 1284 2345\n",
       "                                          \n",
       "               Accuracy : 0.6344          \n",
       "                 95% CI : (0.6219, 0.6467)\n",
       "    No Information Rate : 0.5463          \n",
       "    P-Value [Acc > NIR] : < 2.2e-16       \n",
       "                                          \n",
       "                  Kappa : 0.2524          \n",
       "                                          \n",
       " Mcnemar's Test P-Value : < 2.2e-16       \n",
       "                                          \n",
       "              Precision : 0.6154          \n",
       "                 Recall : 0.5178          \n",
       "                     F1 : 0.5624          \n",
       "             Prevalence : 0.4537          \n",
       "         Detection Rate : 0.2349          \n",
       "   Detection Prevalence : 0.3818          \n",
       "      Balanced Accuracy : 0.6245          \n",
       "                                          \n",
       "       'Positive' Class : 0               \n",
       "                                          \n",
       "\n",
       "[[2]]\n",
       "[1] \"AUC 0.630766905840194\"\n"
      ]
     },
     "metadata": {},
     "output_type": "display_data"
    }
   ],
   "source": [
    "#Comparing Baseline RF vs Final RF#\n",
    "print(paste(\"Baseline Random Forest\"))\n",
    "baserf_results \n",
    "\n",
    "print(paste(\"Final Random Forest\"))\n",
    "finalrf_results "
   ]
  },
  {
   "cell_type": "markdown",
   "metadata": {},
   "source": [
    "## Outcome\n",
    "At the end of this notebook, you should have a model that is performing better than the baseline model. You should be able to explain what steps you took to train this model and why each one was chosen."
   ]
  },
  {
   "cell_type": "markdown",
   "metadata": {},
   "source": [
    " 1. Splitting the Data Set: I chose to split the data set 70/30 without the \"year\" variable. This was because the high importance that the decision trees were putting on the year variable. I did not want the model to simply classify based on \"year\" since the model would not be accurate for future years then. In addition, when I looked at the possibly of splitting the data pre-2018 vs 2018, the proportions of the year 2018 were significantly different than the combined proportions for the previous four years. \n",
    " 2. Baseline Model: I chose the random forest model after looking at three different baseline models. It was the best performing model of the three.\n",
    " 3. Scaling/Imputation: I chose to scale the data set since variables were vastly different. In addition, due to the large amount of missing data I decided to use imputation. I tried using median and knn imputation and ended up choosing the knn imputation due to the variability it added to the data set vs the median.\n",
    " 4. Tuning: I chose to tune my random forest to find the bets mtry value and used this value to re-run a random forest model. Due to only a slightly increase in metric scores, I decided to then look at expanding the grid to various other ntree values. It was found, however, that the best ntree was the original value of 500. I then decided to finish the model with a cross-validation random forest since I know had time to let the model take its time in running. This model, with the appropriate ntree of 500, came back with the highest scoring metrics and thus became my final model.\n",
    " - Overall: The model ended up improving by the following: </br>\n",
    "     Baseline: ACC - .624 , F1 - .500 , AUC - .616 </br>\n",
    "     Final: ACC - .634 , F1 - .562 , AUC - .631 </br>\n",
    "     While this was not a substantial increase, the F1 score did improve by a fair amount. Originally, when I left year in, I was able to increase the ACC and AUC to over .70 and the F1 in excess of .65. However, I believe that the models were mainly using \"year\" to do this. Had an additional year been added, the model would have performed extremely bad, as was seen in the beginning when I split the data set pre-2018 vs 2018 and came back with ACC of .29 and F1 of .45. In the end, I believe this model is best suited to return consistent results on future years."
   ]
  }
 ],
 "metadata": {
  "kernelspec": {
   "display_name": "R",
   "language": "R",
   "name": "ir"
  },
  "language_info": {
   "codemirror_mode": "r",
   "file_extension": ".r",
   "mimetype": "text/x-r-source",
   "name": "R",
   "pygments_lexer": "r",
   "version": "3.6.2"
  }
 },
 "nbformat": 4,
 "nbformat_minor": 4
}
